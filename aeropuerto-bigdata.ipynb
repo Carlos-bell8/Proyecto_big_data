{
  "nbformat": 4,
  "nbformat_minor": 0,
  "metadata": {
    "colab": {
      "provenance": []
    },
    "kernelspec": {
      "name": "python3",
      "display_name": "Python 3"
    },
    "language_info": {
      "name": "python"
    }
  },
  "cells": [
    {
      "cell_type": "markdown",
      "source": [
        "# ***PySPARK***"
      ],
      "metadata": {
        "id": "qkoAzGgoCc3W"
      }
    },
    {
      "cell_type": "code",
      "execution_count": null,
      "metadata": {
        "colab": {
          "base_uri": "https://localhost:8080/"
        },
        "id": "MYkEqayCCPoK",
        "outputId": "5d839bdf-3b7d-4e5a-b42a-77f92fda8f15"
      },
      "outputs": [
        {
          "output_type": "stream",
          "name": "stdout",
          "text": [
            "Mounted at /content/drive\n"
          ]
        }
      ],
      "source": [
        "from google.colab import drive\n",
        "drive.mount('/content/drive')"
      ]
    },
    {
      "cell_type": "code",
      "source": [
        "!apt-get install openjdk-8-jdk-headless -qq > /dev/null"
      ],
      "metadata": {
        "id": "ux4FM_M3Crlf"
      },
      "execution_count": null,
      "outputs": []
    },
    {
      "cell_type": "code",
      "source": [
        "!wget -q http://apache.mirrors.pair.com/spark/spark-3.3.1/spark-3.3.1-bin-hadoop3.tgz"
      ],
      "metadata": {
        "id": "pqDsUuyjCriH"
      },
      "execution_count": null,
      "outputs": []
    },
    {
      "cell_type": "code",
      "source": [
        "!tar xf spark-3.3.1-bin-hadoop3.tgz"
      ],
      "metadata": {
        "id": "F4zlZv6VCre_"
      },
      "execution_count": null,
      "outputs": []
    },
    {
      "cell_type": "code",
      "source": [
        "!pip install -q findspark"
      ],
      "metadata": {
        "id": "54BRmnXlCrb3"
      },
      "execution_count": null,
      "outputs": []
    },
    {
      "cell_type": "code",
      "source": [
        "import os\n",
        "os.environ[\"JAVA_HOME\"] = \"/usr/lib/jvm/java-8-openjdk-amd64\"\n",
        "os.environ[\"SPARK_HOME\"] = \"/content/spark-3.3.1-bin-hadoop3\""
      ],
      "metadata": {
        "id": "BO_s6unYCrYe"
      },
      "execution_count": null,
      "outputs": []
    },
    {
      "cell_type": "code",
      "source": [
        "import findspark\n",
        "findspark.init()"
      ],
      "metadata": {
        "id": "0aEUhnSPCqrf"
      },
      "execution_count": null,
      "outputs": []
    },
    {
      "cell_type": "code",
      "source": [
        "findspark.find()"
      ],
      "metadata": {
        "colab": {
          "base_uri": "https://localhost:8080/",
          "height": 35
        },
        "id": "tpeyH_VZCqoO",
        "outputId": "8efa076b-6034-43fb-c573-164d03973ed1"
      },
      "execution_count": null,
      "outputs": [
        {
          "output_type": "execute_result",
          "data": {
            "text/plain": [
              "'/content/spark-3.3.1-bin-hadoop3'"
            ],
            "application/vnd.google.colaboratory.intrinsic+json": {
              "type": "string"
            }
          },
          "metadata": {},
          "execution_count": 8
        }
      ]
    },
    {
      "cell_type": "markdown",
      "source": [
        "Una vez tenemos instalado nuestro framework, es momento de crear nuestra variable SparkSession, de la cual parten la mayoría de funcionalidades de SparkSQL"
      ],
      "metadata": {
        "id": "Tydk0-7bC6qo"
      }
    },
    {
      "cell_type": "code",
      "source": [
        "from pyspark.sql import SparkSession\n",
        "\n",
        "spark = SparkSession.builder\\\n",
        "        .master(\"local\")\\\n",
        "        .appName(\"Pyspark_SQL\")\\\n",
        "        .config('spark.ui.port', '4050')\\\n",
        "        .getOrCreate()"
      ],
      "metadata": {
        "id": "WmfTtetUCqlG"
      },
      "execution_count": null,
      "outputs": []
    },
    {
      "cell_type": "code",
      "source": [
        "spark"
      ],
      "metadata": {
        "colab": {
          "base_uri": "https://localhost:8080/",
          "height": 219
        },
        "id": "-fejP24MCqh9",
        "outputId": "b0953a21-e507-46df-9fb3-c97e789f98dc"
      },
      "execution_count": null,
      "outputs": [
        {
          "output_type": "execute_result",
          "data": {
            "text/plain": [
              "<pyspark.sql.session.SparkSession at 0x7f9878245ac0>"
            ],
            "text/html": [
              "\n",
              "            <div>\n",
              "                <p><b>SparkSession - in-memory</b></p>\n",
              "                \n",
              "        <div>\n",
              "            <p><b>SparkContext</b></p>\n",
              "\n",
              "            <p><a href=\"http://fc2f288cd736:4050\">Spark UI</a></p>\n",
              "\n",
              "            <dl>\n",
              "              <dt>Version</dt>\n",
              "                <dd><code>v3.3.1</code></dd>\n",
              "              <dt>Master</dt>\n",
              "                <dd><code>local</code></dd>\n",
              "              <dt>AppName</dt>\n",
              "                <dd><code>Pyspark_SQL</code></dd>\n",
              "            </dl>\n",
              "        </div>\n",
              "        \n",
              "            </div>\n",
              "        "
            ]
          },
          "metadata": {},
          "execution_count": 10
        }
      ]
    },
    {
      "cell_type": "code",
      "source": [
        "!pwd"
      ],
      "metadata": {
        "colab": {
          "base_uri": "https://localhost:8080/"
        },
        "id": "UmWjxZhfCqb2",
        "outputId": "99bf4474-75da-468b-8889-ea86deb098c1"
      },
      "execution_count": null,
      "outputs": [
        {
          "output_type": "stream",
          "name": "stdout",
          "text": [
            "/content\n"
          ]
        }
      ]
    },
    {
      "cell_type": "code",
      "source": [
        "import pandas as pd\n",
        "\n",
        "data_path = '/content/drive/MyDrive/PROYECTO_tokio/'\n",
        "\n",
        "data = spark.read.options(inferSchema='True',delimiter=',', header=True).csv(data_path + 'Air_Traffic_Passenger_Statistics.csv')\n",
        "data.take(2)"
      ],
      "metadata": {
        "colab": {
          "base_uri": "https://localhost:8080/"
        },
        "id": "PHSY-RFgDGJC",
        "outputId": "b343d7b2-2c48-49ff-e02c-e2a2265179b7"
      },
      "execution_count": null,
      "outputs": [
        {
          "output_type": "execute_result",
          "data": {
            "text/plain": [
              "[Row(Activity Period=200507, Operating Airline='ATA Airlines', Operating Airline IATA Code='TZ', Published Airline='ATA Airlines', Published Airline IATA Code='TZ', GEO Summary='Domestic', GEO Region='US', Activity Type Code='Deplaned', Price Category Code='Low Fare', Terminal='Terminal 1', Boarding Area='B', Passenger Count=27271, Adjusted Activity Type Code='Deplaned', Adjusted Passenger Count=27271, Year=2005, Month='July'),\n",
              " Row(Activity Period=200507, Operating Airline='ATA Airlines', Operating Airline IATA Code='TZ', Published Airline='ATA Airlines', Published Airline IATA Code='TZ', GEO Summary='Domestic', GEO Region='US', Activity Type Code='Enplaned', Price Category Code='Low Fare', Terminal='Terminal 1', Boarding Area='B', Passenger Count=29131, Adjusted Activity Type Code='Enplaned', Adjusted Passenger Count=29131, Year=2005, Month='July')]"
            ]
          },
          "metadata": {},
          "execution_count": 12
        }
      ]
    },
    {
      "cell_type": "code",
      "source": [
        "data.show(10)"
      ],
      "metadata": {
        "colab": {
          "base_uri": "https://localhost:8080/"
        },
        "id": "_ZY4isnMDGFs",
        "outputId": "3562e3a0-ddb7-4044-bf7e-0d4c08919857"
      },
      "execution_count": null,
      "outputs": [
        {
          "output_type": "stream",
          "name": "stdout",
          "text": [
            "+---------------+-----------------+---------------------------+-----------------+---------------------------+-------------+-------------------+------------------+-------------------+-------------+-------------+---------------+---------------------------+------------------------+----+-----+\n",
            "|Activity Period|Operating Airline|Operating Airline IATA Code|Published Airline|Published Airline IATA Code|  GEO Summary|         GEO Region|Activity Type Code|Price Category Code|     Terminal|Boarding Area|Passenger Count|Adjusted Activity Type Code|Adjusted Passenger Count|Year|Month|\n",
            "+---------------+-----------------+---------------------------+-----------------+---------------------------+-------------+-------------------+------------------+-------------------+-------------+-------------+---------------+---------------------------+------------------------+----+-----+\n",
            "|         200507|     ATA Airlines|                         TZ|     ATA Airlines|                         TZ|     Domestic|                 US|          Deplaned|           Low Fare|   Terminal 1|            B|          27271|                   Deplaned|                   27271|2005| July|\n",
            "|         200507|     ATA Airlines|                         TZ|     ATA Airlines|                         TZ|     Domestic|                 US|          Enplaned|           Low Fare|   Terminal 1|            B|          29131|                   Enplaned|                   29131|2005| July|\n",
            "|         200507|     ATA Airlines|                         TZ|     ATA Airlines|                         TZ|     Domestic|                 US|    Thru / Transit|           Low Fare|   Terminal 1|            B|           5415|         Thru / Transit * 2|                   10830|2005| July|\n",
            "|         200507|      Air Canada |                         AC|      Air Canada |                         AC|International|             Canada|          Deplaned|              Other|   Terminal 1|            B|          35156|                   Deplaned|                   35156|2005| July|\n",
            "|         200507|      Air Canada |                         AC|      Air Canada |                         AC|International|             Canada|          Enplaned|              Other|   Terminal 1|            B|          34090|                   Enplaned|                   34090|2005| July|\n",
            "|         200507|        Air China|                         CA|        Air China|                         CA|International|               Asia|          Deplaned|              Other|International|            G|           6263|                   Deplaned|                    6263|2005| July|\n",
            "|         200507|        Air China|                         CA|        Air China|                         CA|International|               Asia|          Enplaned|              Other|International|            G|           5500|                   Enplaned|                    5500|2005| July|\n",
            "|         200507|       Air France|                         AF|       Air France|                         AF|International|             Europe|          Deplaned|              Other|International|            A|          12050|                   Deplaned|                   12050|2005| July|\n",
            "|         200507|       Air France|                         AF|       Air France|                         AF|International|             Europe|          Enplaned|              Other|International|            A|          11638|                   Enplaned|                   11638|2005| July|\n",
            "|         200507|  Air New Zealand|                         NZ|  Air New Zealand|                         NZ|International|Australia / Oceania|          Deplaned|              Other|International|            G|           4998|                   Deplaned|                    4998|2005| July|\n",
            "+---------------+-----------------+---------------------------+-----------------+---------------------------+-------------+-------------------+------------------+-------------------+-------------+-------------+---------------+---------------------------+------------------------+----+-----+\n",
            "only showing top 10 rows\n",
            "\n"
          ]
        }
      ]
    },
    {
      "cell_type": "code",
      "source": [
        "print((data.count(), len(data.columns)))"
      ],
      "metadata": {
        "colab": {
          "base_uri": "https://localhost:8080/"
        },
        "id": "GRZLVoPADGCS",
        "outputId": "f11410c0-2b1b-4ccb-bd23-b6e8d5b13c48"
      },
      "execution_count": null,
      "outputs": [
        {
          "output_type": "stream",
          "name": "stdout",
          "text": [
            "(15007, 16)\n"
          ]
        }
      ]
    },
    {
      "cell_type": "markdown",
      "source": [
        "¿Por que es categorico binario GEO SUMMARY?"
      ],
      "metadata": {
        "id": "mwi2lStKDPR7"
      }
    },
    {
      "cell_type": "code",
      "source": [
        "data.select('GEO Summary').distinct().count()"
      ],
      "metadata": {
        "colab": {
          "base_uri": "https://localhost:8080/"
        },
        "id": "Rwdb5ib9DF_D",
        "outputId": "c4eb6cb2-69ba-41d0-88c6-75be8fd9d088"
      },
      "execution_count": null,
      "outputs": [
        {
          "output_type": "execute_result",
          "data": {
            "text/plain": [
              "2"
            ]
          },
          "metadata": {},
          "execution_count": 15
        }
      ]
    },
    {
      "cell_type": "code",
      "source": [
        "data.select('Adjusted Activity Type Code').distinct().show()"
      ],
      "metadata": {
        "colab": {
          "base_uri": "https://localhost:8080/"
        },
        "id": "Xf8GnHXBDF7y",
        "outputId": "38c91d3d-d7fc-4d8a-86c5-a41908fffcd9"
      },
      "execution_count": null,
      "outputs": [
        {
          "output_type": "stream",
          "name": "stdout",
          "text": [
            "+---------------------------+\n",
            "|Adjusted Activity Type Code|\n",
            "+---------------------------+\n",
            "|                   Enplaned|\n",
            "|                   Deplaned|\n",
            "|         Thru / Transit * 2|\n",
            "+---------------------------+\n",
            "\n"
          ]
        }
      ]
    },
    {
      "cell_type": "code",
      "source": [
        "data.select('Price Category Code').distinct().count()"
      ],
      "metadata": {
        "colab": {
          "base_uri": "https://localhost:8080/"
        },
        "id": "KjQMTsNbDF4a",
        "outputId": "e212cc26-312d-4132-a194-48613081c730"
      },
      "execution_count": null,
      "outputs": [
        {
          "output_type": "execute_result",
          "data": {
            "text/plain": [
              "2"
            ]
          },
          "metadata": {},
          "execution_count": 17
        }
      ]
    },
    {
      "cell_type": "code",
      "source": [
        "data.select('Terminal').distinct().count()"
      ],
      "metadata": {
        "colab": {
          "base_uri": "https://localhost:8080/"
        },
        "id": "I7lBRaHfDF1K",
        "outputId": "7a4f25a7-280f-4fbd-eddc-d3f8a0d7b29f"
      },
      "execution_count": null,
      "outputs": [
        {
          "output_type": "execute_result",
          "data": {
            "text/plain": [
              "5"
            ]
          },
          "metadata": {},
          "execution_count": 18
        }
      ]
    },
    {
      "cell_type": "code",
      "source": [
        "data.select('Year').distinct().show()"
      ],
      "metadata": {
        "colab": {
          "base_uri": "https://localhost:8080/"
        },
        "id": "94fZBVUADFx5",
        "outputId": "b67cd37f-2d54-4361-a9d0-a9294f5ac0f8"
      },
      "execution_count": null,
      "outputs": [
        {
          "output_type": "stream",
          "name": "stdout",
          "text": [
            "+----+\n",
            "|Year|\n",
            "+----+\n",
            "|2007|\n",
            "|2015|\n",
            "|2006|\n",
            "|2013|\n",
            "|2014|\n",
            "|2012|\n",
            "|2009|\n",
            "|2016|\n",
            "|2005|\n",
            "|2010|\n",
            "|2011|\n",
            "|2008|\n",
            "+----+\n",
            "\n"
          ]
        }
      ]
    },
    {
      "cell_type": "code",
      "source": [
        "data.select('Terminal').distinct().show()"
      ],
      "metadata": {
        "colab": {
          "base_uri": "https://localhost:8080/"
        },
        "id": "QNje9Hq9DFuh",
        "outputId": "47674cdf-2a51-4cb3-dda9-1dd2ba04b053"
      },
      "execution_count": null,
      "outputs": [
        {
          "output_type": "stream",
          "name": "stdout",
          "text": [
            "+-------------+\n",
            "|     Terminal|\n",
            "+-------------+\n",
            "|International|\n",
            "|        Other|\n",
            "|   Terminal 3|\n",
            "|   Terminal 2|\n",
            "|   Terminal 1|\n",
            "+-------------+\n",
            "\n"
          ]
        }
      ]
    },
    {
      "cell_type": "code",
      "source": [
        "data.select('Boarding Area').distinct().show()"
      ],
      "metadata": {
        "colab": {
          "base_uri": "https://localhost:8080/"
        },
        "id": "9yd7LcdVDFrJ",
        "outputId": "fad75460-97e0-47aa-ce03-41f7059b1066"
      },
      "execution_count": null,
      "outputs": [
        {
          "output_type": "stream",
          "name": "stdout",
          "text": [
            "+-------------+\n",
            "|Boarding Area|\n",
            "+-------------+\n",
            "|            F|\n",
            "|            E|\n",
            "|            B|\n",
            "|            D|\n",
            "|        Other|\n",
            "|            C|\n",
            "|            A|\n",
            "|            G|\n",
            "+-------------+\n",
            "\n"
          ]
        }
      ]
    },
    {
      "cell_type": "code",
      "source": [
        "data.select('Month').distinct().count()"
      ],
      "metadata": {
        "colab": {
          "base_uri": "https://localhost:8080/"
        },
        "id": "Fh-Mij9tDFn7",
        "outputId": "1650729b-5fc7-4c25-ad68-f3f9deb49285"
      },
      "execution_count": null,
      "outputs": [
        {
          "output_type": "execute_result",
          "data": {
            "text/plain": [
              "12"
            ]
          },
          "metadata": {},
          "execution_count": 22
        }
      ]
    },
    {
      "cell_type": "markdown",
      "source": [
        "# ***3-¿Cuántas compañías diferentes aparecen en el fichero?***"
      ],
      "metadata": {
        "id": "Md3IKOcwDjCH"
      }
    },
    {
      "cell_type": "code",
      "source": [
        "data.select('Operating Airline').distinct().count()"
      ],
      "metadata": {
        "colab": {
          "base_uri": "https://localhost:8080/"
        },
        "id": "WZrSw6zIDFkZ",
        "outputId": "292960d3-a1b6-4c9b-913f-810be054ba4d"
      },
      "execution_count": null,
      "outputs": [
        {
          "output_type": "execute_result",
          "data": {
            "text/plain": [
              "77"
            ]
          },
          "metadata": {},
          "execution_count": 23
        }
      ]
    },
    {
      "cell_type": "code",
      "source": [
        "data_year_order = data.sort(['Year'], ascending=False).select(['Year'])"
      ],
      "metadata": {
        "id": "pPB9I-5XDFhB"
      },
      "execution_count": null,
      "outputs": []
    },
    {
      "cell_type": "code",
      "source": [
        "data_year_order.show(3)"
      ],
      "metadata": {
        "colab": {
          "base_uri": "https://localhost:8080/"
        },
        "id": "JZGxxAZDDFdj",
        "outputId": "11f42f29-1907-4706-a018-e234da3abd89"
      },
      "execution_count": null,
      "outputs": [
        {
          "output_type": "stream",
          "name": "stdout",
          "text": [
            "+----+\n",
            "|Year|\n",
            "+----+\n",
            "|2016|\n",
            "|2016|\n",
            "|2016|\n",
            "+----+\n",
            "only showing top 3 rows\n",
            "\n"
          ]
        }
      ]
    },
    {
      "cell_type": "code",
      "source": [
        "data.select(['Operating Airline']).distinct().count()"
      ],
      "metadata": {
        "colab": {
          "base_uri": "https://localhost:8080/"
        },
        "id": "_jf0jshADFaS",
        "outputId": "d589b258-a132-44c6-f669-c21e9b0ae1ab"
      },
      "execution_count": null,
      "outputs": [
        {
          "output_type": "execute_result",
          "data": {
            "text/plain": [
              "77"
            ]
          },
          "metadata": {},
          "execution_count": 26
        }
      ]
    },
    {
      "cell_type": "markdown",
      "source": [
        "# ***4-¿Cuántos pasajeros tienen de media los vuelos de cada compañía?***"
      ],
      "metadata": {
        "id": "csSA0E99DzaI"
      }
    },
    {
      "cell_type": "code",
      "source": [
        "data.groupby('Operating Airline').agg({'Passenger Count': 'mean'}).collect()"
      ],
      "metadata": {
        "colab": {
          "base_uri": "https://localhost:8080/"
        },
        "id": "xvytlVSxDFXC",
        "outputId": "a903433d-a57d-4178-ffb1-f04222b8ca37"
      },
      "execution_count": null,
      "outputs": [
        {
          "output_type": "execute_result",
          "data": {
            "text/plain": [
              "[Row(Operating Airline='Icelandair', avg(Passenger Count)=2799.7),\n",
              " Row(Operating Airline='Ameriflight', avg(Passenger Count)=5.0),\n",
              " Row(Operating Airline='Cathay Pacific', avg(Passenger Count)=17121.325581395347),\n",
              " Row(Operating Airline='Aeromexico', avg(Passenger Count)=5463.822222222222),\n",
              " Row(Operating Airline='Etihad Airways', avg(Passenger Count)=6476.088235294118),\n",
              " Row(Operating Airline='Philippine Airlines', avg(Passenger Count)=10248.635658914729),\n",
              " Row(Operating Airline='United Airlines - Pre 07/01/2013', avg(Passenger Count)=48915.46750232126),\n",
              " Row(Operating Airline='Turkish Airlines', avg(Passenger Count)=8162.416666666667),\n",
              " Row(Operating Airline='Swiss International', avg(Passenger Count)=6061.640287769784),\n",
              " Row(Operating Airline='Independence Air', avg(Passenger Count)=6391.3),\n",
              " Row(Operating Airline='Miami Air International', avg(Passenger Count)=107.375),\n",
              " Row(Operating Airline='Air France', avg(Passenger Count)=11589.077519379845),\n",
              " Row(Operating Airline='Japan Airlines', avg(Passenger Count)=6470.332046332046),\n",
              " Row(Operating Airline='Midwest Airlines', avg(Passenger Count)=3883.0),\n",
              " Row(Operating Airline='Atlas Air, Inc', avg(Passenger Count)=34.0),\n",
              " Row(Operating Airline='JetBlue Airways ', avg(Passenger Count)=35261.13963963964),\n",
              " Row(Operating Airline='China Eastern', avg(Passenger Count)=5498.402777777777),\n",
              " Row(Operating Airline='Mexicana Airlines', avg(Passenger Count)=7993.806451612903),\n",
              " Row(Operating Airline='Air Canada ', avg(Passenger Count)=18251.560109289618),\n",
              " Row(Operating Airline='Allegiant Air', avg(Passenger Count)=1516.8125),\n",
              " Row(Operating Airline='Northwest Airlines', avg(Passenger Count)=26109.25),\n",
              " Row(Operating Airline='Sun Country Airlines', avg(Passenger Count)=3992.652),\n",
              " Row(Operating Airline='Evergreen International Airlines', avg(Passenger Count)=2.0),\n",
              " Row(Operating Airline='Horizon Air ', avg(Passenger Count)=5577.583333333333),\n",
              " Row(Operating Airline='United Airlines', avg(Passenger Count)=72732.05829596413),\n",
              " Row(Operating Airline='World Airways', avg(Passenger Count)=261.6666666666667),\n",
              " Row(Operating Airline='Virgin America', avg(Passenger Count)=74405.35359116022),\n",
              " Row(Operating Airline='Jet Airways', avg(Passenger Count)=4280.3125),\n",
              " Row(Operating Airline='British Airways', avg(Passenger Count)=17625.124031007752),\n",
              " Row(Operating Airline='Swissport USA', avg(Passenger Count)=258.6),\n",
              " Row(Operating Airline='Servisair', avg(Passenger Count)=90.05555555555556),\n",
              " Row(Operating Airline='Hawaiian Airlines', avg(Passenger Count)=8282.186046511628),\n",
              " Row(Operating Airline='Virgin Atlantic', avg(Passenger Count)=9847.10465116279),\n",
              " Row(Operating Airline='SAS Airlines', avg(Passenger Count)=5865.847222222223),\n",
              " Row(Operating Airline='TACA', avg(Passenger Count)=5066.197674418605),\n",
              " Row(Operating Airline='KLM Royal Dutch Airlines', avg(Passenger Count)=9221.813953488372),\n",
              " Row(Operating Airline='Boeing Company', avg(Passenger Count)=18.0),\n",
              " Row(Operating Airline='ExpressJet Airlines', avg(Passenger Count)=5631.84375),\n",
              " Row(Operating Airline='Compass Airlines', avg(Passenger Count)=23358.55681818182),\n",
              " Row(Operating Airline='Lufthansa German Airlines', avg(Passenger Count)=19301.96511627907),\n",
              " Row(Operating Airline='SkyWest Airlines', avg(Passenger Count)=37083.83904465213),\n",
              " Row(Operating Airline='Asiana Airlines', avg(Passenger Count)=5902.961240310077),\n",
              " Row(Operating Airline='China Airlines', avg(Passenger Count)=9857.51550387597),\n",
              " Row(Operating Airline='Frontier Airlines', avg(Passenger Count)=17787.676923076924),\n",
              " Row(Operating Airline='American Airlines', avg(Passenger Count)=127164.38970588235),\n",
              " Row(Operating Airline='Air China', avg(Passenger Count)=6618.335907335907),\n",
              " Row(Operating Airline='Air Berlin', avg(Passenger Count)=2320.75),\n",
              " Row(Operating Airline='Delta Air Lines', avg(Passenger Count)=68498.49740932643),\n",
              " Row(Operating Airline='Korean Air Lines', avg(Passenger Count)=5678.461240310077),\n",
              " Row(Operating Airline='AirTran Airways', avg(Passenger Count)=10569.238938053097),\n",
              " Row(Operating Airline='All Nippon Airways', avg(Passenger Count)=6385.523255813953),\n",
              " Row(Operating Airline='Singapore Airlines', avg(Passenger Count)=14746.647286821706),\n",
              " Row(Operating Airline='China Southern', avg(Passenger Count)=4321.4375),\n",
              " Row(Operating Airline='US Airways', avg(Passenger Count)=55317.81578947369),\n",
              " Row(Operating Airline='Air Canada Jazz', avg(Passenger Count)=294.2142857142857),\n",
              " Row(Operating Airline='Emirates ', avg(Passenger Count)=9070.866666666667),\n",
              " Row(Operating Airline='Pacific Aviation', avg(Passenger Count)=160.0),\n",
              " Row(Operating Airline='Air India Limited', avg(Passenger Count)=2834.5),\n",
              " Row(Operating Airline='Atlantic Southeast Airlines', avg(Passenger Count)=2176.909090909091),\n",
              " Row(Operating Airline='American Eagle Airlines', avg(Passenger Count)=4006.5283018867926),\n",
              " Row(Operating Airline='Qantas Airways', avg(Passenger Count)=4991.2164179104475),\n",
              " Row(Operating Airline='COPA Airlines, Inc.', avg(Passenger Count)=3418.0714285714284),\n",
              " Row(Operating Airline='Alaska Airlines', avg(Passenger Count)=17251.637816245006),\n",
              " Row(Operating Airline='Xtra Airways', avg(Passenger Count)=73.0),\n",
              " Row(Operating Airline='Republic Airlines', avg(Passenger Count)=2452.5),\n",
              " Row(Operating Airline='Mesaba Airlines', avg(Passenger Count)=2864.7272727272725),\n",
              " Row(Operating Airline='Air New Zealand', avg(Passenger Count)=7452.339768339768),\n",
              " Row(Operating Airline='Spirit Airlines', avg(Passenger Count)=2921.0416666666665),\n",
              " Row(Operating Airline='ATA Airlines', avg(Passenger Count)=8744.636363636364),\n",
              " Row(Operating Airline='BelAir Airlines', avg(Passenger Count)=415.3636363636364),\n",
              " Row(Operating Airline='Aer Lingus', avg(Passenger Count)=4407.183673469388),\n",
              " Row(Operating Airline='WestJet Airlines', avg(Passenger Count)=5338.155339805825),\n",
              " Row(Operating Airline='Mesa Airlines', avg(Passenger Count)=3710.5811965811968),\n",
              " Row(Operating Airline='LAN Peru', avg(Passenger Count)=2786.011111111111),\n",
              " Row(Operating Airline='Southwest Airlines', avg(Passenger Count)=81188.15857605178),\n",
              " Row(Operating Airline='XL Airways France', avg(Passenger Count)=2223.1612903225805),\n",
              " Row(Operating Airline='EVA Airways', avg(Passenger Count)=13116.356589147286)]"
            ]
          },
          "metadata": {},
          "execution_count": 27
        }
      ]
    },
    {
      "cell_type": "markdown",
      "source": [
        "# ***5-Eliminaremos los registros duplicados por el campo “GEO Región”,manteniendo únicamente aquel con mayor número de pasajeros***"
      ],
      "metadata": {
        "id": "1IDz5bjEEHcy"
      }
    },
    {
      "cell_type": "code",
      "source": [
        "data_passenger_order = data.sort(['Passenger Count'], ascending=False).select(['GEO Region','Passenger Count', 'Month', 'Year'])\n",
        "data_passenger_order.show()"
      ],
      "metadata": {
        "colab": {
          "base_uri": "https://localhost:8080/"
        },
        "id": "-HtJG2E_EEKC",
        "outputId": "469deca1-f236-40e5-ed1c-c8d00a89f12d"
      },
      "execution_count": null,
      "outputs": [
        {
          "output_type": "stream",
          "name": "stdout",
          "text": [
            "+----------+---------------+---------+----+\n",
            "|GEO Region|Passenger Count|    Month|Year|\n",
            "+----------+---------------+---------+----+\n",
            "|        US|         659837|   August|2013|\n",
            "|        US|         629003|   August|2013|\n",
            "|        US|         625885|     July|2013|\n",
            "|        US|         622871|     July|2013|\n",
            "|        US|         573619|  October|2013|\n",
            "|        US|         558030|  October|2013|\n",
            "|        US|         556208| December|2013|\n",
            "|        US|         553433| December|2013|\n",
            "|        US|         548374|September|2013|\n",
            "|        US|         544302|September|2013|\n",
            "|        US|         522199| November|2013|\n",
            "|        US|         506882| November|2013|\n",
            "|        US|         482915|  January|2014|\n",
            "|        US|         473688|  January|2014|\n",
            "|        US|         443656|     July|2005|\n",
            "|        US|         437967|     July|2011|\n",
            "|        US|         433650|     June|2006|\n",
            "|        US|         430111|   August|2011|\n",
            "|        US|         428431|     July|2011|\n",
            "|        US|         428141|   August|2010|\n",
            "+----------+---------------+---------+----+\n",
            "only showing top 20 rows\n",
            "\n"
          ]
        }
      ]
    },
    {
      "cell_type": "code",
      "source": [
        "data_region_unique_max_passenger = data_passenger_order.drop_duplicates(subset=['GEO Region']).select(['GEO Region','Passenger Count'])\n",
        "data_region_unique_max_passenger.show()"
      ],
      "metadata": {
        "colab": {
          "base_uri": "https://localhost:8080/"
        },
        "id": "g5m0XYaoEEGy",
        "outputId": "8e47ec5b-3594-4d5a-e4dd-42abe8883ea8"
      },
      "execution_count": null,
      "outputs": [
        {
          "output_type": "stream",
          "name": "stdout",
          "text": [
            "+-------------------+---------------+\n",
            "|         GEO Region|Passenger Count|\n",
            "+-------------------+---------------+\n",
            "|             Europe|          48136|\n",
            "|    Central America|           8970|\n",
            "|                 US|         659837|\n",
            "|      South America|           3685|\n",
            "|             Mexico|          29206|\n",
            "|        Middle East|          14769|\n",
            "|             Canada|          39798|\n",
            "|Australia / Oceania|          12973|\n",
            "|               Asia|          86398|\n",
            "+-------------------+---------------+\n",
            "\n"
          ]
        }
      ]
    },
    {
      "cell_type": "markdown",
      "source": [
        "Como ejercicio de análisis adicional, se estudia, en primer lugar qué meses y años se tuvieron la máxima cantidad de pasajeros, en cada región"
      ],
      "metadata": {
        "id": "SSO5B7kdEqzI"
      }
    },
    {
      "cell_type": "code",
      "source": [
        "data_passenger_order.drop_duplicates(subset=['GEO Region']).show()"
      ],
      "metadata": {
        "colab": {
          "base_uri": "https://localhost:8080/"
        },
        "id": "-zxrdgljED7b",
        "outputId": "7065882d-e9b3-4e90-a6ae-43ece4b4a3c4"
      },
      "execution_count": null,
      "outputs": [
        {
          "output_type": "stream",
          "name": "stdout",
          "text": [
            "+-------------------+---------------+-------+----+\n",
            "|         GEO Region|Passenger Count|  Month|Year|\n",
            "+-------------------+---------------+-------+----+\n",
            "|               Asia|          86398| August|2007|\n",
            "|Australia / Oceania|          12973|January|2015|\n",
            "|             Canada|          39798| August|2007|\n",
            "|    Central America|           8970|October|2014|\n",
            "|             Europe|          48136|   July|2015|\n",
            "|             Mexico|          29206|   July|2014|\n",
            "|        Middle East|          14769|   July|2015|\n",
            "|      South America|           3685|January|2011|\n",
            "|                 US|         659837| August|2013|\n",
            "+-------------------+---------------+-------+----+\n",
            "\n"
          ]
        }
      ]
    },
    {
      "cell_type": "markdown",
      "source": [
        "Además, se quiere analizar, qué cantidad de embarques, desembarques y tránsitos hubo en cada región durante ese periodo de máxima cantidad de pasajeros"
      ],
      "metadata": {
        "id": "VhNTGj9AEurf"
      }
    },
    {
      "cell_type": "code",
      "source": [
        "data.show(3)"
      ],
      "metadata": {
        "colab": {
          "base_uri": "https://localhost:8080/"
        },
        "id": "hlJbF3VpED4j",
        "outputId": "e4d4a1d4-2cdd-4086-d759-d5d3865c6bf9"
      },
      "execution_count": null,
      "outputs": [
        {
          "output_type": "stream",
          "name": "stdout",
          "text": [
            "+---------------+-----------------+---------------------------+-----------------+---------------------------+-----------+----------+------------------+-------------------+----------+-------------+---------------+---------------------------+------------------------+----+-----+\n",
            "|Activity Period|Operating Airline|Operating Airline IATA Code|Published Airline|Published Airline IATA Code|GEO Summary|GEO Region|Activity Type Code|Price Category Code|  Terminal|Boarding Area|Passenger Count|Adjusted Activity Type Code|Adjusted Passenger Count|Year|Month|\n",
            "+---------------+-----------------+---------------------------+-----------------+---------------------------+-----------+----------+------------------+-------------------+----------+-------------+---------------+---------------------------+------------------------+----+-----+\n",
            "|         200507|     ATA Airlines|                         TZ|     ATA Airlines|                         TZ|   Domestic|        US|          Deplaned|           Low Fare|Terminal 1|            B|          27271|                   Deplaned|                   27271|2005| July|\n",
            "|         200507|     ATA Airlines|                         TZ|     ATA Airlines|                         TZ|   Domestic|        US|          Enplaned|           Low Fare|Terminal 1|            B|          29131|                   Enplaned|                   29131|2005| July|\n",
            "|         200507|     ATA Airlines|                         TZ|     ATA Airlines|                         TZ|   Domestic|        US|    Thru / Transit|           Low Fare|Terminal 1|            B|           5415|         Thru / Transit * 2|                   10830|2005| July|\n",
            "+---------------+-----------------+---------------------------+-----------------+---------------------------+-----------+----------+------------------+-------------------+----------+-------------+---------------+---------------------------+------------------------+----+-----+\n",
            "only showing top 3 rows\n",
            "\n"
          ]
        }
      ]
    },
    {
      "cell_type": "markdown",
      "source": [
        "# ***MATRIZ***"
      ],
      "metadata": {
        "id": "bjF-UGzRFqcv"
      }
    },
    {
      "cell_type": "code",
      "source": [
        "data_new = data.select(['GEO Region', 'Passenger Count', 'Activity Type Code', 'Month', 'Year'])"
      ],
      "metadata": {
        "id": "4gW7Ak-LED1l"
      },
      "execution_count": null,
      "outputs": []
    },
    {
      "cell_type": "code",
      "source": [
        "data_us = data_new[(data_new['GEO Region']=='US')&(data_new['Month']=='August')&(data_new['Year']==2013)]\n",
        "data_us.count()"
      ],
      "metadata": {
        "colab": {
          "base_uri": "https://localhost:8080/"
        },
        "id": "ggNCREQtEDyi",
        "outputId": "5ecddeb0-375e-47c7-d56a-a34a0d9e5d8f"
      },
      "execution_count": null,
      "outputs": [
        {
          "output_type": "execute_result",
          "data": {
            "text/plain": [
              "38"
            ]
          },
          "metadata": {},
          "execution_count": 35
        }
      ]
    },
    {
      "cell_type": "code",
      "source": [
        "data_us.show(40)"
      ],
      "metadata": {
        "colab": {
          "base_uri": "https://localhost:8080/"
        },
        "id": "vKjSQvmbEDv2",
        "outputId": "7f0c36d8-d09a-4af3-eca9-19cdeb488059"
      },
      "execution_count": null,
      "outputs": [
        {
          "output_type": "stream",
          "name": "stdout",
          "text": [
            "+----------+---------------+------------------+------+----+\n",
            "|GEO Region|Passenger Count|Activity Type Code| Month|Year|\n",
            "+----------+---------------+------------------+------+----+\n",
            "|        US|          10735|          Deplaned|August|2013|\n",
            "|        US|          10796|          Enplaned|August|2013|\n",
            "|        US|            335|          Deplaned|August|2013|\n",
            "|        US|           3918|          Enplaned|August|2013|\n",
            "|        US|          47134|          Deplaned|August|2013|\n",
            "|        US|          41419|          Enplaned|August|2013|\n",
            "|        US|         134893|          Deplaned|August|2013|\n",
            "|        US|         136380|          Enplaned|August|2013|\n",
            "|        US|         153474|          Deplaned|August|2013|\n",
            "|        US|         156176|          Enplaned|August|2013|\n",
            "|        US|          17546|          Deplaned|August|2013|\n",
            "|        US|          17584|          Enplaned|August|2013|\n",
            "|        US|           8845|          Deplaned|August|2013|\n",
            "|        US|           8571|          Enplaned|August|2013|\n",
            "|        US|           5703|          Deplaned|August|2013|\n",
            "|        US|           6000|          Enplaned|August|2013|\n",
            "|        US|          51419|          Deplaned|August|2013|\n",
            "|        US|          52071|          Enplaned|August|2013|\n",
            "|        US|          93753|          Deplaned|August|2013|\n",
            "|        US|          94651|          Enplaned|August|2013|\n",
            "|        US|          22938|          Deplaned|August|2013|\n",
            "|        US|          21776|          Enplaned|August|2013|\n",
            "|        US|          47014|          Deplaned|August|2013|\n",
            "|        US|          48879|          Enplaned|August|2013|\n",
            "|        US|         141269|          Deplaned|August|2013|\n",
            "|        US|         143435|          Enplaned|August|2013|\n",
            "|        US|            254|    Thru / Transit|August|2013|\n",
            "|        US|           7631|          Deplaned|August|2013|\n",
            "|        US|           7869|          Enplaned|August|2013|\n",
            "|        US|          76465|          Deplaned|August|2013|\n",
            "|        US|          76637|          Enplaned|August|2013|\n",
            "|        US|          29185|          Deplaned|August|2013|\n",
            "|        US|          44096|          Enplaned|August|2013|\n",
            "|        US|         659837|          Deplaned|August|2013|\n",
            "|        US|         629003|          Enplaned|August|2013|\n",
            "|        US|           3788|    Thru / Transit|August|2013|\n",
            "|        US|         175196|          Deplaned|August|2013|\n",
            "|        US|         175429|          Enplaned|August|2013|\n",
            "+----------+---------------+------------------+------+----+\n",
            "\n"
          ]
        }
      ]
    },
    {
      "cell_type": "code",
      "source": [
        "data_us.groupby('Activity Type Code').agg({'Activity Type Code': 'count'}).collect()"
      ],
      "metadata": {
        "colab": {
          "base_uri": "https://localhost:8080/"
        },
        "id": "U-piign3EDsz",
        "outputId": "b37d0a72-0305-4d06-8d92-4e7362946957"
      },
      "execution_count": null,
      "outputs": [
        {
          "output_type": "execute_result",
          "data": {
            "text/plain": [
              "[Row(Activity Type Code='Enplaned', count(Activity Type Code)=18),\n",
              " Row(Activity Type Code='Thru / Transit', count(Activity Type Code)=2),\n",
              " Row(Activity Type Code='Deplaned', count(Activity Type Code)=18)]"
            ]
          },
          "metadata": {},
          "execution_count": 37
        }
      ]
    },
    {
      "cell_type": "code",
      "source": [
        "data_us2 = data_new[(data_new['GEO Region']=='US')]\n",
        "data_us2.count()"
      ],
      "metadata": {
        "colab": {
          "base_uri": "https://localhost:8080/"
        },
        "id": "Aebltq_OEDp2",
        "outputId": "c74a6b1c-ebd7-4495-d931-fd02bed76a86"
      },
      "execution_count": null,
      "outputs": [
        {
          "output_type": "execute_result",
          "data": {
            "text/plain": [
              "5797"
            ]
          },
          "metadata": {},
          "execution_count": 38
        }
      ]
    },
    {
      "cell_type": "code",
      "source": [
        "data_us2.groupby('Year').agg({'Activity Type Code': 'count'}).collect()"
      ],
      "metadata": {
        "colab": {
          "base_uri": "https://localhost:8080/"
        },
        "id": "Fstk0PFTEDnC",
        "outputId": "9ab739c7-61a9-45e0-af86-ac8a3d46ef19"
      },
      "execution_count": null,
      "outputs": [
        {
          "output_type": "execute_result",
          "data": {
            "text/plain": [
              "[Row(Year=2007, count(Activity Type Code)=625),\n",
              " Row(Year=2015, count(Activity Type Code)=478),\n",
              " Row(Year=2006, count(Activity Type Code)=558),\n",
              " Row(Year=2013, count(Activity Type Code)=487),\n",
              " Row(Year=2014, count(Activity Type Code)=499),\n",
              " Row(Year=2012, count(Activity Type Code)=509),\n",
              " Row(Year=2009, count(Activity Type Code)=564),\n",
              " Row(Year=2016, count(Activity Type Code)=116),\n",
              " Row(Year=2005, count(Activity Type Code)=290),\n",
              " Row(Year=2010, count(Activity Type Code)=532),\n",
              " Row(Year=2011, count(Activity Type Code)=519),\n",
              " Row(Year=2008, count(Activity Type Code)=620)]"
            ]
          },
          "metadata": {},
          "execution_count": 39
        }
      ]
    },
    {
      "cell_type": "code",
      "source": [
        "data_us2.groupby('Month').agg({'Activity Type Code': 'count'})"
      ],
      "metadata": {
        "colab": {
          "base_uri": "https://localhost:8080/"
        },
        "id": "5qK3rowWEDjy",
        "outputId": "869c3939-18ae-4aff-ad2a-5a7b984cee79"
      },
      "execution_count": null,
      "outputs": [
        {
          "output_type": "execute_result",
          "data": {
            "text/plain": [
              "DataFrame[Month: string, count(Activity Type Code): bigint]"
            ]
          },
          "metadata": {},
          "execution_count": 40
        }
      ]
    },
    {
      "cell_type": "markdown",
      "source": [
        "# ***Calcular la media y la desviación estándar de cada elemento del conjunto de datos***"
      ],
      "metadata": {
        "id": "zxH5F1zoGLSi"
      }
    },
    {
      "cell_type": "markdown",
      "source": [
        "Passenger Count"
      ],
      "metadata": {
        "id": "PtFv6bwbGXm8"
      }
    },
    {
      "cell_type": "code",
      "source": [
        "data.agg({'Passenger Count': 'mean'}).show()"
      ],
      "metadata": {
        "colab": {
          "base_uri": "https://localhost:8080/"
        },
        "id": "IHeCNEaiGLJy",
        "outputId": "e7ee5285-b5f2-4d76-c365-8c94b8cf65af"
      },
      "execution_count": null,
      "outputs": [
        {
          "output_type": "stream",
          "name": "stdout",
          "text": [
            "+--------------------+\n",
            "|avg(Passenger Count)|\n",
            "+--------------------+\n",
            "|  29240.521090157927|\n",
            "+--------------------+\n",
            "\n"
          ]
        }
      ]
    },
    {
      "cell_type": "code",
      "source": [
        "data.agg({'Passenger Count': 'std'}).show()"
      ],
      "metadata": {
        "colab": {
          "base_uri": "https://localhost:8080/"
        },
        "id": "nmimK8hVGLHG",
        "outputId": "b87db26e-2382-4eb0-8661-171b8a1ccca4"
      },
      "execution_count": null,
      "outputs": [
        {
          "output_type": "stream",
          "name": "stdout",
          "text": [
            "+-----------------------+\n",
            "|stddev(Passenger Count)|\n",
            "+-----------------------+\n",
            "|     58319.509284123524|\n",
            "+-----------------------+\n",
            "\n"
          ]
        }
      ]
    },
    {
      "cell_type": "code",
      "source": [
        "data.agg({'Passenger Count': 'max'}).show()"
      ],
      "metadata": {
        "colab": {
          "base_uri": "https://localhost:8080/"
        },
        "id": "yNdnc2xHGLDu",
        "outputId": "e92dd070-e38e-4f57-a624-449faf116575"
      },
      "execution_count": null,
      "outputs": [
        {
          "output_type": "stream",
          "name": "stdout",
          "text": [
            "+--------------------+\n",
            "|max(Passenger Count)|\n",
            "+--------------------+\n",
            "|              659837|\n",
            "+--------------------+\n",
            "\n"
          ]
        }
      ]
    },
    {
      "cell_type": "code",
      "source": [
        "data.agg({'Passenger Count': 'min'}).show()"
      ],
      "metadata": {
        "colab": {
          "base_uri": "https://localhost:8080/"
        },
        "id": "NUXJMxN_GLAv",
        "outputId": "e93964b6-b022-4d50-c206-e7b9dd534486"
      },
      "execution_count": null,
      "outputs": [
        {
          "output_type": "stream",
          "name": "stdout",
          "text": [
            "+--------------------+\n",
            "|min(Passenger Count)|\n",
            "+--------------------+\n",
            "|                   1|\n",
            "+--------------------+\n",
            "\n"
          ]
        }
      ]
    },
    {
      "cell_type": "markdown",
      "source": [
        "Adjusted Passenger Count"
      ],
      "metadata": {
        "id": "pyb5dYRZGiB9"
      }
    },
    {
      "cell_type": "code",
      "source": [
        "data.agg({'Adjusted Passenger Count': 'mean'}).show()"
      ],
      "metadata": {
        "colab": {
          "base_uri": "https://localhost:8080/"
        },
        "id": "jzSb4gmtGK9c",
        "outputId": "3f9dd38d-2aa5-48ad-c4bb-e61f3a26e93c"
      },
      "execution_count": null,
      "outputs": [
        {
          "output_type": "stream",
          "name": "stdout",
          "text": [
            "+-----------------------------+\n",
            "|avg(Adjusted Passenger Count)|\n",
            "+-----------------------------+\n",
            "|           29331.917105350836|\n",
            "+-----------------------------+\n",
            "\n"
          ]
        }
      ]
    },
    {
      "cell_type": "code",
      "source": [
        "data.agg({'Adjusted Passenger Count': 'std'}).show()"
      ],
      "metadata": {
        "colab": {
          "base_uri": "https://localhost:8080/"
        },
        "id": "0it5nOnOGK6T",
        "outputId": "7ad21653-3f17-4ddf-bdda-f8569db7efae"
      },
      "execution_count": null,
      "outputs": [
        {
          "output_type": "stream",
          "name": "stdout",
          "text": [
            "+--------------------------------+\n",
            "|stddev(Adjusted Passenger Count)|\n",
            "+--------------------------------+\n",
            "|                58284.1822186625|\n",
            "+--------------------------------+\n",
            "\n"
          ]
        }
      ]
    },
    {
      "cell_type": "code",
      "source": [
        "data.agg({'Adjusted Passenger Count': 'max'}).show()"
      ],
      "metadata": {
        "colab": {
          "base_uri": "https://localhost:8080/"
        },
        "id": "HMUu0GbaGK2z",
        "outputId": "f8c6a561-74fe-4abb-913f-2cde69c0bbb5"
      },
      "execution_count": null,
      "outputs": [
        {
          "output_type": "stream",
          "name": "stdout",
          "text": [
            "+-----------------------------+\n",
            "|max(Adjusted Passenger Count)|\n",
            "+-----------------------------+\n",
            "|                       659837|\n",
            "+-----------------------------+\n",
            "\n"
          ]
        }
      ]
    },
    {
      "cell_type": "code",
      "source": [
        "data.agg({'Adjusted Passenger Count': 'min'}).show()"
      ],
      "metadata": {
        "colab": {
          "base_uri": "https://localhost:8080/"
        },
        "id": "mWRKECzMGKzl",
        "outputId": "1c676428-34c4-40c1-c56c-d36f3c0a5cb7"
      },
      "execution_count": null,
      "outputs": [
        {
          "output_type": "stream",
          "name": "stdout",
          "text": [
            "+-----------------------------+\n",
            "|min(Adjusted Passenger Count)|\n",
            "+-----------------------------+\n",
            "|                            1|\n",
            "+-----------------------------+\n",
            "\n"
          ]
        }
      ]
    },
    {
      "cell_type": "markdown",
      "source": [
        "importar pandas para graficar"
      ],
      "metadata": {
        "id": "yj1i9qwUGugo"
      }
    },
    {
      "cell_type": "code",
      "source": [
        "import pandas as pd\n",
        "import matplotlib.pyplot as plt"
      ],
      "metadata": {
        "id": "Vo-CXUn6GKwT"
      },
      "execution_count": null,
      "outputs": []
    },
    {
      "cell_type": "code",
      "source": [
        "pandas_data = data.toPandas()\n",
        "pandas_data"
      ],
      "metadata": {
        "colab": {
          "base_uri": "https://localhost:8080/",
          "height": 731
        },
        "id": "zhNIV4hRGKtZ",
        "outputId": "a4cb0a2d-d8a0-4c16-d121-6ccf1f607ada"
      },
      "execution_count": null,
      "outputs": [
        {
          "output_type": "execute_result",
          "data": {
            "text/plain": [
              "       Activity Period Operating Airline Operating Airline IATA Code  \\\n",
              "0               200507      ATA Airlines                          TZ   \n",
              "1               200507      ATA Airlines                          TZ   \n",
              "2               200507      ATA Airlines                          TZ   \n",
              "3               200507       Air Canada                           AC   \n",
              "4               200507       Air Canada                           AC   \n",
              "...                ...               ...                         ...   \n",
              "15002           201603    Virgin America                          VX   \n",
              "15003           201603    Virgin America                          VX   \n",
              "15004           201603    Virgin America                          VX   \n",
              "15005           201603   Virgin Atlantic                          VS   \n",
              "15006           201603   Virgin Atlantic                          VS   \n",
              "\n",
              "      Published Airline Published Airline IATA Code    GEO Summary GEO Region  \\\n",
              "0          ATA Airlines                          TZ       Domestic         US   \n",
              "1          ATA Airlines                          TZ       Domestic         US   \n",
              "2          ATA Airlines                          TZ       Domestic         US   \n",
              "3           Air Canada                           AC  International     Canada   \n",
              "4           Air Canada                           AC  International     Canada   \n",
              "...                 ...                         ...            ...        ...   \n",
              "15002    Virgin America                          VX       Domestic         US   \n",
              "15003    Virgin America                          VX  International     Mexico   \n",
              "15004    Virgin America                          VX  International     Mexico   \n",
              "15005   Virgin Atlantic                          VS  International     Europe   \n",
              "15006   Virgin Atlantic                          VS  International     Europe   \n",
              "\n",
              "      Activity Type Code Price Category Code       Terminal Boarding Area  \\\n",
              "0               Deplaned            Low Fare     Terminal 1             B   \n",
              "1               Enplaned            Low Fare     Terminal 1             B   \n",
              "2         Thru / Transit            Low Fare     Terminal 1             B   \n",
              "3               Deplaned               Other     Terminal 1             B   \n",
              "4               Enplaned               Other     Terminal 1             B   \n",
              "...                  ...                 ...            ...           ...   \n",
              "15002           Enplaned            Low Fare     Terminal 2             D   \n",
              "15003           Deplaned            Low Fare  International             A   \n",
              "15004           Enplaned            Low Fare     Terminal 2             D   \n",
              "15005           Deplaned               Other  International             A   \n",
              "15006           Enplaned               Other  International             A   \n",
              "\n",
              "       Passenger Count Adjusted Activity Type Code  Adjusted Passenger Count  \\\n",
              "0                27271                    Deplaned                     27271   \n",
              "1                29131                    Enplaned                     29131   \n",
              "2                 5415          Thru / Transit * 2                     10830   \n",
              "3                35156                    Deplaned                     35156   \n",
              "4                34090                    Enplaned                     34090   \n",
              "...                ...                         ...                       ...   \n",
              "15002           194636                    Enplaned                    194636   \n",
              "15003             4189                    Deplaned                      4189   \n",
              "15004             4693                    Enplaned                      4693   \n",
              "15005            12313                    Deplaned                     12313   \n",
              "15006            10898                    Enplaned                     10898   \n",
              "\n",
              "       Year  Month  \n",
              "0      2005   July  \n",
              "1      2005   July  \n",
              "2      2005   July  \n",
              "3      2005   July  \n",
              "4      2005   July  \n",
              "...     ...    ...  \n",
              "15002  2016  March  \n",
              "15003  2016  March  \n",
              "15004  2016  March  \n",
              "15005  2016  March  \n",
              "15006  2016  March  \n",
              "\n",
              "[15007 rows x 16 columns]"
            ],
            "text/html": [
              "\n",
              "  <div id=\"df-9aff4167-af72-4885-a393-d2b2f27de9f1\">\n",
              "    <div class=\"colab-df-container\">\n",
              "      <div>\n",
              "<style scoped>\n",
              "    .dataframe tbody tr th:only-of-type {\n",
              "        vertical-align: middle;\n",
              "    }\n",
              "\n",
              "    .dataframe tbody tr th {\n",
              "        vertical-align: top;\n",
              "    }\n",
              "\n",
              "    .dataframe thead th {\n",
              "        text-align: right;\n",
              "    }\n",
              "</style>\n",
              "<table border=\"1\" class=\"dataframe\">\n",
              "  <thead>\n",
              "    <tr style=\"text-align: right;\">\n",
              "      <th></th>\n",
              "      <th>Activity Period</th>\n",
              "      <th>Operating Airline</th>\n",
              "      <th>Operating Airline IATA Code</th>\n",
              "      <th>Published Airline</th>\n",
              "      <th>Published Airline IATA Code</th>\n",
              "      <th>GEO Summary</th>\n",
              "      <th>GEO Region</th>\n",
              "      <th>Activity Type Code</th>\n",
              "      <th>Price Category Code</th>\n",
              "      <th>Terminal</th>\n",
              "      <th>Boarding Area</th>\n",
              "      <th>Passenger Count</th>\n",
              "      <th>Adjusted Activity Type Code</th>\n",
              "      <th>Adjusted Passenger Count</th>\n",
              "      <th>Year</th>\n",
              "      <th>Month</th>\n",
              "    </tr>\n",
              "  </thead>\n",
              "  <tbody>\n",
              "    <tr>\n",
              "      <th>0</th>\n",
              "      <td>200507</td>\n",
              "      <td>ATA Airlines</td>\n",
              "      <td>TZ</td>\n",
              "      <td>ATA Airlines</td>\n",
              "      <td>TZ</td>\n",
              "      <td>Domestic</td>\n",
              "      <td>US</td>\n",
              "      <td>Deplaned</td>\n",
              "      <td>Low Fare</td>\n",
              "      <td>Terminal 1</td>\n",
              "      <td>B</td>\n",
              "      <td>27271</td>\n",
              "      <td>Deplaned</td>\n",
              "      <td>27271</td>\n",
              "      <td>2005</td>\n",
              "      <td>July</td>\n",
              "    </tr>\n",
              "    <tr>\n",
              "      <th>1</th>\n",
              "      <td>200507</td>\n",
              "      <td>ATA Airlines</td>\n",
              "      <td>TZ</td>\n",
              "      <td>ATA Airlines</td>\n",
              "      <td>TZ</td>\n",
              "      <td>Domestic</td>\n",
              "      <td>US</td>\n",
              "      <td>Enplaned</td>\n",
              "      <td>Low Fare</td>\n",
              "      <td>Terminal 1</td>\n",
              "      <td>B</td>\n",
              "      <td>29131</td>\n",
              "      <td>Enplaned</td>\n",
              "      <td>29131</td>\n",
              "      <td>2005</td>\n",
              "      <td>July</td>\n",
              "    </tr>\n",
              "    <tr>\n",
              "      <th>2</th>\n",
              "      <td>200507</td>\n",
              "      <td>ATA Airlines</td>\n",
              "      <td>TZ</td>\n",
              "      <td>ATA Airlines</td>\n",
              "      <td>TZ</td>\n",
              "      <td>Domestic</td>\n",
              "      <td>US</td>\n",
              "      <td>Thru / Transit</td>\n",
              "      <td>Low Fare</td>\n",
              "      <td>Terminal 1</td>\n",
              "      <td>B</td>\n",
              "      <td>5415</td>\n",
              "      <td>Thru / Transit * 2</td>\n",
              "      <td>10830</td>\n",
              "      <td>2005</td>\n",
              "      <td>July</td>\n",
              "    </tr>\n",
              "    <tr>\n",
              "      <th>3</th>\n",
              "      <td>200507</td>\n",
              "      <td>Air Canada</td>\n",
              "      <td>AC</td>\n",
              "      <td>Air Canada</td>\n",
              "      <td>AC</td>\n",
              "      <td>International</td>\n",
              "      <td>Canada</td>\n",
              "      <td>Deplaned</td>\n",
              "      <td>Other</td>\n",
              "      <td>Terminal 1</td>\n",
              "      <td>B</td>\n",
              "      <td>35156</td>\n",
              "      <td>Deplaned</td>\n",
              "      <td>35156</td>\n",
              "      <td>2005</td>\n",
              "      <td>July</td>\n",
              "    </tr>\n",
              "    <tr>\n",
              "      <th>4</th>\n",
              "      <td>200507</td>\n",
              "      <td>Air Canada</td>\n",
              "      <td>AC</td>\n",
              "      <td>Air Canada</td>\n",
              "      <td>AC</td>\n",
              "      <td>International</td>\n",
              "      <td>Canada</td>\n",
              "      <td>Enplaned</td>\n",
              "      <td>Other</td>\n",
              "      <td>Terminal 1</td>\n",
              "      <td>B</td>\n",
              "      <td>34090</td>\n",
              "      <td>Enplaned</td>\n",
              "      <td>34090</td>\n",
              "      <td>2005</td>\n",
              "      <td>July</td>\n",
              "    </tr>\n",
              "    <tr>\n",
              "      <th>...</th>\n",
              "      <td>...</td>\n",
              "      <td>...</td>\n",
              "      <td>...</td>\n",
              "      <td>...</td>\n",
              "      <td>...</td>\n",
              "      <td>...</td>\n",
              "      <td>...</td>\n",
              "      <td>...</td>\n",
              "      <td>...</td>\n",
              "      <td>...</td>\n",
              "      <td>...</td>\n",
              "      <td>...</td>\n",
              "      <td>...</td>\n",
              "      <td>...</td>\n",
              "      <td>...</td>\n",
              "      <td>...</td>\n",
              "    </tr>\n",
              "    <tr>\n",
              "      <th>15002</th>\n",
              "      <td>201603</td>\n",
              "      <td>Virgin America</td>\n",
              "      <td>VX</td>\n",
              "      <td>Virgin America</td>\n",
              "      <td>VX</td>\n",
              "      <td>Domestic</td>\n",
              "      <td>US</td>\n",
              "      <td>Enplaned</td>\n",
              "      <td>Low Fare</td>\n",
              "      <td>Terminal 2</td>\n",
              "      <td>D</td>\n",
              "      <td>194636</td>\n",
              "      <td>Enplaned</td>\n",
              "      <td>194636</td>\n",
              "      <td>2016</td>\n",
              "      <td>March</td>\n",
              "    </tr>\n",
              "    <tr>\n",
              "      <th>15003</th>\n",
              "      <td>201603</td>\n",
              "      <td>Virgin America</td>\n",
              "      <td>VX</td>\n",
              "      <td>Virgin America</td>\n",
              "      <td>VX</td>\n",
              "      <td>International</td>\n",
              "      <td>Mexico</td>\n",
              "      <td>Deplaned</td>\n",
              "      <td>Low Fare</td>\n",
              "      <td>International</td>\n",
              "      <td>A</td>\n",
              "      <td>4189</td>\n",
              "      <td>Deplaned</td>\n",
              "      <td>4189</td>\n",
              "      <td>2016</td>\n",
              "      <td>March</td>\n",
              "    </tr>\n",
              "    <tr>\n",
              "      <th>15004</th>\n",
              "      <td>201603</td>\n",
              "      <td>Virgin America</td>\n",
              "      <td>VX</td>\n",
              "      <td>Virgin America</td>\n",
              "      <td>VX</td>\n",
              "      <td>International</td>\n",
              "      <td>Mexico</td>\n",
              "      <td>Enplaned</td>\n",
              "      <td>Low Fare</td>\n",
              "      <td>Terminal 2</td>\n",
              "      <td>D</td>\n",
              "      <td>4693</td>\n",
              "      <td>Enplaned</td>\n",
              "      <td>4693</td>\n",
              "      <td>2016</td>\n",
              "      <td>March</td>\n",
              "    </tr>\n",
              "    <tr>\n",
              "      <th>15005</th>\n",
              "      <td>201603</td>\n",
              "      <td>Virgin Atlantic</td>\n",
              "      <td>VS</td>\n",
              "      <td>Virgin Atlantic</td>\n",
              "      <td>VS</td>\n",
              "      <td>International</td>\n",
              "      <td>Europe</td>\n",
              "      <td>Deplaned</td>\n",
              "      <td>Other</td>\n",
              "      <td>International</td>\n",
              "      <td>A</td>\n",
              "      <td>12313</td>\n",
              "      <td>Deplaned</td>\n",
              "      <td>12313</td>\n",
              "      <td>2016</td>\n",
              "      <td>March</td>\n",
              "    </tr>\n",
              "    <tr>\n",
              "      <th>15006</th>\n",
              "      <td>201603</td>\n",
              "      <td>Virgin Atlantic</td>\n",
              "      <td>VS</td>\n",
              "      <td>Virgin Atlantic</td>\n",
              "      <td>VS</td>\n",
              "      <td>International</td>\n",
              "      <td>Europe</td>\n",
              "      <td>Enplaned</td>\n",
              "      <td>Other</td>\n",
              "      <td>International</td>\n",
              "      <td>A</td>\n",
              "      <td>10898</td>\n",
              "      <td>Enplaned</td>\n",
              "      <td>10898</td>\n",
              "      <td>2016</td>\n",
              "      <td>March</td>\n",
              "    </tr>\n",
              "  </tbody>\n",
              "</table>\n",
              "<p>15007 rows × 16 columns</p>\n",
              "</div>\n",
              "      <button class=\"colab-df-convert\" onclick=\"convertToInteractive('df-9aff4167-af72-4885-a393-d2b2f27de9f1')\"\n",
              "              title=\"Convert this dataframe to an interactive table.\"\n",
              "              style=\"display:none;\">\n",
              "        \n",
              "  <svg xmlns=\"http://www.w3.org/2000/svg\" height=\"24px\"viewBox=\"0 0 24 24\"\n",
              "       width=\"24px\">\n",
              "    <path d=\"M0 0h24v24H0V0z\" fill=\"none\"/>\n",
              "    <path d=\"M18.56 5.44l.94 2.06.94-2.06 2.06-.94-2.06-.94-.94-2.06-.94 2.06-2.06.94zm-11 1L8.5 8.5l.94-2.06 2.06-.94-2.06-.94L8.5 2.5l-.94 2.06-2.06.94zm10 10l.94 2.06.94-2.06 2.06-.94-2.06-.94-.94-2.06-.94 2.06-2.06.94z\"/><path d=\"M17.41 7.96l-1.37-1.37c-.4-.4-.92-.59-1.43-.59-.52 0-1.04.2-1.43.59L10.3 9.45l-7.72 7.72c-.78.78-.78 2.05 0 2.83L4 21.41c.39.39.9.59 1.41.59.51 0 1.02-.2 1.41-.59l7.78-7.78 2.81-2.81c.8-.78.8-2.07 0-2.86zM5.41 20L4 18.59l7.72-7.72 1.47 1.35L5.41 20z\"/>\n",
              "  </svg>\n",
              "      </button>\n",
              "      \n",
              "  <style>\n",
              "    .colab-df-container {\n",
              "      display:flex;\n",
              "      flex-wrap:wrap;\n",
              "      gap: 12px;\n",
              "    }\n",
              "\n",
              "    .colab-df-convert {\n",
              "      background-color: #E8F0FE;\n",
              "      border: none;\n",
              "      border-radius: 50%;\n",
              "      cursor: pointer;\n",
              "      display: none;\n",
              "      fill: #1967D2;\n",
              "      height: 32px;\n",
              "      padding: 0 0 0 0;\n",
              "      width: 32px;\n",
              "    }\n",
              "\n",
              "    .colab-df-convert:hover {\n",
              "      background-color: #E2EBFA;\n",
              "      box-shadow: 0px 1px 2px rgba(60, 64, 67, 0.3), 0px 1px 3px 1px rgba(60, 64, 67, 0.15);\n",
              "      fill: #174EA6;\n",
              "    }\n",
              "\n",
              "    [theme=dark] .colab-df-convert {\n",
              "      background-color: #3B4455;\n",
              "      fill: #D2E3FC;\n",
              "    }\n",
              "\n",
              "    [theme=dark] .colab-df-convert:hover {\n",
              "      background-color: #434B5C;\n",
              "      box-shadow: 0px 1px 3px 1px rgba(0, 0, 0, 0.15);\n",
              "      filter: drop-shadow(0px 1px 2px rgba(0, 0, 0, 0.3));\n",
              "      fill: #FFFFFF;\n",
              "    }\n",
              "  </style>\n",
              "\n",
              "      <script>\n",
              "        const buttonEl =\n",
              "          document.querySelector('#df-9aff4167-af72-4885-a393-d2b2f27de9f1 button.colab-df-convert');\n",
              "        buttonEl.style.display =\n",
              "          google.colab.kernel.accessAllowed ? 'block' : 'none';\n",
              "\n",
              "        async function convertToInteractive(key) {\n",
              "          const element = document.querySelector('#df-9aff4167-af72-4885-a393-d2b2f27de9f1');\n",
              "          const dataTable =\n",
              "            await google.colab.kernel.invokeFunction('convertToInteractive',\n",
              "                                                     [key], {});\n",
              "          if (!dataTable) return;\n",
              "\n",
              "          const docLinkHtml = 'Like what you see? Visit the ' +\n",
              "            '<a target=\"_blank\" href=https://colab.research.google.com/notebooks/data_table.ipynb>data table notebook</a>'\n",
              "            + ' to learn more about interactive tables.';\n",
              "          element.innerHTML = '';\n",
              "          dataTable['output_type'] = 'display_data';\n",
              "          await google.colab.output.renderOutput(dataTable, element);\n",
              "          const docLink = document.createElement('div');\n",
              "          docLink.innerHTML = docLinkHtml;\n",
              "          element.appendChild(docLink);\n",
              "        }\n",
              "      </script>\n",
              "    </div>\n",
              "  </div>\n",
              "  "
            ]
          },
          "metadata": {},
          "execution_count": 50
        }
      ]
    },
    {
      "cell_type": "markdown",
      "source": [
        "D. Estandar de GEO Region Passenger Count & Adjusted Passenger Count"
      ],
      "metadata": {
        "id": "stOl52jzHNwM"
      }
    },
    {
      "cell_type": "markdown",
      "source": [
        "STD Passenger Count & Adjusted Passenger"
      ],
      "metadata": {
        "id": "HBoUroeFHSyQ"
      }
    },
    {
      "cell_type": "code",
      "source": [
        "data.groupby('GEO Region').agg({'Passenger Count': 'std'}).show()"
      ],
      "metadata": {
        "colab": {
          "base_uri": "https://localhost:8080/"
        },
        "id": "uvYgl9WxGKqD",
        "outputId": "c333b53f-b475-4c31-d6c4-4751e4ed2370"
      },
      "execution_count": null,
      "outputs": [
        {
          "output_type": "stream",
          "name": "stdout",
          "text": [
            "+-------------------+-----------------------+\n",
            "|         GEO Region|stddev(Passenger Count)|\n",
            "+-------------------+-----------------------+\n",
            "|             Europe|      8634.076411562175|\n",
            "|    Central America|     1220.8403125914656|\n",
            "|                 US|      84951.31664013123|\n",
            "|      South America|      396.7586506195526|\n",
            "|             Mexico|      5336.223001980255|\n",
            "|        Middle East|        2732.7195183986|\n",
            "|             Canada|      7833.110588404248|\n",
            "|Australia / Oceania|     2799.8406500183883|\n",
            "|               Asia|     16188.148775860833|\n",
            "+-------------------+-----------------------+\n",
            "\n"
          ]
        }
      ]
    },
    {
      "cell_type": "code",
      "source": [
        "data.groupby('GEO Region').agg({'Adjusted Passenger Count': 'std'}).show()"
      ],
      "metadata": {
        "colab": {
          "base_uri": "https://localhost:8080/"
        },
        "id": "HxP-e4nEGKm1",
        "outputId": "6bb55aaf-72bd-4295-e497-ad3053de502c"
      },
      "execution_count": null,
      "outputs": [
        {
          "output_type": "stream",
          "name": "stdout",
          "text": [
            "+-------------------+--------------------------------+\n",
            "|         GEO Region|stddev(Adjusted Passenger Count)|\n",
            "+-------------------+--------------------------------+\n",
            "|             Europe|                8602.12804355499|\n",
            "|    Central America|              1220.8403125914656|\n",
            "|                 US|               84859.99154024843|\n",
            "|      South America|               396.7586506195526|\n",
            "|             Mexico|               5274.346847133504|\n",
            "|        Middle East|                 2732.7195183986|\n",
            "|             Canada|               7805.730643538237|\n",
            "|Australia / Oceania|               2650.383265187285|\n",
            "|               Asia|              16147.810666731062|\n",
            "+-------------------+--------------------------------+\n",
            "\n"
          ]
        }
      ]
    },
    {
      "cell_type": "markdown",
      "source": [
        "Media de GEO Region"
      ],
      "metadata": {
        "id": "EvGESt4DHZfF"
      }
    },
    {
      "cell_type": "code",
      "source": [
        "data.groupby('GEO Region').agg({'Passenger Count': 'mean'}).show()"
      ],
      "metadata": {
        "colab": {
          "base_uri": "https://localhost:8080/"
        },
        "id": "1ef3DnRxGKjy",
        "outputId": "782d7eed-197d-485d-e933-365785bd2351"
      },
      "execution_count": null,
      "outputs": [
        {
          "output_type": "stream",
          "name": "stdout",
          "text": [
            "+-------------------+--------------------+\n",
            "|         GEO Region|avg(Passenger Count)|\n",
            "+-------------------+--------------------+\n",
            "|             Europe|  12755.652465294399|\n",
            "|    Central America|   4946.715328467153|\n",
            "|                 US|   58330.34345351044|\n",
            "|      South America|   2786.011111111111|\n",
            "|             Mexico|    7173.62062780269|\n",
            "|        Middle East|    8658.61214953271|\n",
            "|             Canada|     9777.9682651622|\n",
            "|Australia / Oceania|   6417.016282225238|\n",
            "|               Asia|   13435.00458295142|\n",
            "+-------------------+--------------------+\n",
            "\n"
          ]
        }
      ]
    },
    {
      "cell_type": "code",
      "source": [
        "data.groupby('GEO Region').agg({'Adjusted Passenger Count': 'mean'}).show()"
      ],
      "metadata": {
        "colab": {
          "base_uri": "https://localhost:8080/"
        },
        "id": "pzqMs7cyGKg3",
        "outputId": "c22a5616-40f1-4f41-cb82-3f53a365490d"
      },
      "execution_count": null,
      "outputs": [
        {
          "output_type": "stream",
          "name": "stdout",
          "text": [
            "+-------------------+-----------------------------+\n",
            "|         GEO Region|avg(Adjusted Passenger Count)|\n",
            "+-------------------+-----------------------------+\n",
            "|             Europe|           12779.055050263283|\n",
            "|    Central America|            4946.715328467153|\n",
            "|                 US|            58485.87838537175|\n",
            "|      South America|            2786.011111111111|\n",
            "|             Mexico|            7250.898654708521|\n",
            "|        Middle East|             8658.61214953271|\n",
            "|             Canada|             9803.79125528914|\n",
            "|Australia / Oceania|            6495.104477611941|\n",
            "|               Asia|           13508.552703941337|\n",
            "+-------------------+-----------------------------+\n",
            "\n"
          ]
        }
      ]
    },
    {
      "cell_type": "markdown",
      "source": [
        "Media GEO Region"
      ],
      "metadata": {
        "id": "LN1aABw_HiTs"
      }
    },
    {
      "cell_type": "code",
      "source": [
        "data.groupby('GEO Region').agg({'Passenger Count': 'min'}).show()"
      ],
      "metadata": {
        "colab": {
          "base_uri": "https://localhost:8080/"
        },
        "id": "vQ6iBJmeHkQd",
        "outputId": "0bc093b1-c177-4859-e823-94264f20f198"
      },
      "execution_count": null,
      "outputs": [
        {
          "output_type": "stream",
          "name": "stdout",
          "text": [
            "+-------------------+--------------------+\n",
            "|         GEO Region|min(Passenger Count)|\n",
            "+-------------------+--------------------+\n",
            "|             Europe|                  13|\n",
            "|    Central America|                 234|\n",
            "|                 US|                   1|\n",
            "|      South America|                1623|\n",
            "|             Mexico|                   1|\n",
            "|        Middle East|                  82|\n",
            "|             Canada|                   1|\n",
            "|Australia / Oceania|                  57|\n",
            "|               Asia|                   2|\n",
            "+-------------------+--------------------+\n",
            "\n"
          ]
        }
      ]
    },
    {
      "cell_type": "code",
      "source": [
        "data.groupby('GEO Region').agg({'Adjusted Passenger Count': 'min'}).show()"
      ],
      "metadata": {
        "colab": {
          "base_uri": "https://localhost:8080/"
        },
        "id": "JeGCZbvQHkNm",
        "outputId": "8754c119-7d0a-4e1f-e5d9-a981ecb1d2ed"
      },
      "execution_count": null,
      "outputs": [
        {
          "output_type": "stream",
          "name": "stdout",
          "text": [
            "+-------------------+-----------------------------+\n",
            "|         GEO Region|min(Adjusted Passenger Count)|\n",
            "+-------------------+-----------------------------+\n",
            "|             Europe|                           13|\n",
            "|    Central America|                          234|\n",
            "|                 US|                            1|\n",
            "|      South America|                         1623|\n",
            "|             Mexico|                            2|\n",
            "|        Middle East|                           82|\n",
            "|             Canada|                            2|\n",
            "|Australia / Oceania|                           57|\n",
            "|               Asia|                            2|\n",
            "+-------------------+-----------------------------+\n",
            "\n"
          ]
        }
      ]
    },
    {
      "cell_type": "markdown",
      "source": [
        "Max Geo Region"
      ],
      "metadata": {
        "id": "C0QEY0fyHtle"
      }
    },
    {
      "cell_type": "code",
      "source": [
        "data.groupby('GEO Region').agg({'Passenger Count': 'max'}).show()"
      ],
      "metadata": {
        "colab": {
          "base_uri": "https://localhost:8080/"
        },
        "id": "axJt3SSdHkKt",
        "outputId": "70d7c512-9f4a-4e76-ee19-7cc5a4837d9f"
      },
      "execution_count": null,
      "outputs": [
        {
          "output_type": "stream",
          "name": "stdout",
          "text": [
            "+-------------------+--------------------+\n",
            "|         GEO Region|max(Passenger Count)|\n",
            "+-------------------+--------------------+\n",
            "|             Europe|               48136|\n",
            "|    Central America|                8970|\n",
            "|                 US|              659837|\n",
            "|      South America|                3685|\n",
            "|             Mexico|               29206|\n",
            "|        Middle East|               14769|\n",
            "|             Canada|               39798|\n",
            "|Australia / Oceania|               12973|\n",
            "|               Asia|               86398|\n",
            "+-------------------+--------------------+\n",
            "\n"
          ]
        }
      ]
    },
    {
      "cell_type": "code",
      "source": [
        "data.groupby('GEO Region').agg({'Adjusted Passenger Count': 'max'}).show()"
      ],
      "metadata": {
        "colab": {
          "base_uri": "https://localhost:8080/"
        },
        "id": "3cc1lU39HkH1",
        "outputId": "7b4859dd-7021-4ee3-c899-6c9c7ad170a9"
      },
      "execution_count": null,
      "outputs": [
        {
          "output_type": "stream",
          "name": "stdout",
          "text": [
            "+-------------------+-----------------------------+\n",
            "|         GEO Region|max(Adjusted Passenger Count)|\n",
            "+-------------------+-----------------------------+\n",
            "|             Europe|                        48136|\n",
            "|    Central America|                         8970|\n",
            "|                 US|                       659837|\n",
            "|      South America|                         3685|\n",
            "|             Mexico|                        29206|\n",
            "|        Middle East|                        14769|\n",
            "|             Canada|                        39798|\n",
            "|Australia / Oceania|                        12973|\n",
            "|               Asia|                        86398|\n",
            "+-------------------+-----------------------------+\n",
            "\n"
          ]
        }
      ]
    },
    {
      "cell_type": "markdown",
      "source": [
        "Sum GEO Region"
      ],
      "metadata": {
        "id": "phQdfWipH0eg"
      }
    },
    {
      "cell_type": "code",
      "source": [
        "data.groupby('GEO Region').agg({'Passenger Count': 'sum'}).show()"
      ],
      "metadata": {
        "colab": {
          "base_uri": "https://localhost:8080/"
        },
        "id": "x8_aFjX5HkE7",
        "outputId": "82a32757-5bcd-492a-eac1-b8d53b0cf2be"
      },
      "execution_count": null,
      "outputs": [
        {
          "output_type": "stream",
          "name": "stdout",
          "text": [
            "+-------------------+--------------------+\n",
            "|         GEO Region|sum(Passenger Count)|\n",
            "+-------------------+--------------------+\n",
            "|             Europe|            26646558|\n",
            "|    Central America|             1355400|\n",
            "|                 US|           338141001|\n",
            "|      South America|              250741|\n",
            "|             Mexico|             7998587|\n",
            "|        Middle East|             1852943|\n",
            "|             Canada|            13865159|\n",
            "|Australia / Oceania|             4729341|\n",
            "|               Asia|            43972770|\n",
            "+-------------------+--------------------+\n",
            "\n"
          ]
        }
      ]
    },
    {
      "cell_type": "code",
      "source": [
        "data.groupby('GEO Region').agg({'Adjusted Passenger Count': 'sum'}).show()"
      ],
      "metadata": {
        "colab": {
          "base_uri": "https://localhost:8080/"
        },
        "id": "pt986waCHkCD",
        "outputId": "f2fb8641-751b-444f-f756-646c47767e95"
      },
      "execution_count": null,
      "outputs": [
        {
          "output_type": "stream",
          "name": "stdout",
          "text": [
            "+-------------------+-----------------------------+\n",
            "|         GEO Region|sum(Adjusted Passenger Count)|\n",
            "+-------------------+-----------------------------+\n",
            "|             Europe|                     26695446|\n",
            "|    Central America|                      1355400|\n",
            "|                 US|                    339042637|\n",
            "|      South America|                       250741|\n",
            "|             Mexico|                      8084752|\n",
            "|        Middle East|                      1852943|\n",
            "|             Canada|                     13901776|\n",
            "|Australia / Oceania|                      4786892|\n",
            "|               Asia|                     44213493|\n",
            "+-------------------+-----------------------------+\n",
            "\n"
          ]
        }
      ]
    },
    {
      "cell_type": "markdown",
      "source": [
        "# ***GRAFICOS CAJA Y BIGOTE***"
      ],
      "metadata": {
        "id": "OkRf4yxTIGGr"
      }
    },
    {
      "cell_type": "markdown",
      "source": [
        "Boxplot*****Passenger Count"
      ],
      "metadata": {
        "id": "9P1V7MhZIOOL"
      }
    },
    {
      "cell_type": "code",
      "source": [
        "data_passenger_europe = data.filter(data['GEO Region']=='Europe').select('Passenger Count')\n",
        "data_passenger_europe.show()"
      ],
      "metadata": {
        "colab": {
          "base_uri": "https://localhost:8080/"
        },
        "id": "ZMJclNH0Hj-8",
        "outputId": "1923ba06-9b19-4eb1-dc7c-3009f8422920"
      },
      "execution_count": null,
      "outputs": [
        {
          "output_type": "stream",
          "name": "stdout",
          "text": [
            "+---------------+\n",
            "|Passenger Count|\n",
            "+---------------+\n",
            "|          12050|\n",
            "|          11638|\n",
            "|            325|\n",
            "|            545|\n",
            "|          20632|\n",
            "|          21686|\n",
            "|           4540|\n",
            "|           4341|\n",
            "|           9978|\n",
            "|           9587|\n",
            "|          22389|\n",
            "|          20511|\n",
            "|          30796|\n",
            "|          29283|\n",
            "|            888|\n",
            "|          11684|\n",
            "|          10771|\n",
            "|          11230|\n",
            "|          11731|\n",
            "|            353|\n",
            "+---------------+\n",
            "only showing top 20 rows\n",
            "\n"
          ]
        }
      ]
    },
    {
      "cell_type": "code",
      "source": [
        "pandas_data_passenger_europe = data_passenger_europe.toPandas()\n",
        "pandas_data_passenger_europe"
      ],
      "metadata": {
        "colab": {
          "base_uri": "https://localhost:8080/",
          "height": 424
        },
        "id": "x6hpmj7jHj7W",
        "outputId": "f8b67e5c-453a-424a-bb7f-a229ad25ed60"
      },
      "execution_count": null,
      "outputs": [
        {
          "output_type": "execute_result",
          "data": {
            "text/plain": [
              "      Passenger Count\n",
              "0               12050\n",
              "1               11638\n",
              "2                 325\n",
              "3                 545\n",
              "4               20632\n",
              "...               ...\n",
              "2084             8729\n",
              "2085            20876\n",
              "2086            19711\n",
              "2087            12313\n",
              "2088            10898\n",
              "\n",
              "[2089 rows x 1 columns]"
            ],
            "text/html": [
              "\n",
              "  <div id=\"df-52da8506-8b5c-433e-84ca-187e38e2f1cd\">\n",
              "    <div class=\"colab-df-container\">\n",
              "      <div>\n",
              "<style scoped>\n",
              "    .dataframe tbody tr th:only-of-type {\n",
              "        vertical-align: middle;\n",
              "    }\n",
              "\n",
              "    .dataframe tbody tr th {\n",
              "        vertical-align: top;\n",
              "    }\n",
              "\n",
              "    .dataframe thead th {\n",
              "        text-align: right;\n",
              "    }\n",
              "</style>\n",
              "<table border=\"1\" class=\"dataframe\">\n",
              "  <thead>\n",
              "    <tr style=\"text-align: right;\">\n",
              "      <th></th>\n",
              "      <th>Passenger Count</th>\n",
              "    </tr>\n",
              "  </thead>\n",
              "  <tbody>\n",
              "    <tr>\n",
              "      <th>0</th>\n",
              "      <td>12050</td>\n",
              "    </tr>\n",
              "    <tr>\n",
              "      <th>1</th>\n",
              "      <td>11638</td>\n",
              "    </tr>\n",
              "    <tr>\n",
              "      <th>2</th>\n",
              "      <td>325</td>\n",
              "    </tr>\n",
              "    <tr>\n",
              "      <th>3</th>\n",
              "      <td>545</td>\n",
              "    </tr>\n",
              "    <tr>\n",
              "      <th>4</th>\n",
              "      <td>20632</td>\n",
              "    </tr>\n",
              "    <tr>\n",
              "      <th>...</th>\n",
              "      <td>...</td>\n",
              "    </tr>\n",
              "    <tr>\n",
              "      <th>2084</th>\n",
              "      <td>8729</td>\n",
              "    </tr>\n",
              "    <tr>\n",
              "      <th>2085</th>\n",
              "      <td>20876</td>\n",
              "    </tr>\n",
              "    <tr>\n",
              "      <th>2086</th>\n",
              "      <td>19711</td>\n",
              "    </tr>\n",
              "    <tr>\n",
              "      <th>2087</th>\n",
              "      <td>12313</td>\n",
              "    </tr>\n",
              "    <tr>\n",
              "      <th>2088</th>\n",
              "      <td>10898</td>\n",
              "    </tr>\n",
              "  </tbody>\n",
              "</table>\n",
              "<p>2089 rows × 1 columns</p>\n",
              "</div>\n",
              "      <button class=\"colab-df-convert\" onclick=\"convertToInteractive('df-52da8506-8b5c-433e-84ca-187e38e2f1cd')\"\n",
              "              title=\"Convert this dataframe to an interactive table.\"\n",
              "              style=\"display:none;\">\n",
              "        \n",
              "  <svg xmlns=\"http://www.w3.org/2000/svg\" height=\"24px\"viewBox=\"0 0 24 24\"\n",
              "       width=\"24px\">\n",
              "    <path d=\"M0 0h24v24H0V0z\" fill=\"none\"/>\n",
              "    <path d=\"M18.56 5.44l.94 2.06.94-2.06 2.06-.94-2.06-.94-.94-2.06-.94 2.06-2.06.94zm-11 1L8.5 8.5l.94-2.06 2.06-.94-2.06-.94L8.5 2.5l-.94 2.06-2.06.94zm10 10l.94 2.06.94-2.06 2.06-.94-2.06-.94-.94-2.06-.94 2.06-2.06.94z\"/><path d=\"M17.41 7.96l-1.37-1.37c-.4-.4-.92-.59-1.43-.59-.52 0-1.04.2-1.43.59L10.3 9.45l-7.72 7.72c-.78.78-.78 2.05 0 2.83L4 21.41c.39.39.9.59 1.41.59.51 0 1.02-.2 1.41-.59l7.78-7.78 2.81-2.81c.8-.78.8-2.07 0-2.86zM5.41 20L4 18.59l7.72-7.72 1.47 1.35L5.41 20z\"/>\n",
              "  </svg>\n",
              "      </button>\n",
              "      \n",
              "  <style>\n",
              "    .colab-df-container {\n",
              "      display:flex;\n",
              "      flex-wrap:wrap;\n",
              "      gap: 12px;\n",
              "    }\n",
              "\n",
              "    .colab-df-convert {\n",
              "      background-color: #E8F0FE;\n",
              "      border: none;\n",
              "      border-radius: 50%;\n",
              "      cursor: pointer;\n",
              "      display: none;\n",
              "      fill: #1967D2;\n",
              "      height: 32px;\n",
              "      padding: 0 0 0 0;\n",
              "      width: 32px;\n",
              "    }\n",
              "\n",
              "    .colab-df-convert:hover {\n",
              "      background-color: #E2EBFA;\n",
              "      box-shadow: 0px 1px 2px rgba(60, 64, 67, 0.3), 0px 1px 3px 1px rgba(60, 64, 67, 0.15);\n",
              "      fill: #174EA6;\n",
              "    }\n",
              "\n",
              "    [theme=dark] .colab-df-convert {\n",
              "      background-color: #3B4455;\n",
              "      fill: #D2E3FC;\n",
              "    }\n",
              "\n",
              "    [theme=dark] .colab-df-convert:hover {\n",
              "      background-color: #434B5C;\n",
              "      box-shadow: 0px 1px 3px 1px rgba(0, 0, 0, 0.15);\n",
              "      filter: drop-shadow(0px 1px 2px rgba(0, 0, 0, 0.3));\n",
              "      fill: #FFFFFF;\n",
              "    }\n",
              "  </style>\n",
              "\n",
              "      <script>\n",
              "        const buttonEl =\n",
              "          document.querySelector('#df-52da8506-8b5c-433e-84ca-187e38e2f1cd button.colab-df-convert');\n",
              "        buttonEl.style.display =\n",
              "          google.colab.kernel.accessAllowed ? 'block' : 'none';\n",
              "\n",
              "        async function convertToInteractive(key) {\n",
              "          const element = document.querySelector('#df-52da8506-8b5c-433e-84ca-187e38e2f1cd');\n",
              "          const dataTable =\n",
              "            await google.colab.kernel.invokeFunction('convertToInteractive',\n",
              "                                                     [key], {});\n",
              "          if (!dataTable) return;\n",
              "\n",
              "          const docLinkHtml = 'Like what you see? Visit the ' +\n",
              "            '<a target=\"_blank\" href=https://colab.research.google.com/notebooks/data_table.ipynb>data table notebook</a>'\n",
              "            + ' to learn more about interactive tables.';\n",
              "          element.innerHTML = '';\n",
              "          dataTable['output_type'] = 'display_data';\n",
              "          await google.colab.output.renderOutput(dataTable, element);\n",
              "          const docLink = document.createElement('div');\n",
              "          docLink.innerHTML = docLinkHtml;\n",
              "          element.appendChild(docLink);\n",
              "        }\n",
              "      </script>\n",
              "    </div>\n",
              "  </div>\n",
              "  "
            ]
          },
          "metadata": {},
          "execution_count": 62
        }
      ]
    },
    {
      "cell_type": "code",
      "source": [
        "myFig = plt.figure();\n",
        "bp = pandas_data_passenger_europe[\"Passenger Count\"].plot.box();\n",
        "myFig.savefig(data_path + \"europe_passenger_count_boxplot.png\", format=\"png\")"
      ],
      "metadata": {
        "colab": {
          "base_uri": "https://localhost:8080/",
          "height": 267
        },
        "id": "6a9QTc40GKdy",
        "outputId": "6f8c506d-2a45-4c97-d610-bb118447ba6f"
      },
      "execution_count": null,
      "outputs": [
        {
          "output_type": "display_data",
          "data": {
            "text/plain": [
              "<Figure size 432x288 with 1 Axes>"
            ],
            "image/png": "[encoded data removed]"
          },
          "metadata": {
            "needs_background": "light"
          }
        }
      ]
    },
    {
      "cell_type": "markdown",
      "source": [
        "Central America"
      ],
      "metadata": {
        "id": "XJXqoecFIZyv"
      }
    },
    {
      "cell_type": "code",
      "source": [
        "data_passenger_central_america = data.filter(data['GEO Region']=='Central America').select('Passenger Count')\n",
        "data_passenger_central_america.show()"
      ],
      "metadata": {
        "colab": {
          "base_uri": "https://localhost:8080/"
        },
        "id": "7pQf67EmGKar",
        "outputId": "69e6bc7e-4202-4d85-a0a6-0ada333bcfc8"
      },
      "execution_count": null,
      "outputs": [
        {
          "output_type": "stream",
          "name": "stdout",
          "text": [
            "+---------------+\n",
            "|Passenger Count|\n",
            "+---------------+\n",
            "|           6324|\n",
            "|           7031|\n",
            "|           7357|\n",
            "|           5128|\n",
            "|           3790|\n",
            "|           3529|\n",
            "|           3527|\n",
            "|           4037|\n",
            "|           4105|\n",
            "|           4259|\n",
            "|           5371|\n",
            "|           7536|\n",
            "|           6237|\n",
            "|           5321|\n",
            "|           4176|\n",
            "|           3938|\n",
            "|           4436|\n",
            "|           4395|\n",
            "|           4518|\n",
            "|           4418|\n",
            "+---------------+\n",
            "only showing top 20 rows\n",
            "\n"
          ]
        }
      ]
    },
    {
      "cell_type": "code",
      "source": [
        "pandas_data_passenger_central_america = data_passenger_central_america.toPandas()\n",
        "pandas_data_passenger_central_america"
      ],
      "metadata": {
        "colab": {
          "base_uri": "https://localhost:8080/",
          "height": 424
        },
        "id": "AfINzl5xGKXc",
        "outputId": "c68f96c8-2c66-450c-e4ff-3f2c5a2b8575"
      },
      "execution_count": null,
      "outputs": [
        {
          "output_type": "execute_result",
          "data": {
            "text/plain": [
              "     Passenger Count\n",
              "0               6324\n",
              "1               7031\n",
              "2               7357\n",
              "3               5128\n",
              "4               3790\n",
              "..               ...\n",
              "269             4741\n",
              "270             3723\n",
              "271             4173\n",
              "272             5186\n",
              "273             5405\n",
              "\n",
              "[274 rows x 1 columns]"
            ],
            "text/html": [
              "\n",
              "  <div id=\"df-70c9355f-77e6-47a8-9ab6-5081d5b5f713\">\n",
              "    <div class=\"colab-df-container\">\n",
              "      <div>\n",
              "<style scoped>\n",
              "    .dataframe tbody tr th:only-of-type {\n",
              "        vertical-align: middle;\n",
              "    }\n",
              "\n",
              "    .dataframe tbody tr th {\n",
              "        vertical-align: top;\n",
              "    }\n",
              "\n",
              "    .dataframe thead th {\n",
              "        text-align: right;\n",
              "    }\n",
              "</style>\n",
              "<table border=\"1\" class=\"dataframe\">\n",
              "  <thead>\n",
              "    <tr style=\"text-align: right;\">\n",
              "      <th></th>\n",
              "      <th>Passenger Count</th>\n",
              "    </tr>\n",
              "  </thead>\n",
              "  <tbody>\n",
              "    <tr>\n",
              "      <th>0</th>\n",
              "      <td>6324</td>\n",
              "    </tr>\n",
              "    <tr>\n",
              "      <th>1</th>\n",
              "      <td>7031</td>\n",
              "    </tr>\n",
              "    <tr>\n",
              "      <th>2</th>\n",
              "      <td>7357</td>\n",
              "    </tr>\n",
              "    <tr>\n",
              "      <th>3</th>\n",
              "      <td>5128</td>\n",
              "    </tr>\n",
              "    <tr>\n",
              "      <th>4</th>\n",
              "      <td>3790</td>\n",
              "    </tr>\n",
              "    <tr>\n",
              "      <th>...</th>\n",
              "      <td>...</td>\n",
              "    </tr>\n",
              "    <tr>\n",
              "      <th>269</th>\n",
              "      <td>4741</td>\n",
              "    </tr>\n",
              "    <tr>\n",
              "      <th>270</th>\n",
              "      <td>3723</td>\n",
              "    </tr>\n",
              "    <tr>\n",
              "      <th>271</th>\n",
              "      <td>4173</td>\n",
              "    </tr>\n",
              "    <tr>\n",
              "      <th>272</th>\n",
              "      <td>5186</td>\n",
              "    </tr>\n",
              "    <tr>\n",
              "      <th>273</th>\n",
              "      <td>5405</td>\n",
              "    </tr>\n",
              "  </tbody>\n",
              "</table>\n",
              "<p>274 rows × 1 columns</p>\n",
              "</div>\n",
              "      <button class=\"colab-df-convert\" onclick=\"convertToInteractive('df-70c9355f-77e6-47a8-9ab6-5081d5b5f713')\"\n",
              "              title=\"Convert this dataframe to an interactive table.\"\n",
              "              style=\"display:none;\">\n",
              "        \n",
              "  <svg xmlns=\"http://www.w3.org/2000/svg\" height=\"24px\"viewBox=\"0 0 24 24\"\n",
              "       width=\"24px\">\n",
              "    <path d=\"M0 0h24v24H0V0z\" fill=\"none\"/>\n",
              "    <path d=\"M18.56 5.44l.94 2.06.94-2.06 2.06-.94-2.06-.94-.94-2.06-.94 2.06-2.06.94zm-11 1L8.5 8.5l.94-2.06 2.06-.94-2.06-.94L8.5 2.5l-.94 2.06-2.06.94zm10 10l.94 2.06.94-2.06 2.06-.94-2.06-.94-.94-2.06-.94 2.06-2.06.94z\"/><path d=\"M17.41 7.96l-1.37-1.37c-.4-.4-.92-.59-1.43-.59-.52 0-1.04.2-1.43.59L10.3 9.45l-7.72 7.72c-.78.78-.78 2.05 0 2.83L4 21.41c.39.39.9.59 1.41.59.51 0 1.02-.2 1.41-.59l7.78-7.78 2.81-2.81c.8-.78.8-2.07 0-2.86zM5.41 20L4 18.59l7.72-7.72 1.47 1.35L5.41 20z\"/>\n",
              "  </svg>\n",
              "      </button>\n",
              "      \n",
              "  <style>\n",
              "    .colab-df-container {\n",
              "      display:flex;\n",
              "      flex-wrap:wrap;\n",
              "      gap: 12px;\n",
              "    }\n",
              "\n",
              "    .colab-df-convert {\n",
              "      background-color: #E8F0FE;\n",
              "      border: none;\n",
              "      border-radius: 50%;\n",
              "      cursor: pointer;\n",
              "      display: none;\n",
              "      fill: #1967D2;\n",
              "      height: 32px;\n",
              "      padding: 0 0 0 0;\n",
              "      width: 32px;\n",
              "    }\n",
              "\n",
              "    .colab-df-convert:hover {\n",
              "      background-color: #E2EBFA;\n",
              "      box-shadow: 0px 1px 2px rgba(60, 64, 67, 0.3), 0px 1px 3px 1px rgba(60, 64, 67, 0.15);\n",
              "      fill: #174EA6;\n",
              "    }\n",
              "\n",
              "    [theme=dark] .colab-df-convert {\n",
              "      background-color: #3B4455;\n",
              "      fill: #D2E3FC;\n",
              "    }\n",
              "\n",
              "    [theme=dark] .colab-df-convert:hover {\n",
              "      background-color: #434B5C;\n",
              "      box-shadow: 0px 1px 3px 1px rgba(0, 0, 0, 0.15);\n",
              "      filter: drop-shadow(0px 1px 2px rgba(0, 0, 0, 0.3));\n",
              "      fill: #FFFFFF;\n",
              "    }\n",
              "  </style>\n",
              "\n",
              "      <script>\n",
              "        const buttonEl =\n",
              "          document.querySelector('#df-70c9355f-77e6-47a8-9ab6-5081d5b5f713 button.colab-df-convert');\n",
              "        buttonEl.style.display =\n",
              "          google.colab.kernel.accessAllowed ? 'block' : 'none';\n",
              "\n",
              "        async function convertToInteractive(key) {\n",
              "          const element = document.querySelector('#df-70c9355f-77e6-47a8-9ab6-5081d5b5f713');\n",
              "          const dataTable =\n",
              "            await google.colab.kernel.invokeFunction('convertToInteractive',\n",
              "                                                     [key], {});\n",
              "          if (!dataTable) return;\n",
              "\n",
              "          const docLinkHtml = 'Like what you see? Visit the ' +\n",
              "            '<a target=\"_blank\" href=https://colab.research.google.com/notebooks/data_table.ipynb>data table notebook</a>'\n",
              "            + ' to learn more about interactive tables.';\n",
              "          element.innerHTML = '';\n",
              "          dataTable['output_type'] = 'display_data';\n",
              "          await google.colab.output.renderOutput(dataTable, element);\n",
              "          const docLink = document.createElement('div');\n",
              "          docLink.innerHTML = docLinkHtml;\n",
              "          element.appendChild(docLink);\n",
              "        }\n",
              "      </script>\n",
              "    </div>\n",
              "  </div>\n",
              "  "
            ]
          },
          "metadata": {},
          "execution_count": 65
        }
      ]
    },
    {
      "cell_type": "code",
      "source": [
        "myFig = plt.figure();\n",
        "bp = pandas_data_passenger_central_america[\"Passenger Count\"].plot.box();\n",
        "myFig.savefig(data_path + \"central_america_count_boxplot.png\", format=\"png\")"
      ],
      "metadata": {
        "colab": {
          "base_uri": "https://localhost:8080/",
          "height": 265
        },
        "id": "W8pqL5gJDFTr",
        "outputId": "051fbee3-b854-44e6-a093-76d76ab9d571"
      },
      "execution_count": null,
      "outputs": [
        {
          "output_type": "display_data",
          "data": {
            "text/plain": [
              "<Figure size 432x288 with 1 Axes>"
            ],
            "image/png": "[encoded data removed]"
          },
          "metadata": {
            "needs_background": "light"
          }
        }
      ]
    },
    {
      "cell_type": "markdown",
      "source": [
        "US"
      ],
      "metadata": {
        "id": "-vJRzEltInee"
      }
    },
    {
      "cell_type": "code",
      "source": [
        "data_passenger_us = data.filter(data['GEO Region']=='US').select('Passenger Count')\n",
        "data_passenger_us.show()"
      ],
      "metadata": {
        "colab": {
          "base_uri": "https://localhost:8080/"
        },
        "id": "E8eYhY3TIEQi",
        "outputId": "2bf53e76-4a51-43d9-ead6-c277dbc2ecd4"
      },
      "execution_count": null,
      "outputs": [
        {
          "output_type": "stream",
          "name": "stdout",
          "text": [
            "+---------------+\n",
            "|Passenger Count|\n",
            "+---------------+\n",
            "|          27271|\n",
            "|          29131|\n",
            "|           5415|\n",
            "|           8055|\n",
            "|           7984|\n",
            "|          36641|\n",
            "|          39379|\n",
            "|           3678|\n",
            "|         166577|\n",
            "|         160890|\n",
            "|           5493|\n",
            "|           5213|\n",
            "|           1552|\n",
            "|           1484|\n",
            "|          97510|\n",
            "|          93791|\n",
            "|          19234|\n",
            "|          18368|\n",
            "|           7579|\n",
            "|           7658|\n",
            "+---------------+\n",
            "only showing top 20 rows\n",
            "\n"
          ]
        }
      ]
    },
    {
      "cell_type": "code",
      "source": [
        "pandas_data_passenger_us = data_passenger_us.toPandas()\n",
        "pandas_data_passenger_us"
      ],
      "metadata": {
        "colab": {
          "base_uri": "https://localhost:8080/",
          "height": 424
        },
        "id": "aKJdYoxYIENb",
        "outputId": "7947c448-ca32-4dd5-8afa-e07fb36673b3"
      },
      "execution_count": null,
      "outputs": [
        {
          "output_type": "execute_result",
          "data": {
            "text/plain": [
              "      Passenger Count\n",
              "0               27271\n",
              "1               29131\n",
              "2                5415\n",
              "3                8055\n",
              "4                7984\n",
              "...               ...\n",
              "5792           327187\n",
              "5793           319873\n",
              "5794               39\n",
              "5795           186464\n",
              "5796           194636\n",
              "\n",
              "[5797 rows x 1 columns]"
            ],
            "text/html": [
              "\n",
              "  <div id=\"df-df34ee18-7de1-4c3a-9160-7d280cfe0b1f\">\n",
              "    <div class=\"colab-df-container\">\n",
              "      <div>\n",
              "<style scoped>\n",
              "    .dataframe tbody tr th:only-of-type {\n",
              "        vertical-align: middle;\n",
              "    }\n",
              "\n",
              "    .dataframe tbody tr th {\n",
              "        vertical-align: top;\n",
              "    }\n",
              "\n",
              "    .dataframe thead th {\n",
              "        text-align: right;\n",
              "    }\n",
              "</style>\n",
              "<table border=\"1\" class=\"dataframe\">\n",
              "  <thead>\n",
              "    <tr style=\"text-align: right;\">\n",
              "      <th></th>\n",
              "      <th>Passenger Count</th>\n",
              "    </tr>\n",
              "  </thead>\n",
              "  <tbody>\n",
              "    <tr>\n",
              "      <th>0</th>\n",
              "      <td>27271</td>\n",
              "    </tr>\n",
              "    <tr>\n",
              "      <th>1</th>\n",
              "      <td>29131</td>\n",
              "    </tr>\n",
              "    <tr>\n",
              "      <th>2</th>\n",
              "      <td>5415</td>\n",
              "    </tr>\n",
              "    <tr>\n",
              "      <th>3</th>\n",
              "      <td>8055</td>\n",
              "    </tr>\n",
              "    <tr>\n",
              "      <th>4</th>\n",
              "      <td>7984</td>\n",
              "    </tr>\n",
              "    <tr>\n",
              "      <th>...</th>\n",
              "      <td>...</td>\n",
              "    </tr>\n",
              "    <tr>\n",
              "      <th>5792</th>\n",
              "      <td>327187</td>\n",
              "    </tr>\n",
              "    <tr>\n",
              "      <th>5793</th>\n",
              "      <td>319873</td>\n",
              "    </tr>\n",
              "    <tr>\n",
              "      <th>5794</th>\n",
              "      <td>39</td>\n",
              "    </tr>\n",
              "    <tr>\n",
              "      <th>5795</th>\n",
              "      <td>186464</td>\n",
              "    </tr>\n",
              "    <tr>\n",
              "      <th>5796</th>\n",
              "      <td>194636</td>\n",
              "    </tr>\n",
              "  </tbody>\n",
              "</table>\n",
              "<p>5797 rows × 1 columns</p>\n",
              "</div>\n",
              "      <button class=\"colab-df-convert\" onclick=\"convertToInteractive('df-df34ee18-7de1-4c3a-9160-7d280cfe0b1f')\"\n",
              "              title=\"Convert this dataframe to an interactive table.\"\n",
              "              style=\"display:none;\">\n",
              "        \n",
              "  <svg xmlns=\"http://www.w3.org/2000/svg\" height=\"24px\"viewBox=\"0 0 24 24\"\n",
              "       width=\"24px\">\n",
              "    <path d=\"M0 0h24v24H0V0z\" fill=\"none\"/>\n",
              "    <path d=\"M18.56 5.44l.94 2.06.94-2.06 2.06-.94-2.06-.94-.94-2.06-.94 2.06-2.06.94zm-11 1L8.5 8.5l.94-2.06 2.06-.94-2.06-.94L8.5 2.5l-.94 2.06-2.06.94zm10 10l.94 2.06.94-2.06 2.06-.94-2.06-.94-.94-2.06-.94 2.06-2.06.94z\"/><path d=\"M17.41 7.96l-1.37-1.37c-.4-.4-.92-.59-1.43-.59-.52 0-1.04.2-1.43.59L10.3 9.45l-7.72 7.72c-.78.78-.78 2.05 0 2.83L4 21.41c.39.39.9.59 1.41.59.51 0 1.02-.2 1.41-.59l7.78-7.78 2.81-2.81c.8-.78.8-2.07 0-2.86zM5.41 20L4 18.59l7.72-7.72 1.47 1.35L5.41 20z\"/>\n",
              "  </svg>\n",
              "      </button>\n",
              "      \n",
              "  <style>\n",
              "    .colab-df-container {\n",
              "      display:flex;\n",
              "      flex-wrap:wrap;\n",
              "      gap: 12px;\n",
              "    }\n",
              "\n",
              "    .colab-df-convert {\n",
              "      background-color: #E8F0FE;\n",
              "      border: none;\n",
              "      border-radius: 50%;\n",
              "      cursor: pointer;\n",
              "      display: none;\n",
              "      fill: #1967D2;\n",
              "      height: 32px;\n",
              "      padding: 0 0 0 0;\n",
              "      width: 32px;\n",
              "    }\n",
              "\n",
              "    .colab-df-convert:hover {\n",
              "      background-color: #E2EBFA;\n",
              "      box-shadow: 0px 1px 2px rgba(60, 64, 67, 0.3), 0px 1px 3px 1px rgba(60, 64, 67, 0.15);\n",
              "      fill: #174EA6;\n",
              "    }\n",
              "\n",
              "    [theme=dark] .colab-df-convert {\n",
              "      background-color: #3B4455;\n",
              "      fill: #D2E3FC;\n",
              "    }\n",
              "\n",
              "    [theme=dark] .colab-df-convert:hover {\n",
              "      background-color: #434B5C;\n",
              "      box-shadow: 0px 1px 3px 1px rgba(0, 0, 0, 0.15);\n",
              "      filter: drop-shadow(0px 1px 2px rgba(0, 0, 0, 0.3));\n",
              "      fill: #FFFFFF;\n",
              "    }\n",
              "  </style>\n",
              "\n",
              "      <script>\n",
              "        const buttonEl =\n",
              "          document.querySelector('#df-df34ee18-7de1-4c3a-9160-7d280cfe0b1f button.colab-df-convert');\n",
              "        buttonEl.style.display =\n",
              "          google.colab.kernel.accessAllowed ? 'block' : 'none';\n",
              "\n",
              "        async function convertToInteractive(key) {\n",
              "          const element = document.querySelector('#df-df34ee18-7de1-4c3a-9160-7d280cfe0b1f');\n",
              "          const dataTable =\n",
              "            await google.colab.kernel.invokeFunction('convertToInteractive',\n",
              "                                                     [key], {});\n",
              "          if (!dataTable) return;\n",
              "\n",
              "          const docLinkHtml = 'Like what you see? Visit the ' +\n",
              "            '<a target=\"_blank\" href=https://colab.research.google.com/notebooks/data_table.ipynb>data table notebook</a>'\n",
              "            + ' to learn more about interactive tables.';\n",
              "          element.innerHTML = '';\n",
              "          dataTable['output_type'] = 'display_data';\n",
              "          await google.colab.output.renderOutput(dataTable, element);\n",
              "          const docLink = document.createElement('div');\n",
              "          docLink.innerHTML = docLinkHtml;\n",
              "          element.appendChild(docLink);\n",
              "        }\n",
              "      </script>\n",
              "    </div>\n",
              "  </div>\n",
              "  "
            ]
          },
          "metadata": {},
          "execution_count": 68
        }
      ]
    },
    {
      "cell_type": "code",
      "source": [
        "myFig = plt.figure();\n",
        "bp = pandas_data_passenger_us[\"Passenger Count\"].plot.box();\n",
        "myFig.savefig(data_path + \"us_passenger_count_boxplot.png\", format=\"png\")"
      ],
      "metadata": {
        "colab": {
          "base_uri": "https://localhost:8080/",
          "height": 265
        },
        "id": "iqnqPU9xIEKv",
        "outputId": "fc560e70-5164-4046-b26c-6a359e7dd49c"
      },
      "execution_count": null,
      "outputs": [
        {
          "output_type": "display_data",
          "data": {
            "text/plain": [
              "<Figure size 432x288 with 1 Axes>"
            ],
            "image/png": "[encoded data removed]"
          },
          "metadata": {
            "needs_background": "light"
          }
        }
      ]
    },
    {
      "cell_type": "markdown",
      "source": [
        "South America"
      ],
      "metadata": {
        "id": "lLNdZO9mIvf_"
      }
    },
    {
      "cell_type": "code",
      "source": [
        "data_passenger_south_america = data.filter(data['GEO Region']=='South America').select('Passenger Count')\n",
        "data_passenger_south_america.show()"
      ],
      "metadata": {
        "colab": {
          "base_uri": "https://localhost:8080/"
        },
        "id": "eWQpEbfOIEHt",
        "outputId": "7a52d407-5c26-4c32-bcfc-5b9d3a9070ae"
      },
      "execution_count": null,
      "outputs": [
        {
          "output_type": "stream",
          "name": "stdout",
          "text": [
            "+---------------+\n",
            "|Passenger Count|\n",
            "+---------------+\n",
            "|           3400|\n",
            "|           3030|\n",
            "|           3257|\n",
            "|           2807|\n",
            "|           2799|\n",
            "|           2612|\n",
            "|           3133|\n",
            "|           3120|\n",
            "|           2769|\n",
            "|           3310|\n",
            "|           2949|\n",
            "|           3285|\n",
            "|           3685|\n",
            "|           2882|\n",
            "|           2940|\n",
            "|           2954|\n",
            "|           3218|\n",
            "|           3485|\n",
            "|           2558|\n",
            "|           3100|\n",
            "+---------------+\n",
            "only showing top 20 rows\n",
            "\n"
          ]
        }
      ]
    },
    {
      "cell_type": "code",
      "source": [
        "pandas_data_passenger_south_america = data_passenger_south_america.toPandas()\n",
        "pandas_data_passenger_south_america"
      ],
      "metadata": {
        "colab": {
          "base_uri": "https://localhost:8080/",
          "height": 424
        },
        "id": "MVjSrM9FIEEV",
        "outputId": "dddde633-06f4-4392-9608-7de219003bec"
      },
      "execution_count": null,
      "outputs": [
        {
          "output_type": "execute_result",
          "data": {
            "text/plain": [
              "    Passenger Count\n",
              "0              3400\n",
              "1              3030\n",
              "2              3257\n",
              "3              2807\n",
              "4              2799\n",
              "..              ...\n",
              "85             2598\n",
              "86             2152\n",
              "87             2612\n",
              "88             2578\n",
              "89             2886\n",
              "\n",
              "[90 rows x 1 columns]"
            ],
            "text/html": [
              "\n",
              "  <div id=\"df-ab972d12-94d7-4593-b844-3254b6728a71\">\n",
              "    <div class=\"colab-df-container\">\n",
              "      <div>\n",
              "<style scoped>\n",
              "    .dataframe tbody tr th:only-of-type {\n",
              "        vertical-align: middle;\n",
              "    }\n",
              "\n",
              "    .dataframe tbody tr th {\n",
              "        vertical-align: top;\n",
              "    }\n",
              "\n",
              "    .dataframe thead th {\n",
              "        text-align: right;\n",
              "    }\n",
              "</style>\n",
              "<table border=\"1\" class=\"dataframe\">\n",
              "  <thead>\n",
              "    <tr style=\"text-align: right;\">\n",
              "      <th></th>\n",
              "      <th>Passenger Count</th>\n",
              "    </tr>\n",
              "  </thead>\n",
              "  <tbody>\n",
              "    <tr>\n",
              "      <th>0</th>\n",
              "      <td>3400</td>\n",
              "    </tr>\n",
              "    <tr>\n",
              "      <th>1</th>\n",
              "      <td>3030</td>\n",
              "    </tr>\n",
              "    <tr>\n",
              "      <th>2</th>\n",
              "      <td>3257</td>\n",
              "    </tr>\n",
              "    <tr>\n",
              "      <th>3</th>\n",
              "      <td>2807</td>\n",
              "    </tr>\n",
              "    <tr>\n",
              "      <th>4</th>\n",
              "      <td>2799</td>\n",
              "    </tr>\n",
              "    <tr>\n",
              "      <th>...</th>\n",
              "      <td>...</td>\n",
              "    </tr>\n",
              "    <tr>\n",
              "      <th>85</th>\n",
              "      <td>2598</td>\n",
              "    </tr>\n",
              "    <tr>\n",
              "      <th>86</th>\n",
              "      <td>2152</td>\n",
              "    </tr>\n",
              "    <tr>\n",
              "      <th>87</th>\n",
              "      <td>2612</td>\n",
              "    </tr>\n",
              "    <tr>\n",
              "      <th>88</th>\n",
              "      <td>2578</td>\n",
              "    </tr>\n",
              "    <tr>\n",
              "      <th>89</th>\n",
              "      <td>2886</td>\n",
              "    </tr>\n",
              "  </tbody>\n",
              "</table>\n",
              "<p>90 rows × 1 columns</p>\n",
              "</div>\n",
              "      <button class=\"colab-df-convert\" onclick=\"convertToInteractive('df-ab972d12-94d7-4593-b844-3254b6728a71')\"\n",
              "              title=\"Convert this dataframe to an interactive table.\"\n",
              "              style=\"display:none;\">\n",
              "        \n",
              "  <svg xmlns=\"http://www.w3.org/2000/svg\" height=\"24px\"viewBox=\"0 0 24 24\"\n",
              "       width=\"24px\">\n",
              "    <path d=\"M0 0h24v24H0V0z\" fill=\"none\"/>\n",
              "    <path d=\"M18.56 5.44l.94 2.06.94-2.06 2.06-.94-2.06-.94-.94-2.06-.94 2.06-2.06.94zm-11 1L8.5 8.5l.94-2.06 2.06-.94-2.06-.94L8.5 2.5l-.94 2.06-2.06.94zm10 10l.94 2.06.94-2.06 2.06-.94-2.06-.94-.94-2.06-.94 2.06-2.06.94z\"/><path d=\"M17.41 7.96l-1.37-1.37c-.4-.4-.92-.59-1.43-.59-.52 0-1.04.2-1.43.59L10.3 9.45l-7.72 7.72c-.78.78-.78 2.05 0 2.83L4 21.41c.39.39.9.59 1.41.59.51 0 1.02-.2 1.41-.59l7.78-7.78 2.81-2.81c.8-.78.8-2.07 0-2.86zM5.41 20L4 18.59l7.72-7.72 1.47 1.35L5.41 20z\"/>\n",
              "  </svg>\n",
              "      </button>\n",
              "      \n",
              "  <style>\n",
              "    .colab-df-container {\n",
              "      display:flex;\n",
              "      flex-wrap:wrap;\n",
              "      gap: 12px;\n",
              "    }\n",
              "\n",
              "    .colab-df-convert {\n",
              "      background-color: #E8F0FE;\n",
              "      border: none;\n",
              "      border-radius: 50%;\n",
              "      cursor: pointer;\n",
              "      display: none;\n",
              "      fill: #1967D2;\n",
              "      height: 32px;\n",
              "      padding: 0 0 0 0;\n",
              "      width: 32px;\n",
              "    }\n",
              "\n",
              "    .colab-df-convert:hover {\n",
              "      background-color: #E2EBFA;\n",
              "      box-shadow: 0px 1px 2px rgba(60, 64, 67, 0.3), 0px 1px 3px 1px rgba(60, 64, 67, 0.15);\n",
              "      fill: #174EA6;\n",
              "    }\n",
              "\n",
              "    [theme=dark] .colab-df-convert {\n",
              "      background-color: #3B4455;\n",
              "      fill: #D2E3FC;\n",
              "    }\n",
              "\n",
              "    [theme=dark] .colab-df-convert:hover {\n",
              "      background-color: #434B5C;\n",
              "      box-shadow: 0px 1px 3px 1px rgba(0, 0, 0, 0.15);\n",
              "      filter: drop-shadow(0px 1px 2px rgba(0, 0, 0, 0.3));\n",
              "      fill: #FFFFFF;\n",
              "    }\n",
              "  </style>\n",
              "\n",
              "      <script>\n",
              "        const buttonEl =\n",
              "          document.querySelector('#df-ab972d12-94d7-4593-b844-3254b6728a71 button.colab-df-convert');\n",
              "        buttonEl.style.display =\n",
              "          google.colab.kernel.accessAllowed ? 'block' : 'none';\n",
              "\n",
              "        async function convertToInteractive(key) {\n",
              "          const element = document.querySelector('#df-ab972d12-94d7-4593-b844-3254b6728a71');\n",
              "          const dataTable =\n",
              "            await google.colab.kernel.invokeFunction('convertToInteractive',\n",
              "                                                     [key], {});\n",
              "          if (!dataTable) return;\n",
              "\n",
              "          const docLinkHtml = 'Like what you see? Visit the ' +\n",
              "            '<a target=\"_blank\" href=https://colab.research.google.com/notebooks/data_table.ipynb>data table notebook</a>'\n",
              "            + ' to learn more about interactive tables.';\n",
              "          element.innerHTML = '';\n",
              "          dataTable['output_type'] = 'display_data';\n",
              "          await google.colab.output.renderOutput(dataTable, element);\n",
              "          const docLink = document.createElement('div');\n",
              "          docLink.innerHTML = docLinkHtml;\n",
              "          element.appendChild(docLink);\n",
              "        }\n",
              "      </script>\n",
              "    </div>\n",
              "  </div>\n",
              "  "
            ]
          },
          "metadata": {},
          "execution_count": 71
        }
      ]
    },
    {
      "cell_type": "code",
      "source": [
        "myFig = plt.figure();\n",
        "bp = pandas_data_passenger_south_america[\"Passenger Count\"].plot.box();\n",
        "myFig.savefig(data_path + \"south_america_passenger_count_boxplot.png\", format=\"png\")"
      ],
      "metadata": {
        "colab": {
          "base_uri": "https://localhost:8080/",
          "height": 265
        },
        "id": "li1hOp2_IEBL",
        "outputId": "cb02e26c-1262-4ee5-97f0-d7d7cac21a0c"
      },
      "execution_count": null,
      "outputs": [
        {
          "output_type": "display_data",
          "data": {
            "text/plain": [
              "<Figure size 432x288 with 1 Axes>"
            ],
            "image/png": "[encoded data removed]"
          },
          "metadata": {
            "needs_background": "light"
          }
        }
      ]
    },
    {
      "cell_type": "markdown",
      "source": [
        "Mexico"
      ],
      "metadata": {
        "id": "9cnhXRaDI6aJ"
      }
    },
    {
      "cell_type": "code",
      "source": [
        "data_passenger_mexico = data.filter(data['GEO Region']=='Mexico').select('Passenger Count')\n",
        "data_passenger_mexico.show()"
      ],
      "metadata": {
        "colab": {
          "base_uri": "https://localhost:8080/"
        },
        "id": "FTU7wT-sID-L",
        "outputId": "6f6b7759-0718-4e5e-ec2d-286c88c2011c"
      },
      "execution_count": null,
      "outputs": [
        {
          "output_type": "stream",
          "name": "stdout",
          "text": [
            "+---------------+\n",
            "|Passenger Count|\n",
            "+---------------+\n",
            "|           6969|\n",
            "|          10046|\n",
            "|           2266|\n",
            "|           7751|\n",
            "|           7845|\n",
            "|           9537|\n",
            "|           9672|\n",
            "|             45|\n",
            "|           7541|\n",
            "|           9333|\n",
            "|           1902|\n",
            "|           7156|\n",
            "|           5946|\n",
            "|           9397|\n",
            "|           9275|\n",
            "|             78|\n",
            "|           5446|\n",
            "|           7674|\n",
            "|           1504|\n",
            "|           3986|\n",
            "+---------------+\n",
            "only showing top 20 rows\n",
            "\n"
          ]
        }
      ]
    },
    {
      "cell_type": "code",
      "source": [
        "pandas_data_passenger_mexico = data_passenger_mexico.toPandas()\n",
        "pandas_data_passenger_mexico"
      ],
      "metadata": {
        "colab": {
          "base_uri": "https://localhost:8080/",
          "height": 424
        },
        "id": "xj1n3E4VID7E",
        "outputId": "f346f739-ca71-4422-d17e-d78db690b56c"
      },
      "execution_count": null,
      "outputs": [
        {
          "output_type": "execute_result",
          "data": {
            "text/plain": [
              "      Passenger Count\n",
              "0                6969\n",
              "1               10046\n",
              "2                2266\n",
              "3                7751\n",
              "4                7845\n",
              "...               ...\n",
              "1110             8581\n",
              "1111              914\n",
              "1112            17521\n",
              "1113             4189\n",
              "1114             4693\n",
              "\n",
              "[1115 rows x 1 columns]"
            ],
            "text/html": [
              "\n",
              "  <div id=\"df-b0ed6c72-fee8-4fbc-b381-99b85d6fab52\">\n",
              "    <div class=\"colab-df-container\">\n",
              "      <div>\n",
              "<style scoped>\n",
              "    .dataframe tbody tr th:only-of-type {\n",
              "        vertical-align: middle;\n",
              "    }\n",
              "\n",
              "    .dataframe tbody tr th {\n",
              "        vertical-align: top;\n",
              "    }\n",
              "\n",
              "    .dataframe thead th {\n",
              "        text-align: right;\n",
              "    }\n",
              "</style>\n",
              "<table border=\"1\" class=\"dataframe\">\n",
              "  <thead>\n",
              "    <tr style=\"text-align: right;\">\n",
              "      <th></th>\n",
              "      <th>Passenger Count</th>\n",
              "    </tr>\n",
              "  </thead>\n",
              "  <tbody>\n",
              "    <tr>\n",
              "      <th>0</th>\n",
              "      <td>6969</td>\n",
              "    </tr>\n",
              "    <tr>\n",
              "      <th>1</th>\n",
              "      <td>10046</td>\n",
              "    </tr>\n",
              "    <tr>\n",
              "      <th>2</th>\n",
              "      <td>2266</td>\n",
              "    </tr>\n",
              "    <tr>\n",
              "      <th>3</th>\n",
              "      <td>7751</td>\n",
              "    </tr>\n",
              "    <tr>\n",
              "      <th>4</th>\n",
              "      <td>7845</td>\n",
              "    </tr>\n",
              "    <tr>\n",
              "      <th>...</th>\n",
              "      <td>...</td>\n",
              "    </tr>\n",
              "    <tr>\n",
              "      <th>1110</th>\n",
              "      <td>8581</td>\n",
              "    </tr>\n",
              "    <tr>\n",
              "      <th>1111</th>\n",
              "      <td>914</td>\n",
              "    </tr>\n",
              "    <tr>\n",
              "      <th>1112</th>\n",
              "      <td>17521</td>\n",
              "    </tr>\n",
              "    <tr>\n",
              "      <th>1113</th>\n",
              "      <td>4189</td>\n",
              "    </tr>\n",
              "    <tr>\n",
              "      <th>1114</th>\n",
              "      <td>4693</td>\n",
              "    </tr>\n",
              "  </tbody>\n",
              "</table>\n",
              "<p>1115 rows × 1 columns</p>\n",
              "</div>\n",
              "      <button class=\"colab-df-convert\" onclick=\"convertToInteractive('df-b0ed6c72-fee8-4fbc-b381-99b85d6fab52')\"\n",
              "              title=\"Convert this dataframe to an interactive table.\"\n",
              "              style=\"display:none;\">\n",
              "        \n",
              "  <svg xmlns=\"http://www.w3.org/2000/svg\" height=\"24px\"viewBox=\"0 0 24 24\"\n",
              "       width=\"24px\">\n",
              "    <path d=\"M0 0h24v24H0V0z\" fill=\"none\"/>\n",
              "    <path d=\"M18.56 5.44l.94 2.06.94-2.06 2.06-.94-2.06-.94-.94-2.06-.94 2.06-2.06.94zm-11 1L8.5 8.5l.94-2.06 2.06-.94-2.06-.94L8.5 2.5l-.94 2.06-2.06.94zm10 10l.94 2.06.94-2.06 2.06-.94-2.06-.94-.94-2.06-.94 2.06-2.06.94z\"/><path d=\"M17.41 7.96l-1.37-1.37c-.4-.4-.92-.59-1.43-.59-.52 0-1.04.2-1.43.59L10.3 9.45l-7.72 7.72c-.78.78-.78 2.05 0 2.83L4 21.41c.39.39.9.59 1.41.59.51 0 1.02-.2 1.41-.59l7.78-7.78 2.81-2.81c.8-.78.8-2.07 0-2.86zM5.41 20L4 18.59l7.72-7.72 1.47 1.35L5.41 20z\"/>\n",
              "  </svg>\n",
              "      </button>\n",
              "      \n",
              "  <style>\n",
              "    .colab-df-container {\n",
              "      display:flex;\n",
              "      flex-wrap:wrap;\n",
              "      gap: 12px;\n",
              "    }\n",
              "\n",
              "    .colab-df-convert {\n",
              "      background-color: #E8F0FE;\n",
              "      border: none;\n",
              "      border-radius: 50%;\n",
              "      cursor: pointer;\n",
              "      display: none;\n",
              "      fill: #1967D2;\n",
              "      height: 32px;\n",
              "      padding: 0 0 0 0;\n",
              "      width: 32px;\n",
              "    }\n",
              "\n",
              "    .colab-df-convert:hover {\n",
              "      background-color: #E2EBFA;\n",
              "      box-shadow: 0px 1px 2px rgba(60, 64, 67, 0.3), 0px 1px 3px 1px rgba(60, 64, 67, 0.15);\n",
              "      fill: #174EA6;\n",
              "    }\n",
              "\n",
              "    [theme=dark] .colab-df-convert {\n",
              "      background-color: #3B4455;\n",
              "      fill: #D2E3FC;\n",
              "    }\n",
              "\n",
              "    [theme=dark] .colab-df-convert:hover {\n",
              "      background-color: #434B5C;\n",
              "      box-shadow: 0px 1px 3px 1px rgba(0, 0, 0, 0.15);\n",
              "      filter: drop-shadow(0px 1px 2px rgba(0, 0, 0, 0.3));\n",
              "      fill: #FFFFFF;\n",
              "    }\n",
              "  </style>\n",
              "\n",
              "      <script>\n",
              "        const buttonEl =\n",
              "          document.querySelector('#df-b0ed6c72-fee8-4fbc-b381-99b85d6fab52 button.colab-df-convert');\n",
              "        buttonEl.style.display =\n",
              "          google.colab.kernel.accessAllowed ? 'block' : 'none';\n",
              "\n",
              "        async function convertToInteractive(key) {\n",
              "          const element = document.querySelector('#df-b0ed6c72-fee8-4fbc-b381-99b85d6fab52');\n",
              "          const dataTable =\n",
              "            await google.colab.kernel.invokeFunction('convertToInteractive',\n",
              "                                                     [key], {});\n",
              "          if (!dataTable) return;\n",
              "\n",
              "          const docLinkHtml = 'Like what you see? Visit the ' +\n",
              "            '<a target=\"_blank\" href=https://colab.research.google.com/notebooks/data_table.ipynb>data table notebook</a>'\n",
              "            + ' to learn more about interactive tables.';\n",
              "          element.innerHTML = '';\n",
              "          dataTable['output_type'] = 'display_data';\n",
              "          await google.colab.output.renderOutput(dataTable, element);\n",
              "          const docLink = document.createElement('div');\n",
              "          docLink.innerHTML = docLinkHtml;\n",
              "          element.appendChild(docLink);\n",
              "        }\n",
              "      </script>\n",
              "    </div>\n",
              "  </div>\n",
              "  "
            ]
          },
          "metadata": {},
          "execution_count": 74
        }
      ]
    },
    {
      "cell_type": "code",
      "source": [
        "myFig = plt.figure();\n",
        "bp = pandas_data_passenger_mexico[\"Passenger Count\"].plot.box();\n",
        "myFig.savefig(data_path + \"mexico_passenger_count_boxplot.png\", format=\"png\")"
      ],
      "metadata": {
        "colab": {
          "base_uri": "https://localhost:8080/",
          "height": 265
        },
        "id": "Jvfc0iDuID4B",
        "outputId": "be83d3ae-50ed-427c-f739-e8ca75334536"
      },
      "execution_count": null,
      "outputs": [
        {
          "output_type": "display_data",
          "data": {
            "text/plain": [
              "<Figure size 432x288 with 1 Axes>"
            ],
            "image/png": "[encoded data removed]"
          },
          "metadata": {
            "needs_background": "light"
          }
        }
      ]
    },
    {
      "cell_type": "markdown",
      "source": [
        "Middle East"
      ],
      "metadata": {
        "id": "7Q4jR_ThJFTb"
      }
    },
    {
      "cell_type": "code",
      "source": [
        "data_passenger_m_east = data.filter(data['GEO Region']=='Middle East').select('Passenger Count')\n",
        "data_passenger_m_east.show()"
      ],
      "metadata": {
        "colab": {
          "base_uri": "https://localhost:8080/"
        },
        "id": "IO_S9C_ZID1N",
        "outputId": "fefaf5aa-24ab-4ef3-c556-bbc1f5f6ecbc"
      },
      "execution_count": null,
      "outputs": [
        {
          "output_type": "stream",
          "name": "stdout",
          "text": [
            "+---------------+\n",
            "|Passenger Count|\n",
            "+---------------+\n",
            "|           1147|\n",
            "|           1766|\n",
            "|           3393|\n",
            "|           2470|\n",
            "|           2502|\n",
            "|           2278|\n",
            "|           3353|\n",
            "|           2704|\n",
            "|           3342|\n",
            "|           3048|\n",
            "|           6243|\n",
            "|           5875|\n",
            "|           6604|\n",
            "|           7803|\n",
            "|           7948|\n",
            "|           7135|\n",
            "|           8133|\n",
            "|           6104|\n",
            "|           5819|\n",
            "|           5841|\n",
            "+---------------+\n",
            "only showing top 20 rows\n",
            "\n"
          ]
        }
      ]
    },
    {
      "cell_type": "code",
      "source": [
        "pandas_data_passenger_m_east = data_passenger_m_east.toPandas()\n",
        "pandas_data_passenger_m_east"
      ],
      "metadata": {
        "colab": {
          "base_uri": "https://localhost:8080/",
          "height": 424
        },
        "id": "ljF5rmR6IDyB",
        "outputId": "743d994b-2a1f-4e3f-cdbd-c3237c59160b"
      },
      "execution_count": null,
      "outputs": [
        {
          "output_type": "execute_result",
          "data": {
            "text/plain": [
              "     Passenger Count\n",
              "0               1147\n",
              "1               1766\n",
              "2               3393\n",
              "3               2470\n",
              "4               2502\n",
              "..               ...\n",
              "209             4591\n",
              "210            13760\n",
              "211            11503\n",
              "212             7099\n",
              "213             5007\n",
              "\n",
              "[214 rows x 1 columns]"
            ],
            "text/html": [
              "\n",
              "  <div id=\"df-d4a267e4-f464-4827-b585-e7298ac5d366\">\n",
              "    <div class=\"colab-df-container\">\n",
              "      <div>\n",
              "<style scoped>\n",
              "    .dataframe tbody tr th:only-of-type {\n",
              "        vertical-align: middle;\n",
              "    }\n",
              "\n",
              "    .dataframe tbody tr th {\n",
              "        vertical-align: top;\n",
              "    }\n",
              "\n",
              "    .dataframe thead th {\n",
              "        text-align: right;\n",
              "    }\n",
              "</style>\n",
              "<table border=\"1\" class=\"dataframe\">\n",
              "  <thead>\n",
              "    <tr style=\"text-align: right;\">\n",
              "      <th></th>\n",
              "      <th>Passenger Count</th>\n",
              "    </tr>\n",
              "  </thead>\n",
              "  <tbody>\n",
              "    <tr>\n",
              "      <th>0</th>\n",
              "      <td>1147</td>\n",
              "    </tr>\n",
              "    <tr>\n",
              "      <th>1</th>\n",
              "      <td>1766</td>\n",
              "    </tr>\n",
              "    <tr>\n",
              "      <th>2</th>\n",
              "      <td>3393</td>\n",
              "    </tr>\n",
              "    <tr>\n",
              "      <th>3</th>\n",
              "      <td>2470</td>\n",
              "    </tr>\n",
              "    <tr>\n",
              "      <th>4</th>\n",
              "      <td>2502</td>\n",
              "    </tr>\n",
              "    <tr>\n",
              "      <th>...</th>\n",
              "      <td>...</td>\n",
              "    </tr>\n",
              "    <tr>\n",
              "      <th>209</th>\n",
              "      <td>4591</td>\n",
              "    </tr>\n",
              "    <tr>\n",
              "      <th>210</th>\n",
              "      <td>13760</td>\n",
              "    </tr>\n",
              "    <tr>\n",
              "      <th>211</th>\n",
              "      <td>11503</td>\n",
              "    </tr>\n",
              "    <tr>\n",
              "      <th>212</th>\n",
              "      <td>7099</td>\n",
              "    </tr>\n",
              "    <tr>\n",
              "      <th>213</th>\n",
              "      <td>5007</td>\n",
              "    </tr>\n",
              "  </tbody>\n",
              "</table>\n",
              "<p>214 rows × 1 columns</p>\n",
              "</div>\n",
              "      <button class=\"colab-df-convert\" onclick=\"convertToInteractive('df-d4a267e4-f464-4827-b585-e7298ac5d366')\"\n",
              "              title=\"Convert this dataframe to an interactive table.\"\n",
              "              style=\"display:none;\">\n",
              "        \n",
              "  <svg xmlns=\"http://www.w3.org/2000/svg\" height=\"24px\"viewBox=\"0 0 24 24\"\n",
              "       width=\"24px\">\n",
              "    <path d=\"M0 0h24v24H0V0z\" fill=\"none\"/>\n",
              "    <path d=\"M18.56 5.44l.94 2.06.94-2.06 2.06-.94-2.06-.94-.94-2.06-.94 2.06-2.06.94zm-11 1L8.5 8.5l.94-2.06 2.06-.94-2.06-.94L8.5 2.5l-.94 2.06-2.06.94zm10 10l.94 2.06.94-2.06 2.06-.94-2.06-.94-.94-2.06-.94 2.06-2.06.94z\"/><path d=\"M17.41 7.96l-1.37-1.37c-.4-.4-.92-.59-1.43-.59-.52 0-1.04.2-1.43.59L10.3 9.45l-7.72 7.72c-.78.78-.78 2.05 0 2.83L4 21.41c.39.39.9.59 1.41.59.51 0 1.02-.2 1.41-.59l7.78-7.78 2.81-2.81c.8-.78.8-2.07 0-2.86zM5.41 20L4 18.59l7.72-7.72 1.47 1.35L5.41 20z\"/>\n",
              "  </svg>\n",
              "      </button>\n",
              "      \n",
              "  <style>\n",
              "    .colab-df-container {\n",
              "      display:flex;\n",
              "      flex-wrap:wrap;\n",
              "      gap: 12px;\n",
              "    }\n",
              "\n",
              "    .colab-df-convert {\n",
              "      background-color: #E8F0FE;\n",
              "      border: none;\n",
              "      border-radius: 50%;\n",
              "      cursor: pointer;\n",
              "      display: none;\n",
              "      fill: #1967D2;\n",
              "      height: 32px;\n",
              "      padding: 0 0 0 0;\n",
              "      width: 32px;\n",
              "    }\n",
              "\n",
              "    .colab-df-convert:hover {\n",
              "      background-color: #E2EBFA;\n",
              "      box-shadow: 0px 1px 2px rgba(60, 64, 67, 0.3), 0px 1px 3px 1px rgba(60, 64, 67, 0.15);\n",
              "      fill: #174EA6;\n",
              "    }\n",
              "\n",
              "    [theme=dark] .colab-df-convert {\n",
              "      background-color: #3B4455;\n",
              "      fill: #D2E3FC;\n",
              "    }\n",
              "\n",
              "    [theme=dark] .colab-df-convert:hover {\n",
              "      background-color: #434B5C;\n",
              "      box-shadow: 0px 1px 3px 1px rgba(0, 0, 0, 0.15);\n",
              "      filter: drop-shadow(0px 1px 2px rgba(0, 0, 0, 0.3));\n",
              "      fill: #FFFFFF;\n",
              "    }\n",
              "  </style>\n",
              "\n",
              "      <script>\n",
              "        const buttonEl =\n",
              "          document.querySelector('#df-d4a267e4-f464-4827-b585-e7298ac5d366 button.colab-df-convert');\n",
              "        buttonEl.style.display =\n",
              "          google.colab.kernel.accessAllowed ? 'block' : 'none';\n",
              "\n",
              "        async function convertToInteractive(key) {\n",
              "          const element = document.querySelector('#df-d4a267e4-f464-4827-b585-e7298ac5d366');\n",
              "          const dataTable =\n",
              "            await google.colab.kernel.invokeFunction('convertToInteractive',\n",
              "                                                     [key], {});\n",
              "          if (!dataTable) return;\n",
              "\n",
              "          const docLinkHtml = 'Like what you see? Visit the ' +\n",
              "            '<a target=\"_blank\" href=https://colab.research.google.com/notebooks/data_table.ipynb>data table notebook</a>'\n",
              "            + ' to learn more about interactive tables.';\n",
              "          element.innerHTML = '';\n",
              "          dataTable['output_type'] = 'display_data';\n",
              "          await google.colab.output.renderOutput(dataTable, element);\n",
              "          const docLink = document.createElement('div');\n",
              "          docLink.innerHTML = docLinkHtml;\n",
              "          element.appendChild(docLink);\n",
              "        }\n",
              "      </script>\n",
              "    </div>\n",
              "  </div>\n",
              "  "
            ]
          },
          "metadata": {},
          "execution_count": 77
        }
      ]
    },
    {
      "cell_type": "code",
      "source": [
        "myFig = plt.figure();\n",
        "bp = pandas_data_passenger_m_east[\"Passenger Count\"].plot.box();\n",
        "myFig.savefig(data_path + \"m_east_passenger_count_boxplot.png\", format=\"png\")"
      ],
      "metadata": {
        "colab": {
          "base_uri": "https://localhost:8080/",
          "height": 265
        },
        "id": "XcChPirtIDuz",
        "outputId": "0f054b69-86b4-48ec-d9b4-3857d1080f4f"
      },
      "execution_count": null,
      "outputs": [
        {
          "output_type": "display_data",
          "data": {
            "text/plain": [
              "<Figure size 432x288 with 1 Axes>"
            ],
            "image/png": "[encoded data removed]"
          },
          "metadata": {
            "needs_background": "light"
          }
        }
      ]
    },
    {
      "cell_type": "markdown",
      "source": [
        "Canada"
      ],
      "metadata": {
        "id": "ZCN8O6R5JNG0"
      }
    },
    {
      "cell_type": "code",
      "source": [
        "data_passenger_canada = data.filter(data['GEO Region']=='Canada').select('Passenger Count')\n",
        "data_passenger_canada.show()"
      ],
      "metadata": {
        "colab": {
          "base_uri": "https://localhost:8080/"
        },
        "id": "JJJt1LAEJEN0",
        "outputId": "439982fd-38d2-40bd-c649-e03a127cd0f2"
      },
      "execution_count": null,
      "outputs": [
        {
          "output_type": "stream",
          "name": "stdout",
          "text": [
            "+---------------+\n",
            "|Passenger Count|\n",
            "+---------------+\n",
            "|          35156|\n",
            "|          34090|\n",
            "|           7977|\n",
            "|           8837|\n",
            "|           3688|\n",
            "|           3633|\n",
            "|          12874|\n",
            "|          12085|\n",
            "|             10|\n",
            "|           2480|\n",
            "|           2211|\n",
            "|          34878|\n",
            "|          34105|\n",
            "|           8901|\n",
            "|           9020|\n",
            "|           3672|\n",
            "|           3570|\n",
            "|          13895|\n",
            "|          12145|\n",
            "|           2300|\n",
            "+---------------+\n",
            "only showing top 20 rows\n",
            "\n"
          ]
        }
      ]
    },
    {
      "cell_type": "code",
      "source": [
        "pandas_data_passenger_canada = data_passenger_canada.toPandas()\n",
        "pandas_data_passenger_canada"
      ],
      "metadata": {
        "colab": {
          "base_uri": "https://localhost:8080/",
          "height": 424
        },
        "id": "ns9YvocNJEK1",
        "outputId": "769b58d4-d836-47af-a884-6baf0927c4b2"
      },
      "execution_count": null,
      "outputs": [
        {
          "output_type": "execute_result",
          "data": {
            "text/plain": [
              "      Passenger Count\n",
              "0               35156\n",
              "1               34090\n",
              "2                7977\n",
              "3                8837\n",
              "4                3688\n",
              "...               ...\n",
              "1413              344\n",
              "1414             6842\n",
              "1415             3805\n",
              "1416             4388\n",
              "1417             9378\n",
              "\n",
              "[1418 rows x 1 columns]"
            ],
            "text/html": [
              "\n",
              "  <div id=\"df-2ed86500-a07f-41f7-9038-35afb7ad0eff\">\n",
              "    <div class=\"colab-df-container\">\n",
              "      <div>\n",
              "<style scoped>\n",
              "    .dataframe tbody tr th:only-of-type {\n",
              "        vertical-align: middle;\n",
              "    }\n",
              "\n",
              "    .dataframe tbody tr th {\n",
              "        vertical-align: top;\n",
              "    }\n",
              "\n",
              "    .dataframe thead th {\n",
              "        text-align: right;\n",
              "    }\n",
              "</style>\n",
              "<table border=\"1\" class=\"dataframe\">\n",
              "  <thead>\n",
              "    <tr style=\"text-align: right;\">\n",
              "      <th></th>\n",
              "      <th>Passenger Count</th>\n",
              "    </tr>\n",
              "  </thead>\n",
              "  <tbody>\n",
              "    <tr>\n",
              "      <th>0</th>\n",
              "      <td>35156</td>\n",
              "    </tr>\n",
              "    <tr>\n",
              "      <th>1</th>\n",
              "      <td>34090</td>\n",
              "    </tr>\n",
              "    <tr>\n",
              "      <th>2</th>\n",
              "      <td>7977</td>\n",
              "    </tr>\n",
              "    <tr>\n",
              "      <th>3</th>\n",
              "      <td>8837</td>\n",
              "    </tr>\n",
              "    <tr>\n",
              "      <th>4</th>\n",
              "      <td>3688</td>\n",
              "    </tr>\n",
              "    <tr>\n",
              "      <th>...</th>\n",
              "      <td>...</td>\n",
              "    </tr>\n",
              "    <tr>\n",
              "      <th>1413</th>\n",
              "      <td>344</td>\n",
              "    </tr>\n",
              "    <tr>\n",
              "      <th>1414</th>\n",
              "      <td>6842</td>\n",
              "    </tr>\n",
              "    <tr>\n",
              "      <th>1415</th>\n",
              "      <td>3805</td>\n",
              "    </tr>\n",
              "    <tr>\n",
              "      <th>1416</th>\n",
              "      <td>4388</td>\n",
              "    </tr>\n",
              "    <tr>\n",
              "      <th>1417</th>\n",
              "      <td>9378</td>\n",
              "    </tr>\n",
              "  </tbody>\n",
              "</table>\n",
              "<p>1418 rows × 1 columns</p>\n",
              "</div>\n",
              "      <button class=\"colab-df-convert\" onclick=\"convertToInteractive('df-2ed86500-a07f-41f7-9038-35afb7ad0eff')\"\n",
              "              title=\"Convert this dataframe to an interactive table.\"\n",
              "              style=\"display:none;\">\n",
              "        \n",
              "  <svg xmlns=\"http://www.w3.org/2000/svg\" height=\"24px\"viewBox=\"0 0 24 24\"\n",
              "       width=\"24px\">\n",
              "    <path d=\"M0 0h24v24H0V0z\" fill=\"none\"/>\n",
              "    <path d=\"M18.56 5.44l.94 2.06.94-2.06 2.06-.94-2.06-.94-.94-2.06-.94 2.06-2.06.94zm-11 1L8.5 8.5l.94-2.06 2.06-.94-2.06-.94L8.5 2.5l-.94 2.06-2.06.94zm10 10l.94 2.06.94-2.06 2.06-.94-2.06-.94-.94-2.06-.94 2.06-2.06.94z\"/><path d=\"M17.41 7.96l-1.37-1.37c-.4-.4-.92-.59-1.43-.59-.52 0-1.04.2-1.43.59L10.3 9.45l-7.72 7.72c-.78.78-.78 2.05 0 2.83L4 21.41c.39.39.9.59 1.41.59.51 0 1.02-.2 1.41-.59l7.78-7.78 2.81-2.81c.8-.78.8-2.07 0-2.86zM5.41 20L4 18.59l7.72-7.72 1.47 1.35L5.41 20z\"/>\n",
              "  </svg>\n",
              "      </button>\n",
              "      \n",
              "  <style>\n",
              "    .colab-df-container {\n",
              "      display:flex;\n",
              "      flex-wrap:wrap;\n",
              "      gap: 12px;\n",
              "    }\n",
              "\n",
              "    .colab-df-convert {\n",
              "      background-color: #E8F0FE;\n",
              "      border: none;\n",
              "      border-radius: 50%;\n",
              "      cursor: pointer;\n",
              "      display: none;\n",
              "      fill: #1967D2;\n",
              "      height: 32px;\n",
              "      padding: 0 0 0 0;\n",
              "      width: 32px;\n",
              "    }\n",
              "\n",
              "    .colab-df-convert:hover {\n",
              "      background-color: #E2EBFA;\n",
              "      box-shadow: 0px 1px 2px rgba(60, 64, 67, 0.3), 0px 1px 3px 1px rgba(60, 64, 67, 0.15);\n",
              "      fill: #174EA6;\n",
              "    }\n",
              "\n",
              "    [theme=dark] .colab-df-convert {\n",
              "      background-color: #3B4455;\n",
              "      fill: #D2E3FC;\n",
              "    }\n",
              "\n",
              "    [theme=dark] .colab-df-convert:hover {\n",
              "      background-color: #434B5C;\n",
              "      box-shadow: 0px 1px 3px 1px rgba(0, 0, 0, 0.15);\n",
              "      filter: drop-shadow(0px 1px 2px rgba(0, 0, 0, 0.3));\n",
              "      fill: #FFFFFF;\n",
              "    }\n",
              "  </style>\n",
              "\n",
              "      <script>\n",
              "        const buttonEl =\n",
              "          document.querySelector('#df-2ed86500-a07f-41f7-9038-35afb7ad0eff button.colab-df-convert');\n",
              "        buttonEl.style.display =\n",
              "          google.colab.kernel.accessAllowed ? 'block' : 'none';\n",
              "\n",
              "        async function convertToInteractive(key) {\n",
              "          const element = document.querySelector('#df-2ed86500-a07f-41f7-9038-35afb7ad0eff');\n",
              "          const dataTable =\n",
              "            await google.colab.kernel.invokeFunction('convertToInteractive',\n",
              "                                                     [key], {});\n",
              "          if (!dataTable) return;\n",
              "\n",
              "          const docLinkHtml = 'Like what you see? Visit the ' +\n",
              "            '<a target=\"_blank\" href=https://colab.research.google.com/notebooks/data_table.ipynb>data table notebook</a>'\n",
              "            + ' to learn more about interactive tables.';\n",
              "          element.innerHTML = '';\n",
              "          dataTable['output_type'] = 'display_data';\n",
              "          await google.colab.output.renderOutput(dataTable, element);\n",
              "          const docLink = document.createElement('div');\n",
              "          docLink.innerHTML = docLinkHtml;\n",
              "          element.appendChild(docLink);\n",
              "        }\n",
              "      </script>\n",
              "    </div>\n",
              "  </div>\n",
              "  "
            ]
          },
          "metadata": {},
          "execution_count": 80
        }
      ]
    },
    {
      "cell_type": "code",
      "source": [
        "myFig = plt.figure();\n",
        "bp = pandas_data_passenger_canada[\"Passenger Count\"].plot.box();\n",
        "myFig.savefig(data_path + \"canada_passenger_count_boxplot.png\", format=\"png\")"
      ],
      "metadata": {
        "colab": {
          "base_uri": "https://localhost:8080/",
          "height": 265
        },
        "id": "hNrnUiPLJEHi",
        "outputId": "45f54797-e65f-4238-f25c-8c7bc6cb6714"
      },
      "execution_count": null,
      "outputs": [
        {
          "output_type": "display_data",
          "data": {
            "text/plain": [
              "<Figure size 432x288 with 1 Axes>"
            ],
            "image/png": "[encoded data removed]"
          },
          "metadata": {
            "needs_background": "light"
          }
        }
      ]
    },
    {
      "cell_type": "markdown",
      "source": [
        "Australia / Oceania"
      ],
      "metadata": {
        "id": "7A0wgforJUW8"
      }
    },
    {
      "cell_type": "code",
      "source": [
        "data_passenger_australia_oceania = data.filter(data['GEO Region']=='Australia / Oceania').select('Passenger Count')\n",
        "data_passenger_australia_oceania.show()"
      ],
      "metadata": {
        "colab": {
          "base_uri": "https://localhost:8080/"
        },
        "id": "BCSm7eZFJEEC",
        "outputId": "d711a850-68ad-42d2-aa48-48b8c13bdaa4"
      },
      "execution_count": null,
      "outputs": [
        {
          "output_type": "stream",
          "name": "stdout",
          "text": [
            "+---------------+\n",
            "|Passenger Count|\n",
            "+---------------+\n",
            "|           4998|\n",
            "|           4962|\n",
            "|           8603|\n",
            "|           8234|\n",
            "|           1385|\n",
            "|           4672|\n",
            "|           4006|\n",
            "|           8903|\n",
            "|           7874|\n",
            "|           1475|\n",
            "|           4565|\n",
            "|           4295|\n",
            "|           8048|\n",
            "|           7750|\n",
            "|           1264|\n",
            "|           3178|\n",
            "|           4766|\n",
            "|           6280|\n",
            "|           9056|\n",
            "|           1046|\n",
            "+---------------+\n",
            "only showing top 20 rows\n",
            "\n"
          ]
        }
      ]
    },
    {
      "cell_type": "code",
      "source": [
        "pandas_data_passenger_australia_oceania = data_passenger_australia_oceania.toPandas()\n",
        "pandas_data_passenger_australia_oceania"
      ],
      "metadata": {
        "colab": {
          "base_uri": "https://localhost:8080/",
          "height": 424
        },
        "id": "KXerm5haJEA6",
        "outputId": "a030eeea-0e0a-4ea2-c98b-c4d9f07c148e"
      },
      "execution_count": null,
      "outputs": [
        {
          "output_type": "execute_result",
          "data": {
            "text/plain": [
              "     Passenger Count\n",
              "0               4998\n",
              "1               4962\n",
              "2               8603\n",
              "3               8234\n",
              "4               1385\n",
              "..               ...\n",
              "732             8453\n",
              "733             7136\n",
              "734             5329\n",
              "735             7593\n",
              "736             6372\n",
              "\n",
              "[737 rows x 1 columns]"
            ],
            "text/html": [
              "\n",
              "  <div id=\"df-b57dcee1-e91a-4826-9383-6b194b6d85be\">\n",
              "    <div class=\"colab-df-container\">\n",
              "      <div>\n",
              "<style scoped>\n",
              "    .dataframe tbody tr th:only-of-type {\n",
              "        vertical-align: middle;\n",
              "    }\n",
              "\n",
              "    .dataframe tbody tr th {\n",
              "        vertical-align: top;\n",
              "    }\n",
              "\n",
              "    .dataframe thead th {\n",
              "        text-align: right;\n",
              "    }\n",
              "</style>\n",
              "<table border=\"1\" class=\"dataframe\">\n",
              "  <thead>\n",
              "    <tr style=\"text-align: right;\">\n",
              "      <th></th>\n",
              "      <th>Passenger Count</th>\n",
              "    </tr>\n",
              "  </thead>\n",
              "  <tbody>\n",
              "    <tr>\n",
              "      <th>0</th>\n",
              "      <td>4998</td>\n",
              "    </tr>\n",
              "    <tr>\n",
              "      <th>1</th>\n",
              "      <td>4962</td>\n",
              "    </tr>\n",
              "    <tr>\n",
              "      <th>2</th>\n",
              "      <td>8603</td>\n",
              "    </tr>\n",
              "    <tr>\n",
              "      <th>3</th>\n",
              "      <td>8234</td>\n",
              "    </tr>\n",
              "    <tr>\n",
              "      <th>4</th>\n",
              "      <td>1385</td>\n",
              "    </tr>\n",
              "    <tr>\n",
              "      <th>...</th>\n",
              "      <td>...</td>\n",
              "    </tr>\n",
              "    <tr>\n",
              "      <th>732</th>\n",
              "      <td>8453</td>\n",
              "    </tr>\n",
              "    <tr>\n",
              "      <th>733</th>\n",
              "      <td>7136</td>\n",
              "    </tr>\n",
              "    <tr>\n",
              "      <th>734</th>\n",
              "      <td>5329</td>\n",
              "    </tr>\n",
              "    <tr>\n",
              "      <th>735</th>\n",
              "      <td>7593</td>\n",
              "    </tr>\n",
              "    <tr>\n",
              "      <th>736</th>\n",
              "      <td>6372</td>\n",
              "    </tr>\n",
              "  </tbody>\n",
              "</table>\n",
              "<p>737 rows × 1 columns</p>\n",
              "</div>\n",
              "      <button class=\"colab-df-convert\" onclick=\"convertToInteractive('df-b57dcee1-e91a-4826-9383-6b194b6d85be')\"\n",
              "              title=\"Convert this dataframe to an interactive table.\"\n",
              "              style=\"display:none;\">\n",
              "        \n",
              "  <svg xmlns=\"http://www.w3.org/2000/svg\" height=\"24px\"viewBox=\"0 0 24 24\"\n",
              "       width=\"24px\">\n",
              "    <path d=\"M0 0h24v24H0V0z\" fill=\"none\"/>\n",
              "    <path d=\"M18.56 5.44l.94 2.06.94-2.06 2.06-.94-2.06-.94-.94-2.06-.94 2.06-2.06.94zm-11 1L8.5 8.5l.94-2.06 2.06-.94-2.06-.94L8.5 2.5l-.94 2.06-2.06.94zm10 10l.94 2.06.94-2.06 2.06-.94-2.06-.94-.94-2.06-.94 2.06-2.06.94z\"/><path d=\"M17.41 7.96l-1.37-1.37c-.4-.4-.92-.59-1.43-.59-.52 0-1.04.2-1.43.59L10.3 9.45l-7.72 7.72c-.78.78-.78 2.05 0 2.83L4 21.41c.39.39.9.59 1.41.59.51 0 1.02-.2 1.41-.59l7.78-7.78 2.81-2.81c.8-.78.8-2.07 0-2.86zM5.41 20L4 18.59l7.72-7.72 1.47 1.35L5.41 20z\"/>\n",
              "  </svg>\n",
              "      </button>\n",
              "      \n",
              "  <style>\n",
              "    .colab-df-container {\n",
              "      display:flex;\n",
              "      flex-wrap:wrap;\n",
              "      gap: 12px;\n",
              "    }\n",
              "\n",
              "    .colab-df-convert {\n",
              "      background-color: #E8F0FE;\n",
              "      border: none;\n",
              "      border-radius: 50%;\n",
              "      cursor: pointer;\n",
              "      display: none;\n",
              "      fill: #1967D2;\n",
              "      height: 32px;\n",
              "      padding: 0 0 0 0;\n",
              "      width: 32px;\n",
              "    }\n",
              "\n",
              "    .colab-df-convert:hover {\n",
              "      background-color: #E2EBFA;\n",
              "      box-shadow: 0px 1px 2px rgba(60, 64, 67, 0.3), 0px 1px 3px 1px rgba(60, 64, 67, 0.15);\n",
              "      fill: #174EA6;\n",
              "    }\n",
              "\n",
              "    [theme=dark] .colab-df-convert {\n",
              "      background-color: #3B4455;\n",
              "      fill: #D2E3FC;\n",
              "    }\n",
              "\n",
              "    [theme=dark] .colab-df-convert:hover {\n",
              "      background-color: #434B5C;\n",
              "      box-shadow: 0px 1px 3px 1px rgba(0, 0, 0, 0.15);\n",
              "      filter: drop-shadow(0px 1px 2px rgba(0, 0, 0, 0.3));\n",
              "      fill: #FFFFFF;\n",
              "    }\n",
              "  </style>\n",
              "\n",
              "      <script>\n",
              "        const buttonEl =\n",
              "          document.querySelector('#df-b57dcee1-e91a-4826-9383-6b194b6d85be button.colab-df-convert');\n",
              "        buttonEl.style.display =\n",
              "          google.colab.kernel.accessAllowed ? 'block' : 'none';\n",
              "\n",
              "        async function convertToInteractive(key) {\n",
              "          const element = document.querySelector('#df-b57dcee1-e91a-4826-9383-6b194b6d85be');\n",
              "          const dataTable =\n",
              "            await google.colab.kernel.invokeFunction('convertToInteractive',\n",
              "                                                     [key], {});\n",
              "          if (!dataTable) return;\n",
              "\n",
              "          const docLinkHtml = 'Like what you see? Visit the ' +\n",
              "            '<a target=\"_blank\" href=https://colab.research.google.com/notebooks/data_table.ipynb>data table notebook</a>'\n",
              "            + ' to learn more about interactive tables.';\n",
              "          element.innerHTML = '';\n",
              "          dataTable['output_type'] = 'display_data';\n",
              "          await google.colab.output.renderOutput(dataTable, element);\n",
              "          const docLink = document.createElement('div');\n",
              "          docLink.innerHTML = docLinkHtml;\n",
              "          element.appendChild(docLink);\n",
              "        }\n",
              "      </script>\n",
              "    </div>\n",
              "  </div>\n",
              "  "
            ]
          },
          "metadata": {},
          "execution_count": 83
        }
      ]
    },
    {
      "cell_type": "code",
      "source": [
        "myFig = plt.figure();\n",
        "bp = pandas_data_passenger_australia_oceania[\"Passenger Count\"].plot.box();\n",
        "myFig.savefig(data_path + \"australia_oceania_passenger_count_boxplot.png\", format=\"png\")"
      ],
      "metadata": {
        "colab": {
          "base_uri": "https://localhost:8080/",
          "height": 265
        },
        "id": "5JmmkhndJD9l",
        "outputId": "3757138e-a72e-4807-c478-ad5afe2d3756"
      },
      "execution_count": null,
      "outputs": [
        {
          "output_type": "display_data",
          "data": {
            "text/plain": [
              "<Figure size 432x288 with 1 Axes>"
            ],
            "image/png": "[encoded data removed]"
          },
          "metadata": {
            "needs_background": "light"
          }
        }
      ]
    },
    {
      "cell_type": "markdown",
      "source": [
        "Asia"
      ],
      "metadata": {
        "id": "Dp1iX8XSJc_O"
      }
    },
    {
      "cell_type": "code",
      "source": [
        "data_passenger_asia = data.filter(data['GEO Region']=='Asia').select('Passenger Count')\n",
        "data_passenger_asia.show()"
      ],
      "metadata": {
        "colab": {
          "base_uri": "https://localhost:8080/"
        },
        "id": "c4KuqyBvJD56",
        "outputId": "0030a00a-80cc-4fa2-b741-7a4f71046449"
      },
      "execution_count": null,
      "outputs": [
        {
          "output_type": "stream",
          "name": "stdout",
          "text": [
            "+---------------+\n",
            "|Passenger Count|\n",
            "+---------------+\n",
            "|           6263|\n",
            "|           5500|\n",
            "|           6545|\n",
            "|           6094|\n",
            "|           5041|\n",
            "|           4744|\n",
            "|          11010|\n",
            "|           9628|\n",
            "|          13638|\n",
            "|          11255|\n",
            "|          14142|\n",
            "|          12132|\n",
            "|           9195|\n",
            "|           9086|\n",
            "|           6153|\n",
            "|           5646|\n",
            "|           7229|\n",
            "|           6554|\n",
            "|          12828|\n",
            "|          10269|\n",
            "+---------------+\n",
            "only showing top 20 rows\n",
            "\n"
          ]
        }
      ]
    },
    {
      "cell_type": "code",
      "source": [
        "pandas_data_passenger_asia = data_passenger_asia.toPandas()\n",
        "pandas_data_passenger_asia"
      ],
      "metadata": {
        "colab": {
          "base_uri": "https://localhost:8080/",
          "height": 424
        },
        "id": "dTpWrCDiJD22",
        "outputId": "1ed877c9-fe33-4319-c898-c18d201ee4a4"
      },
      "execution_count": null,
      "outputs": [
        {
          "output_type": "execute_result",
          "data": {
            "text/plain": [
              "      Passenger Count\n",
              "0                6263\n",
              "1                5500\n",
              "2                6545\n",
              "3                6094\n",
              "4                5041\n",
              "...               ...\n",
              "3268             9904\n",
              "3269            11807\n",
              "3270            13553\n",
              "3271            67286\n",
              "3272            71388\n",
              "\n",
              "[3273 rows x 1 columns]"
            ],
            "text/html": [
              "\n",
              "  <div id=\"df-b705129c-5616-4c4c-b224-e05ed81cd54a\">\n",
              "    <div class=\"colab-df-container\">\n",
              "      <div>\n",
              "<style scoped>\n",
              "    .dataframe tbody tr th:only-of-type {\n",
              "        vertical-align: middle;\n",
              "    }\n",
              "\n",
              "    .dataframe tbody tr th {\n",
              "        vertical-align: top;\n",
              "    }\n",
              "\n",
              "    .dataframe thead th {\n",
              "        text-align: right;\n",
              "    }\n",
              "</style>\n",
              "<table border=\"1\" class=\"dataframe\">\n",
              "  <thead>\n",
              "    <tr style=\"text-align: right;\">\n",
              "      <th></th>\n",
              "      <th>Passenger Count</th>\n",
              "    </tr>\n",
              "  </thead>\n",
              "  <tbody>\n",
              "    <tr>\n",
              "      <th>0</th>\n",
              "      <td>6263</td>\n",
              "    </tr>\n",
              "    <tr>\n",
              "      <th>1</th>\n",
              "      <td>5500</td>\n",
              "    </tr>\n",
              "    <tr>\n",
              "      <th>2</th>\n",
              "      <td>6545</td>\n",
              "    </tr>\n",
              "    <tr>\n",
              "      <th>3</th>\n",
              "      <td>6094</td>\n",
              "    </tr>\n",
              "    <tr>\n",
              "      <th>4</th>\n",
              "      <td>5041</td>\n",
              "    </tr>\n",
              "    <tr>\n",
              "      <th>...</th>\n",
              "      <td>...</td>\n",
              "    </tr>\n",
              "    <tr>\n",
              "      <th>3268</th>\n",
              "      <td>9904</td>\n",
              "    </tr>\n",
              "    <tr>\n",
              "      <th>3269</th>\n",
              "      <td>11807</td>\n",
              "    </tr>\n",
              "    <tr>\n",
              "      <th>3270</th>\n",
              "      <td>13553</td>\n",
              "    </tr>\n",
              "    <tr>\n",
              "      <th>3271</th>\n",
              "      <td>67286</td>\n",
              "    </tr>\n",
              "    <tr>\n",
              "      <th>3272</th>\n",
              "      <td>71388</td>\n",
              "    </tr>\n",
              "  </tbody>\n",
              "</table>\n",
              "<p>3273 rows × 1 columns</p>\n",
              "</div>\n",
              "      <button class=\"colab-df-convert\" onclick=\"convertToInteractive('df-b705129c-5616-4c4c-b224-e05ed81cd54a')\"\n",
              "              title=\"Convert this dataframe to an interactive table.\"\n",
              "              style=\"display:none;\">\n",
              "        \n",
              "  <svg xmlns=\"http://www.w3.org/2000/svg\" height=\"24px\"viewBox=\"0 0 24 24\"\n",
              "       width=\"24px\">\n",
              "    <path d=\"M0 0h24v24H0V0z\" fill=\"none\"/>\n",
              "    <path d=\"M18.56 5.44l.94 2.06.94-2.06 2.06-.94-2.06-.94-.94-2.06-.94 2.06-2.06.94zm-11 1L8.5 8.5l.94-2.06 2.06-.94-2.06-.94L8.5 2.5l-.94 2.06-2.06.94zm10 10l.94 2.06.94-2.06 2.06-.94-2.06-.94-.94-2.06-.94 2.06-2.06.94z\"/><path d=\"M17.41 7.96l-1.37-1.37c-.4-.4-.92-.59-1.43-.59-.52 0-1.04.2-1.43.59L10.3 9.45l-7.72 7.72c-.78.78-.78 2.05 0 2.83L4 21.41c.39.39.9.59 1.41.59.51 0 1.02-.2 1.41-.59l7.78-7.78 2.81-2.81c.8-.78.8-2.07 0-2.86zM5.41 20L4 18.59l7.72-7.72 1.47 1.35L5.41 20z\"/>\n",
              "  </svg>\n",
              "      </button>\n",
              "      \n",
              "  <style>\n",
              "    .colab-df-container {\n",
              "      display:flex;\n",
              "      flex-wrap:wrap;\n",
              "      gap: 12px;\n",
              "    }\n",
              "\n",
              "    .colab-df-convert {\n",
              "      background-color: #E8F0FE;\n",
              "      border: none;\n",
              "      border-radius: 50%;\n",
              "      cursor: pointer;\n",
              "      display: none;\n",
              "      fill: #1967D2;\n",
              "      height: 32px;\n",
              "      padding: 0 0 0 0;\n",
              "      width: 32px;\n",
              "    }\n",
              "\n",
              "    .colab-df-convert:hover {\n",
              "      background-color: #E2EBFA;\n",
              "      box-shadow: 0px 1px 2px rgba(60, 64, 67, 0.3), 0px 1px 3px 1px rgba(60, 64, 67, 0.15);\n",
              "      fill: #174EA6;\n",
              "    }\n",
              "\n",
              "    [theme=dark] .colab-df-convert {\n",
              "      background-color: #3B4455;\n",
              "      fill: #D2E3FC;\n",
              "    }\n",
              "\n",
              "    [theme=dark] .colab-df-convert:hover {\n",
              "      background-color: #434B5C;\n",
              "      box-shadow: 0px 1px 3px 1px rgba(0, 0, 0, 0.15);\n",
              "      filter: drop-shadow(0px 1px 2px rgba(0, 0, 0, 0.3));\n",
              "      fill: #FFFFFF;\n",
              "    }\n",
              "  </style>\n",
              "\n",
              "      <script>\n",
              "        const buttonEl =\n",
              "          document.querySelector('#df-b705129c-5616-4c4c-b224-e05ed81cd54a button.colab-df-convert');\n",
              "        buttonEl.style.display =\n",
              "          google.colab.kernel.accessAllowed ? 'block' : 'none';\n",
              "\n",
              "        async function convertToInteractive(key) {\n",
              "          const element = document.querySelector('#df-b705129c-5616-4c4c-b224-e05ed81cd54a');\n",
              "          const dataTable =\n",
              "            await google.colab.kernel.invokeFunction('convertToInteractive',\n",
              "                                                     [key], {});\n",
              "          if (!dataTable) return;\n",
              "\n",
              "          const docLinkHtml = 'Like what you see? Visit the ' +\n",
              "            '<a target=\"_blank\" href=https://colab.research.google.com/notebooks/data_table.ipynb>data table notebook</a>'\n",
              "            + ' to learn more about interactive tables.';\n",
              "          element.innerHTML = '';\n",
              "          dataTable['output_type'] = 'display_data';\n",
              "          await google.colab.output.renderOutput(dataTable, element);\n",
              "          const docLink = document.createElement('div');\n",
              "          docLink.innerHTML = docLinkHtml;\n",
              "          element.appendChild(docLink);\n",
              "        }\n",
              "      </script>\n",
              "    </div>\n",
              "  </div>\n",
              "  "
            ]
          },
          "metadata": {},
          "execution_count": 86
        }
      ]
    },
    {
      "cell_type": "code",
      "source": [
        "myFig = plt.figure();\n",
        "bp = pandas_data_passenger_asia[\"Passenger Count\"].plot.box();\n",
        "myFig.savefig(data_path + \"asia_passenger_count_boxplot.png\", format=\"png\")"
      ],
      "metadata": {
        "colab": {
          "base_uri": "https://localhost:8080/",
          "height": 265
        },
        "id": "9QZMoFFqJDzZ",
        "outputId": "e05dd1fd-cbba-43ed-dbd4-ba178869b04a"
      },
      "execution_count": null,
      "outputs": [
        {
          "output_type": "display_data",
          "data": {
            "text/plain": [
              "<Figure size 432x288 with 1 Axes>"
            ],
            "image/png": "[encoded data removed]"
          },
          "metadata": {
            "needs_background": "light"
          }
        }
      ]
    },
    {
      "cell_type": "markdown",
      "source": [
        "# **Boxplot***** Adjusted Passenger Count**"
      ],
      "metadata": {
        "id": "w7-hNrCBJmhB"
      }
    },
    {
      "cell_type": "markdown",
      "source": [
        "Europe"
      ],
      "metadata": {
        "id": "6VQIIfu3JwcA"
      }
    },
    {
      "cell_type": "code",
      "source": [
        "data_adjusted_passenger_europe = data.filter(data['GEO Region']=='Europe').select('Adjusted Passenger Count')\n",
        "data_adjusted_passenger_europe.show()"
      ],
      "metadata": {
        "colab": {
          "base_uri": "https://localhost:8080/"
        },
        "id": "HtYg-qZoJDwC",
        "outputId": "304e54bc-ad98-4e53-c587-023a58c672a3"
      },
      "execution_count": null,
      "outputs": [
        {
          "output_type": "stream",
          "name": "stdout",
          "text": [
            "+------------------------+\n",
            "|Adjusted Passenger Count|\n",
            "+------------------------+\n",
            "|                   12050|\n",
            "|                   11638|\n",
            "|                     325|\n",
            "|                     545|\n",
            "|                   20632|\n",
            "|                   21686|\n",
            "|                    4540|\n",
            "|                    4341|\n",
            "|                    9978|\n",
            "|                    9587|\n",
            "|                   22389|\n",
            "|                   20511|\n",
            "|                   30796|\n",
            "|                   29283|\n",
            "|                    1776|\n",
            "|                   11684|\n",
            "|                   10771|\n",
            "|                   11230|\n",
            "|                   11731|\n",
            "|                     353|\n",
            "+------------------------+\n",
            "only showing top 20 rows\n",
            "\n"
          ]
        }
      ]
    },
    {
      "cell_type": "code",
      "source": [
        "pandas_data_adjusted_passenger_europe = data_adjusted_passenger_europe.toPandas()\n",
        "pandas_data_adjusted_passenger_europe"
      ],
      "metadata": {
        "colab": {
          "base_uri": "https://localhost:8080/",
          "height": 424
        },
        "id": "yg3ixrhnJDsa",
        "outputId": "7ac2e88d-9126-44b9-e5f3-e3bb444aa9e9"
      },
      "execution_count": null,
      "outputs": [
        {
          "output_type": "execute_result",
          "data": {
            "text/plain": [
              "      Adjusted Passenger Count\n",
              "0                        12050\n",
              "1                        11638\n",
              "2                          325\n",
              "3                          545\n",
              "4                        20632\n",
              "...                        ...\n",
              "2084                      8729\n",
              "2085                     20876\n",
              "2086                     19711\n",
              "2087                     12313\n",
              "2088                     10898\n",
              "\n",
              "[2089 rows x 1 columns]"
            ],
            "text/html": [
              "\n",
              "  <div id=\"df-98687310-5338-4e12-a24c-050e4fda30af\">\n",
              "    <div class=\"colab-df-container\">\n",
              "      <div>\n",
              "<style scoped>\n",
              "    .dataframe tbody tr th:only-of-type {\n",
              "        vertical-align: middle;\n",
              "    }\n",
              "\n",
              "    .dataframe tbody tr th {\n",
              "        vertical-align: top;\n",
              "    }\n",
              "\n",
              "    .dataframe thead th {\n",
              "        text-align: right;\n",
              "    }\n",
              "</style>\n",
              "<table border=\"1\" class=\"dataframe\">\n",
              "  <thead>\n",
              "    <tr style=\"text-align: right;\">\n",
              "      <th></th>\n",
              "      <th>Adjusted Passenger Count</th>\n",
              "    </tr>\n",
              "  </thead>\n",
              "  <tbody>\n",
              "    <tr>\n",
              "      <th>0</th>\n",
              "      <td>12050</td>\n",
              "    </tr>\n",
              "    <tr>\n",
              "      <th>1</th>\n",
              "      <td>11638</td>\n",
              "    </tr>\n",
              "    <tr>\n",
              "      <th>2</th>\n",
              "      <td>325</td>\n",
              "    </tr>\n",
              "    <tr>\n",
              "      <th>3</th>\n",
              "      <td>545</td>\n",
              "    </tr>\n",
              "    <tr>\n",
              "      <th>4</th>\n",
              "      <td>20632</td>\n",
              "    </tr>\n",
              "    <tr>\n",
              "      <th>...</th>\n",
              "      <td>...</td>\n",
              "    </tr>\n",
              "    <tr>\n",
              "      <th>2084</th>\n",
              "      <td>8729</td>\n",
              "    </tr>\n",
              "    <tr>\n",
              "      <th>2085</th>\n",
              "      <td>20876</td>\n",
              "    </tr>\n",
              "    <tr>\n",
              "      <th>2086</th>\n",
              "      <td>19711</td>\n",
              "    </tr>\n",
              "    <tr>\n",
              "      <th>2087</th>\n",
              "      <td>12313</td>\n",
              "    </tr>\n",
              "    <tr>\n",
              "      <th>2088</th>\n",
              "      <td>10898</td>\n",
              "    </tr>\n",
              "  </tbody>\n",
              "</table>\n",
              "<p>2089 rows × 1 columns</p>\n",
              "</div>\n",
              "      <button class=\"colab-df-convert\" onclick=\"convertToInteractive('df-98687310-5338-4e12-a24c-050e4fda30af')\"\n",
              "              title=\"Convert this dataframe to an interactive table.\"\n",
              "              style=\"display:none;\">\n",
              "        \n",
              "  <svg xmlns=\"http://www.w3.org/2000/svg\" height=\"24px\"viewBox=\"0 0 24 24\"\n",
              "       width=\"24px\">\n",
              "    <path d=\"M0 0h24v24H0V0z\" fill=\"none\"/>\n",
              "    <path d=\"M18.56 5.44l.94 2.06.94-2.06 2.06-.94-2.06-.94-.94-2.06-.94 2.06-2.06.94zm-11 1L8.5 8.5l.94-2.06 2.06-.94-2.06-.94L8.5 2.5l-.94 2.06-2.06.94zm10 10l.94 2.06.94-2.06 2.06-.94-2.06-.94-.94-2.06-.94 2.06-2.06.94z\"/><path d=\"M17.41 7.96l-1.37-1.37c-.4-.4-.92-.59-1.43-.59-.52 0-1.04.2-1.43.59L10.3 9.45l-7.72 7.72c-.78.78-.78 2.05 0 2.83L4 21.41c.39.39.9.59 1.41.59.51 0 1.02-.2 1.41-.59l7.78-7.78 2.81-2.81c.8-.78.8-2.07 0-2.86zM5.41 20L4 18.59l7.72-7.72 1.47 1.35L5.41 20z\"/>\n",
              "  </svg>\n",
              "      </button>\n",
              "      \n",
              "  <style>\n",
              "    .colab-df-container {\n",
              "      display:flex;\n",
              "      flex-wrap:wrap;\n",
              "      gap: 12px;\n",
              "    }\n",
              "\n",
              "    .colab-df-convert {\n",
              "      background-color: #E8F0FE;\n",
              "      border: none;\n",
              "      border-radius: 50%;\n",
              "      cursor: pointer;\n",
              "      display: none;\n",
              "      fill: #1967D2;\n",
              "      height: 32px;\n",
              "      padding: 0 0 0 0;\n",
              "      width: 32px;\n",
              "    }\n",
              "\n",
              "    .colab-df-convert:hover {\n",
              "      background-color: #E2EBFA;\n",
              "      box-shadow: 0px 1px 2px rgba(60, 64, 67, 0.3), 0px 1px 3px 1px rgba(60, 64, 67, 0.15);\n",
              "      fill: #174EA6;\n",
              "    }\n",
              "\n",
              "    [theme=dark] .colab-df-convert {\n",
              "      background-color: #3B4455;\n",
              "      fill: #D2E3FC;\n",
              "    }\n",
              "\n",
              "    [theme=dark] .colab-df-convert:hover {\n",
              "      background-color: #434B5C;\n",
              "      box-shadow: 0px 1px 3px 1px rgba(0, 0, 0, 0.15);\n",
              "      filter: drop-shadow(0px 1px 2px rgba(0, 0, 0, 0.3));\n",
              "      fill: #FFFFFF;\n",
              "    }\n",
              "  </style>\n",
              "\n",
              "      <script>\n",
              "        const buttonEl =\n",
              "          document.querySelector('#df-98687310-5338-4e12-a24c-050e4fda30af button.colab-df-convert');\n",
              "        buttonEl.style.display =\n",
              "          google.colab.kernel.accessAllowed ? 'block' : 'none';\n",
              "\n",
              "        async function convertToInteractive(key) {\n",
              "          const element = document.querySelector('#df-98687310-5338-4e12-a24c-050e4fda30af');\n",
              "          const dataTable =\n",
              "            await google.colab.kernel.invokeFunction('convertToInteractive',\n",
              "                                                     [key], {});\n",
              "          if (!dataTable) return;\n",
              "\n",
              "          const docLinkHtml = 'Like what you see? Visit the ' +\n",
              "            '<a target=\"_blank\" href=https://colab.research.google.com/notebooks/data_table.ipynb>data table notebook</a>'\n",
              "            + ' to learn more about interactive tables.';\n",
              "          element.innerHTML = '';\n",
              "          dataTable['output_type'] = 'display_data';\n",
              "          await google.colab.output.renderOutput(dataTable, element);\n",
              "          const docLink = document.createElement('div');\n",
              "          docLink.innerHTML = docLinkHtml;\n",
              "          element.appendChild(docLink);\n",
              "        }\n",
              "      </script>\n",
              "    </div>\n",
              "  </div>\n",
              "  "
            ]
          },
          "metadata": {},
          "execution_count": 89
        }
      ]
    },
    {
      "cell_type": "code",
      "source": [
        "myFig = plt.figure();\n",
        "bp = pandas_data_adjusted_passenger_europe[\"Adjusted Passenger Count\"].plot.box();\n",
        "myFig.savefig(data_path + \"europe_adjusted_passenger_count_boxplot.png\", format=\"png\")"
      ],
      "metadata": {
        "colab": {
          "base_uri": "https://localhost:8080/",
          "height": 267
        },
        "id": "S8YMaxmfJDo7",
        "outputId": "804e097c-34d9-435a-f503-84f30dd5ec5e"
      },
      "execution_count": null,
      "outputs": [
        {
          "output_type": "display_data",
          "data": {
            "text/plain": [
              "<Figure size 432x288 with 1 Axes>"
            ],
            "image/png": "[encoded data removed]"
          },
          "metadata": {
            "needs_background": "light"
          }
        }
      ]
    },
    {
      "cell_type": "markdown",
      "source": [
        "Central America"
      ],
      "metadata": {
        "id": "iXy9mpB1Jzy5"
      }
    },
    {
      "cell_type": "code",
      "source": [
        "data_adjusted_passenger_central_america = data.filter(data['GEO Region']=='Central America').select('Adjusted Passenger Count')\n",
        "data_adjusted_passenger_central_america.show()"
      ],
      "metadata": {
        "colab": {
          "base_uri": "https://localhost:8080/"
        },
        "id": "B2OhbEQeJDlp",
        "outputId": "f3c3b2ba-935c-4148-a75c-9eaa9c392255"
      },
      "execution_count": null,
      "outputs": [
        {
          "output_type": "stream",
          "name": "stdout",
          "text": [
            "+------------------------+\n",
            "|Adjusted Passenger Count|\n",
            "+------------------------+\n",
            "|                    6324|\n",
            "|                    7031|\n",
            "|                    7357|\n",
            "|                    5128|\n",
            "|                    3790|\n",
            "|                    3529|\n",
            "|                    3527|\n",
            "|                    4037|\n",
            "|                    4105|\n",
            "|                    4259|\n",
            "|                    5371|\n",
            "|                    7536|\n",
            "|                    6237|\n",
            "|                    5321|\n",
            "|                    4176|\n",
            "|                    3938|\n",
            "|                    4436|\n",
            "|                    4395|\n",
            "|                    4518|\n",
            "|                    4418|\n",
            "+------------------------+\n",
            "only showing top 20 rows\n",
            "\n"
          ]
        }
      ]
    },
    {
      "cell_type": "code",
      "source": [
        "pandas_data_adjusted_passenger_central_america = data_adjusted_passenger_central_america.toPandas()\n",
        "pandas_data_adjusted_passenger_central_america"
      ],
      "metadata": {
        "colab": {
          "base_uri": "https://localhost:8080/",
          "height": 424
        },
        "id": "okbE5v_QJDiW",
        "outputId": "2f096d6c-3ff2-401f-a2b2-800ac69135ad"
      },
      "execution_count": null,
      "outputs": [
        {
          "output_type": "execute_result",
          "data": {
            "text/plain": [
              "     Adjusted Passenger Count\n",
              "0                        6324\n",
              "1                        7031\n",
              "2                        7357\n",
              "3                        5128\n",
              "4                        3790\n",
              "..                        ...\n",
              "269                      4741\n",
              "270                      3723\n",
              "271                      4173\n",
              "272                      5186\n",
              "273                      5405\n",
              "\n",
              "[274 rows x 1 columns]"
            ],
            "text/html": [
              "\n",
              "  <div id=\"df-0c10bbf7-3243-4ef7-9734-5c0913046a30\">\n",
              "    <div class=\"colab-df-container\">\n",
              "      <div>\n",
              "<style scoped>\n",
              "    .dataframe tbody tr th:only-of-type {\n",
              "        vertical-align: middle;\n",
              "    }\n",
              "\n",
              "    .dataframe tbody tr th {\n",
              "        vertical-align: top;\n",
              "    }\n",
              "\n",
              "    .dataframe thead th {\n",
              "        text-align: right;\n",
              "    }\n",
              "</style>\n",
              "<table border=\"1\" class=\"dataframe\">\n",
              "  <thead>\n",
              "    <tr style=\"text-align: right;\">\n",
              "      <th></th>\n",
              "      <th>Adjusted Passenger Count</th>\n",
              "    </tr>\n",
              "  </thead>\n",
              "  <tbody>\n",
              "    <tr>\n",
              "      <th>0</th>\n",
              "      <td>6324</td>\n",
              "    </tr>\n",
              "    <tr>\n",
              "      <th>1</th>\n",
              "      <td>7031</td>\n",
              "    </tr>\n",
              "    <tr>\n",
              "      <th>2</th>\n",
              "      <td>7357</td>\n",
              "    </tr>\n",
              "    <tr>\n",
              "      <th>3</th>\n",
              "      <td>5128</td>\n",
              "    </tr>\n",
              "    <tr>\n",
              "      <th>4</th>\n",
              "      <td>3790</td>\n",
              "    </tr>\n",
              "    <tr>\n",
              "      <th>...</th>\n",
              "      <td>...</td>\n",
              "    </tr>\n",
              "    <tr>\n",
              "      <th>269</th>\n",
              "      <td>4741</td>\n",
              "    </tr>\n",
              "    <tr>\n",
              "      <th>270</th>\n",
              "      <td>3723</td>\n",
              "    </tr>\n",
              "    <tr>\n",
              "      <th>271</th>\n",
              "      <td>4173</td>\n",
              "    </tr>\n",
              "    <tr>\n",
              "      <th>272</th>\n",
              "      <td>5186</td>\n",
              "    </tr>\n",
              "    <tr>\n",
              "      <th>273</th>\n",
              "      <td>5405</td>\n",
              "    </tr>\n",
              "  </tbody>\n",
              "</table>\n",
              "<p>274 rows × 1 columns</p>\n",
              "</div>\n",
              "      <button class=\"colab-df-convert\" onclick=\"convertToInteractive('df-0c10bbf7-3243-4ef7-9734-5c0913046a30')\"\n",
              "              title=\"Convert this dataframe to an interactive table.\"\n",
              "              style=\"display:none;\">\n",
              "        \n",
              "  <svg xmlns=\"http://www.w3.org/2000/svg\" height=\"24px\"viewBox=\"0 0 24 24\"\n",
              "       width=\"24px\">\n",
              "    <path d=\"M0 0h24v24H0V0z\" fill=\"none\"/>\n",
              "    <path d=\"M18.56 5.44l.94 2.06.94-2.06 2.06-.94-2.06-.94-.94-2.06-.94 2.06-2.06.94zm-11 1L8.5 8.5l.94-2.06 2.06-.94-2.06-.94L8.5 2.5l-.94 2.06-2.06.94zm10 10l.94 2.06.94-2.06 2.06-.94-2.06-.94-.94-2.06-.94 2.06-2.06.94z\"/><path d=\"M17.41 7.96l-1.37-1.37c-.4-.4-.92-.59-1.43-.59-.52 0-1.04.2-1.43.59L10.3 9.45l-7.72 7.72c-.78.78-.78 2.05 0 2.83L4 21.41c.39.39.9.59 1.41.59.51 0 1.02-.2 1.41-.59l7.78-7.78 2.81-2.81c.8-.78.8-2.07 0-2.86zM5.41 20L4 18.59l7.72-7.72 1.47 1.35L5.41 20z\"/>\n",
              "  </svg>\n",
              "      </button>\n",
              "      \n",
              "  <style>\n",
              "    .colab-df-container {\n",
              "      display:flex;\n",
              "      flex-wrap:wrap;\n",
              "      gap: 12px;\n",
              "    }\n",
              "\n",
              "    .colab-df-convert {\n",
              "      background-color: #E8F0FE;\n",
              "      border: none;\n",
              "      border-radius: 50%;\n",
              "      cursor: pointer;\n",
              "      display: none;\n",
              "      fill: #1967D2;\n",
              "      height: 32px;\n",
              "      padding: 0 0 0 0;\n",
              "      width: 32px;\n",
              "    }\n",
              "\n",
              "    .colab-df-convert:hover {\n",
              "      background-color: #E2EBFA;\n",
              "      box-shadow: 0px 1px 2px rgba(60, 64, 67, 0.3), 0px 1px 3px 1px rgba(60, 64, 67, 0.15);\n",
              "      fill: #174EA6;\n",
              "    }\n",
              "\n",
              "    [theme=dark] .colab-df-convert {\n",
              "      background-color: #3B4455;\n",
              "      fill: #D2E3FC;\n",
              "    }\n",
              "\n",
              "    [theme=dark] .colab-df-convert:hover {\n",
              "      background-color: #434B5C;\n",
              "      box-shadow: 0px 1px 3px 1px rgba(0, 0, 0, 0.15);\n",
              "      filter: drop-shadow(0px 1px 2px rgba(0, 0, 0, 0.3));\n",
              "      fill: #FFFFFF;\n",
              "    }\n",
              "  </style>\n",
              "\n",
              "      <script>\n",
              "        const buttonEl =\n",
              "          document.querySelector('#df-0c10bbf7-3243-4ef7-9734-5c0913046a30 button.colab-df-convert');\n",
              "        buttonEl.style.display =\n",
              "          google.colab.kernel.accessAllowed ? 'block' : 'none';\n",
              "\n",
              "        async function convertToInteractive(key) {\n",
              "          const element = document.querySelector('#df-0c10bbf7-3243-4ef7-9734-5c0913046a30');\n",
              "          const dataTable =\n",
              "            await google.colab.kernel.invokeFunction('convertToInteractive',\n",
              "                                                     [key], {});\n",
              "          if (!dataTable) return;\n",
              "\n",
              "          const docLinkHtml = 'Like what you see? Visit the ' +\n",
              "            '<a target=\"_blank\" href=https://colab.research.google.com/notebooks/data_table.ipynb>data table notebook</a>'\n",
              "            + ' to learn more about interactive tables.';\n",
              "          element.innerHTML = '';\n",
              "          dataTable['output_type'] = 'display_data';\n",
              "          await google.colab.output.renderOutput(dataTable, element);\n",
              "          const docLink = document.createElement('div');\n",
              "          docLink.innerHTML = docLinkHtml;\n",
              "          element.appendChild(docLink);\n",
              "        }\n",
              "      </script>\n",
              "    </div>\n",
              "  </div>\n",
              "  "
            ]
          },
          "metadata": {},
          "execution_count": 92
        }
      ]
    },
    {
      "cell_type": "code",
      "source": [
        "myFig = plt.figure();\n",
        "bp = pandas_data_adjusted_passenger_central_america[\"Adjusted Passenger Count\"].plot.box();\n",
        "myFig.savefig(data_path + \"central_america_adjusted_passenger_count_boxplot.png\", format=\"png\")"
      ],
      "metadata": {
        "colab": {
          "base_uri": "https://localhost:8080/",
          "height": 265
        },
        "id": "r8bzevXjJDfJ",
        "outputId": "772d2d4e-ecb7-46f4-adcf-b55bbb8ba35a"
      },
      "execution_count": null,
      "outputs": [
        {
          "output_type": "display_data",
          "data": {
            "text/plain": [
              "<Figure size 432x288 with 1 Axes>"
            ],
            "image/png": "[encoded data removed]"
          },
          "metadata": {
            "needs_background": "light"
          }
        }
      ]
    },
    {
      "cell_type": "markdown",
      "source": [
        "US"
      ],
      "metadata": {
        "id": "fRSaQbiPJ-Bi"
      }
    },
    {
      "cell_type": "code",
      "source": [
        "data_adjusted_passenger_us = data.filter(data['GEO Region']=='US').select('Adjusted Passenger Count')\n",
        "data_adjusted_passenger_us.show()"
      ],
      "metadata": {
        "colab": {
          "base_uri": "https://localhost:8080/"
        },
        "id": "0DZg1-3gJDby",
        "outputId": "bad677c9-749f-447d-b5d8-448ac9a89191"
      },
      "execution_count": null,
      "outputs": [
        {
          "output_type": "stream",
          "name": "stdout",
          "text": [
            "+------------------------+\n",
            "|Adjusted Passenger Count|\n",
            "+------------------------+\n",
            "|                   27271|\n",
            "|                   29131|\n",
            "|                   10830|\n",
            "|                    8055|\n",
            "|                    7984|\n",
            "|                   36641|\n",
            "|                   39379|\n",
            "|                    7356|\n",
            "|                  166577|\n",
            "|                  160890|\n",
            "|                    5493|\n",
            "|                    5213|\n",
            "|                    1552|\n",
            "|                    1484|\n",
            "|                   97510|\n",
            "|                   93791|\n",
            "|                   19234|\n",
            "|                   18368|\n",
            "|                    7579|\n",
            "|                    7658|\n",
            "+------------------------+\n",
            "only showing top 20 rows\n",
            "\n"
          ]
        }
      ]
    },
    {
      "cell_type": "code",
      "source": [
        "pandas_data_adjusted_passenger_us = data_adjusted_passenger_us.toPandas()\n",
        "pandas_data_adjusted_passenger_us"
      ],
      "metadata": {
        "colab": {
          "base_uri": "https://localhost:8080/",
          "height": 424
        },
        "id": "aAWg0OApJDYd",
        "outputId": "2a43a9b8-17b2-4276-dd34-a1a0e9e46830"
      },
      "execution_count": null,
      "outputs": [
        {
          "output_type": "execute_result",
          "data": {
            "text/plain": [
              "      Adjusted Passenger Count\n",
              "0                        27271\n",
              "1                        29131\n",
              "2                        10830\n",
              "3                         8055\n",
              "4                         7984\n",
              "...                        ...\n",
              "5792                    327187\n",
              "5793                    319873\n",
              "5794                        78\n",
              "5795                    186464\n",
              "5796                    194636\n",
              "\n",
              "[5797 rows x 1 columns]"
            ],
            "text/html": [
              "\n",
              "  <div id=\"df-b8f15f58-7450-4a32-a353-2a731c8256e7\">\n",
              "    <div class=\"colab-df-container\">\n",
              "      <div>\n",
              "<style scoped>\n",
              "    .dataframe tbody tr th:only-of-type {\n",
              "        vertical-align: middle;\n",
              "    }\n",
              "\n",
              "    .dataframe tbody tr th {\n",
              "        vertical-align: top;\n",
              "    }\n",
              "\n",
              "    .dataframe thead th {\n",
              "        text-align: right;\n",
              "    }\n",
              "</style>\n",
              "<table border=\"1\" class=\"dataframe\">\n",
              "  <thead>\n",
              "    <tr style=\"text-align: right;\">\n",
              "      <th></th>\n",
              "      <th>Adjusted Passenger Count</th>\n",
              "    </tr>\n",
              "  </thead>\n",
              "  <tbody>\n",
              "    <tr>\n",
              "      <th>0</th>\n",
              "      <td>27271</td>\n",
              "    </tr>\n",
              "    <tr>\n",
              "      <th>1</th>\n",
              "      <td>29131</td>\n",
              "    </tr>\n",
              "    <tr>\n",
              "      <th>2</th>\n",
              "      <td>10830</td>\n",
              "    </tr>\n",
              "    <tr>\n",
              "      <th>3</th>\n",
              "      <td>8055</td>\n",
              "    </tr>\n",
              "    <tr>\n",
              "      <th>4</th>\n",
              "      <td>7984</td>\n",
              "    </tr>\n",
              "    <tr>\n",
              "      <th>...</th>\n",
              "      <td>...</td>\n",
              "    </tr>\n",
              "    <tr>\n",
              "      <th>5792</th>\n",
              "      <td>327187</td>\n",
              "    </tr>\n",
              "    <tr>\n",
              "      <th>5793</th>\n",
              "      <td>319873</td>\n",
              "    </tr>\n",
              "    <tr>\n",
              "      <th>5794</th>\n",
              "      <td>78</td>\n",
              "    </tr>\n",
              "    <tr>\n",
              "      <th>5795</th>\n",
              "      <td>186464</td>\n",
              "    </tr>\n",
              "    <tr>\n",
              "      <th>5796</th>\n",
              "      <td>194636</td>\n",
              "    </tr>\n",
              "  </tbody>\n",
              "</table>\n",
              "<p>5797 rows × 1 columns</p>\n",
              "</div>\n",
              "      <button class=\"colab-df-convert\" onclick=\"convertToInteractive('df-b8f15f58-7450-4a32-a353-2a731c8256e7')\"\n",
              "              title=\"Convert this dataframe to an interactive table.\"\n",
              "              style=\"display:none;\">\n",
              "        \n",
              "  <svg xmlns=\"http://www.w3.org/2000/svg\" height=\"24px\"viewBox=\"0 0 24 24\"\n",
              "       width=\"24px\">\n",
              "    <path d=\"M0 0h24v24H0V0z\" fill=\"none\"/>\n",
              "    <path d=\"M18.56 5.44l.94 2.06.94-2.06 2.06-.94-2.06-.94-.94-2.06-.94 2.06-2.06.94zm-11 1L8.5 8.5l.94-2.06 2.06-.94-2.06-.94L8.5 2.5l-.94 2.06-2.06.94zm10 10l.94 2.06.94-2.06 2.06-.94-2.06-.94-.94-2.06-.94 2.06-2.06.94z\"/><path d=\"M17.41 7.96l-1.37-1.37c-.4-.4-.92-.59-1.43-.59-.52 0-1.04.2-1.43.59L10.3 9.45l-7.72 7.72c-.78.78-.78 2.05 0 2.83L4 21.41c.39.39.9.59 1.41.59.51 0 1.02-.2 1.41-.59l7.78-7.78 2.81-2.81c.8-.78.8-2.07 0-2.86zM5.41 20L4 18.59l7.72-7.72 1.47 1.35L5.41 20z\"/>\n",
              "  </svg>\n",
              "      </button>\n",
              "      \n",
              "  <style>\n",
              "    .colab-df-container {\n",
              "      display:flex;\n",
              "      flex-wrap:wrap;\n",
              "      gap: 12px;\n",
              "    }\n",
              "\n",
              "    .colab-df-convert {\n",
              "      background-color: #E8F0FE;\n",
              "      border: none;\n",
              "      border-radius: 50%;\n",
              "      cursor: pointer;\n",
              "      display: none;\n",
              "      fill: #1967D2;\n",
              "      height: 32px;\n",
              "      padding: 0 0 0 0;\n",
              "      width: 32px;\n",
              "    }\n",
              "\n",
              "    .colab-df-convert:hover {\n",
              "      background-color: #E2EBFA;\n",
              "      box-shadow: 0px 1px 2px rgba(60, 64, 67, 0.3), 0px 1px 3px 1px rgba(60, 64, 67, 0.15);\n",
              "      fill: #174EA6;\n",
              "    }\n",
              "\n",
              "    [theme=dark] .colab-df-convert {\n",
              "      background-color: #3B4455;\n",
              "      fill: #D2E3FC;\n",
              "    }\n",
              "\n",
              "    [theme=dark] .colab-df-convert:hover {\n",
              "      background-color: #434B5C;\n",
              "      box-shadow: 0px 1px 3px 1px rgba(0, 0, 0, 0.15);\n",
              "      filter: drop-shadow(0px 1px 2px rgba(0, 0, 0, 0.3));\n",
              "      fill: #FFFFFF;\n",
              "    }\n",
              "  </style>\n",
              "\n",
              "      <script>\n",
              "        const buttonEl =\n",
              "          document.querySelector('#df-b8f15f58-7450-4a32-a353-2a731c8256e7 button.colab-df-convert');\n",
              "        buttonEl.style.display =\n",
              "          google.colab.kernel.accessAllowed ? 'block' : 'none';\n",
              "\n",
              "        async function convertToInteractive(key) {\n",
              "          const element = document.querySelector('#df-b8f15f58-7450-4a32-a353-2a731c8256e7');\n",
              "          const dataTable =\n",
              "            await google.colab.kernel.invokeFunction('convertToInteractive',\n",
              "                                                     [key], {});\n",
              "          if (!dataTable) return;\n",
              "\n",
              "          const docLinkHtml = 'Like what you see? Visit the ' +\n",
              "            '<a target=\"_blank\" href=https://colab.research.google.com/notebooks/data_table.ipynb>data table notebook</a>'\n",
              "            + ' to learn more about interactive tables.';\n",
              "          element.innerHTML = '';\n",
              "          dataTable['output_type'] = 'display_data';\n",
              "          await google.colab.output.renderOutput(dataTable, element);\n",
              "          const docLink = document.createElement('div');\n",
              "          docLink.innerHTML = docLinkHtml;\n",
              "          element.appendChild(docLink);\n",
              "        }\n",
              "      </script>\n",
              "    </div>\n",
              "  </div>\n",
              "  "
            ]
          },
          "metadata": {},
          "execution_count": 95
        }
      ]
    },
    {
      "cell_type": "code",
      "source": [
        "myFig = plt.figure();\n",
        "bp = pandas_data_adjusted_passenger_us[\"Adjusted Passenger Count\"].plot.box();\n",
        "myFig.savefig(data_path + \"us_adjusted_passenger_count_boxplot.png\", format=\"png\")"
      ],
      "metadata": {
        "colab": {
          "base_uri": "https://localhost:8080/",
          "height": 265
        },
        "id": "HNFXJJLBJDU_",
        "outputId": "0adb9b26-5e8b-4bde-e61b-1a835945361e"
      },
      "execution_count": null,
      "outputs": [
        {
          "output_type": "display_data",
          "data": {
            "text/plain": [
              "<Figure size 432x288 with 1 Axes>"
            ],
            "image/png": "[encoded data removed]"
          },
          "metadata": {
            "needs_background": "light"
          }
        }
      ]
    },
    {
      "cell_type": "markdown",
      "source": [
        "South America"
      ],
      "metadata": {
        "id": "nsUWzIURKHzL"
      }
    },
    {
      "cell_type": "code",
      "source": [
        "data_adjusted_passenger_south_america = data.filter(data['GEO Region']=='South America').select('Adjusted Passenger Count')\n",
        "data_adjusted_passenger_south_america.show()"
      ],
      "metadata": {
        "colab": {
          "base_uri": "https://localhost:8080/"
        },
        "id": "Ffyl14wQJDRq",
        "outputId": "90931779-b29c-47d4-d33d-45df3cd73fcd"
      },
      "execution_count": null,
      "outputs": [
        {
          "output_type": "stream",
          "name": "stdout",
          "text": [
            "+------------------------+\n",
            "|Adjusted Passenger Count|\n",
            "+------------------------+\n",
            "|                    3400|\n",
            "|                    3030|\n",
            "|                    3257|\n",
            "|                    2807|\n",
            "|                    2799|\n",
            "|                    2612|\n",
            "|                    3133|\n",
            "|                    3120|\n",
            "|                    2769|\n",
            "|                    3310|\n",
            "|                    2949|\n",
            "|                    3285|\n",
            "|                    3685|\n",
            "|                    2882|\n",
            "|                    2940|\n",
            "|                    2954|\n",
            "|                    3218|\n",
            "|                    3485|\n",
            "|                    2558|\n",
            "|                    3100|\n",
            "+------------------------+\n",
            "only showing top 20 rows\n",
            "\n"
          ]
        }
      ]
    },
    {
      "cell_type": "code",
      "source": [
        "pandas_data_adjusted_passenger_south_america = data_adjusted_passenger_south_america.toPandas()\n",
        "pandas_data_adjusted_passenger_south_america"
      ],
      "metadata": {
        "colab": {
          "base_uri": "https://localhost:8080/",
          "height": 424
        },
        "id": "9LJv1NOEJDOj",
        "outputId": "26fcf9ff-d350-4033-86c0-deec8e51b654"
      },
      "execution_count": null,
      "outputs": [
        {
          "output_type": "execute_result",
          "data": {
            "text/plain": [
              "    Adjusted Passenger Count\n",
              "0                       3400\n",
              "1                       3030\n",
              "2                       3257\n",
              "3                       2807\n",
              "4                       2799\n",
              "..                       ...\n",
              "85                      2598\n",
              "86                      2152\n",
              "87                      2612\n",
              "88                      2578\n",
              "89                      2886\n",
              "\n",
              "[90 rows x 1 columns]"
            ],
            "text/html": [
              "\n",
              "  <div id=\"df-d03c1502-3fb8-49e2-905e-68493a747cba\">\n",
              "    <div class=\"colab-df-container\">\n",
              "      <div>\n",
              "<style scoped>\n",
              "    .dataframe tbody tr th:only-of-type {\n",
              "        vertical-align: middle;\n",
              "    }\n",
              "\n",
              "    .dataframe tbody tr th {\n",
              "        vertical-align: top;\n",
              "    }\n",
              "\n",
              "    .dataframe thead th {\n",
              "        text-align: right;\n",
              "    }\n",
              "</style>\n",
              "<table border=\"1\" class=\"dataframe\">\n",
              "  <thead>\n",
              "    <tr style=\"text-align: right;\">\n",
              "      <th></th>\n",
              "      <th>Adjusted Passenger Count</th>\n",
              "    </tr>\n",
              "  </thead>\n",
              "  <tbody>\n",
              "    <tr>\n",
              "      <th>0</th>\n",
              "      <td>3400</td>\n",
              "    </tr>\n",
              "    <tr>\n",
              "      <th>1</th>\n",
              "      <td>3030</td>\n",
              "    </tr>\n",
              "    <tr>\n",
              "      <th>2</th>\n",
              "      <td>3257</td>\n",
              "    </tr>\n",
              "    <tr>\n",
              "      <th>3</th>\n",
              "      <td>2807</td>\n",
              "    </tr>\n",
              "    <tr>\n",
              "      <th>4</th>\n",
              "      <td>2799</td>\n",
              "    </tr>\n",
              "    <tr>\n",
              "      <th>...</th>\n",
              "      <td>...</td>\n",
              "    </tr>\n",
              "    <tr>\n",
              "      <th>85</th>\n",
              "      <td>2598</td>\n",
              "    </tr>\n",
              "    <tr>\n",
              "      <th>86</th>\n",
              "      <td>2152</td>\n",
              "    </tr>\n",
              "    <tr>\n",
              "      <th>87</th>\n",
              "      <td>2612</td>\n",
              "    </tr>\n",
              "    <tr>\n",
              "      <th>88</th>\n",
              "      <td>2578</td>\n",
              "    </tr>\n",
              "    <tr>\n",
              "      <th>89</th>\n",
              "      <td>2886</td>\n",
              "    </tr>\n",
              "  </tbody>\n",
              "</table>\n",
              "<p>90 rows × 1 columns</p>\n",
              "</div>\n",
              "      <button class=\"colab-df-convert\" onclick=\"convertToInteractive('df-d03c1502-3fb8-49e2-905e-68493a747cba')\"\n",
              "              title=\"Convert this dataframe to an interactive table.\"\n",
              "              style=\"display:none;\">\n",
              "        \n",
              "  <svg xmlns=\"http://www.w3.org/2000/svg\" height=\"24px\"viewBox=\"0 0 24 24\"\n",
              "       width=\"24px\">\n",
              "    <path d=\"M0 0h24v24H0V0z\" fill=\"none\"/>\n",
              "    <path d=\"M18.56 5.44l.94 2.06.94-2.06 2.06-.94-2.06-.94-.94-2.06-.94 2.06-2.06.94zm-11 1L8.5 8.5l.94-2.06 2.06-.94-2.06-.94L8.5 2.5l-.94 2.06-2.06.94zm10 10l.94 2.06.94-2.06 2.06-.94-2.06-.94-.94-2.06-.94 2.06-2.06.94z\"/><path d=\"M17.41 7.96l-1.37-1.37c-.4-.4-.92-.59-1.43-.59-.52 0-1.04.2-1.43.59L10.3 9.45l-7.72 7.72c-.78.78-.78 2.05 0 2.83L4 21.41c.39.39.9.59 1.41.59.51 0 1.02-.2 1.41-.59l7.78-7.78 2.81-2.81c.8-.78.8-2.07 0-2.86zM5.41 20L4 18.59l7.72-7.72 1.47 1.35L5.41 20z\"/>\n",
              "  </svg>\n",
              "      </button>\n",
              "      \n",
              "  <style>\n",
              "    .colab-df-container {\n",
              "      display:flex;\n",
              "      flex-wrap:wrap;\n",
              "      gap: 12px;\n",
              "    }\n",
              "\n",
              "    .colab-df-convert {\n",
              "      background-color: #E8F0FE;\n",
              "      border: none;\n",
              "      border-radius: 50%;\n",
              "      cursor: pointer;\n",
              "      display: none;\n",
              "      fill: #1967D2;\n",
              "      height: 32px;\n",
              "      padding: 0 0 0 0;\n",
              "      width: 32px;\n",
              "    }\n",
              "\n",
              "    .colab-df-convert:hover {\n",
              "      background-color: #E2EBFA;\n",
              "      box-shadow: 0px 1px 2px rgba(60, 64, 67, 0.3), 0px 1px 3px 1px rgba(60, 64, 67, 0.15);\n",
              "      fill: #174EA6;\n",
              "    }\n",
              "\n",
              "    [theme=dark] .colab-df-convert {\n",
              "      background-color: #3B4455;\n",
              "      fill: #D2E3FC;\n",
              "    }\n",
              "\n",
              "    [theme=dark] .colab-df-convert:hover {\n",
              "      background-color: #434B5C;\n",
              "      box-shadow: 0px 1px 3px 1px rgba(0, 0, 0, 0.15);\n",
              "      filter: drop-shadow(0px 1px 2px rgba(0, 0, 0, 0.3));\n",
              "      fill: #FFFFFF;\n",
              "    }\n",
              "  </style>\n",
              "\n",
              "      <script>\n",
              "        const buttonEl =\n",
              "          document.querySelector('#df-d03c1502-3fb8-49e2-905e-68493a747cba button.colab-df-convert');\n",
              "        buttonEl.style.display =\n",
              "          google.colab.kernel.accessAllowed ? 'block' : 'none';\n",
              "\n",
              "        async function convertToInteractive(key) {\n",
              "          const element = document.querySelector('#df-d03c1502-3fb8-49e2-905e-68493a747cba');\n",
              "          const dataTable =\n",
              "            await google.colab.kernel.invokeFunction('convertToInteractive',\n",
              "                                                     [key], {});\n",
              "          if (!dataTable) return;\n",
              "\n",
              "          const docLinkHtml = 'Like what you see? Visit the ' +\n",
              "            '<a target=\"_blank\" href=https://colab.research.google.com/notebooks/data_table.ipynb>data table notebook</a>'\n",
              "            + ' to learn more about interactive tables.';\n",
              "          element.innerHTML = '';\n",
              "          dataTable['output_type'] = 'display_data';\n",
              "          await google.colab.output.renderOutput(dataTable, element);\n",
              "          const docLink = document.createElement('div');\n",
              "          docLink.innerHTML = docLinkHtml;\n",
              "          element.appendChild(docLink);\n",
              "        }\n",
              "      </script>\n",
              "    </div>\n",
              "  </div>\n",
              "  "
            ]
          },
          "metadata": {},
          "execution_count": 98
        }
      ]
    },
    {
      "cell_type": "code",
      "source": [
        "myFig = plt.figure();\n",
        "bp = pandas_data_adjusted_passenger_south_america[\"Adjusted Passenger Count\"].plot.box();\n",
        "myFig.savefig(data_path + \"south_america_adjusted_passenger_count_boxplot.png\", format=\"png\")"
      ],
      "metadata": {
        "colab": {
          "base_uri": "https://localhost:8080/",
          "height": 265
        },
        "id": "hM98sGLOJDLb",
        "outputId": "f82dfe05-d279-49c3-90dc-5cacaa565c62"
      },
      "execution_count": null,
      "outputs": [
        {
          "output_type": "display_data",
          "data": {
            "text/plain": [
              "<Figure size 432x288 with 1 Axes>"
            ],
            "image/png": "[encoded data removed]"
          },
          "metadata": {
            "needs_background": "light"
          }
        }
      ]
    },
    {
      "cell_type": "markdown",
      "source": [
        "Mexico"
      ],
      "metadata": {
        "id": "kzINbH_WKPoV"
      }
    },
    {
      "cell_type": "code",
      "source": [
        "data_adjusted_passenger_mexico = data.filter(data['GEO Region']=='Mexico').select('Adjusted Passenger Count')\n",
        "data_adjusted_passenger_mexico.show()"
      ],
      "metadata": {
        "colab": {
          "base_uri": "https://localhost:8080/"
        },
        "id": "rdFCNW6GJDIQ",
        "outputId": "09bc5295-4e7f-492b-807b-4116b2a9bf68"
      },
      "execution_count": null,
      "outputs": [
        {
          "output_type": "stream",
          "name": "stdout",
          "text": [
            "+------------------------+\n",
            "|Adjusted Passenger Count|\n",
            "+------------------------+\n",
            "|                    6969|\n",
            "|                   10046|\n",
            "|                    4532|\n",
            "|                    7751|\n",
            "|                    7845|\n",
            "|                    9537|\n",
            "|                    9672|\n",
            "|                      90|\n",
            "|                    7541|\n",
            "|                    9333|\n",
            "|                    3804|\n",
            "|                    7156|\n",
            "|                    5946|\n",
            "|                    9397|\n",
            "|                    9275|\n",
            "|                     156|\n",
            "|                    5446|\n",
            "|                    7674|\n",
            "|                    3008|\n",
            "|                    3986|\n",
            "+------------------------+\n",
            "only showing top 20 rows\n",
            "\n"
          ]
        }
      ]
    },
    {
      "cell_type": "code",
      "source": [
        "pandas_data_adjusted_passenger_mexico = data_adjusted_passenger_mexico.toPandas()\n",
        "pandas_data_adjusted_passenger_mexico"
      ],
      "metadata": {
        "colab": {
          "base_uri": "https://localhost:8080/",
          "height": 424
        },
        "id": "p2fewNr0JDFF",
        "outputId": "fcf74467-6f55-4389-b67c-198af57d723c"
      },
      "execution_count": null,
      "outputs": [
        {
          "output_type": "execute_result",
          "data": {
            "text/plain": [
              "      Adjusted Passenger Count\n",
              "0                         6969\n",
              "1                        10046\n",
              "2                         4532\n",
              "3                         7751\n",
              "4                         7845\n",
              "...                        ...\n",
              "1110                      8581\n",
              "1111                       914\n",
              "1112                     17521\n",
              "1113                      4189\n",
              "1114                      4693\n",
              "\n",
              "[1115 rows x 1 columns]"
            ],
            "text/html": [
              "\n",
              "  <div id=\"df-d44922eb-769e-4eae-9724-91995d72f508\">\n",
              "    <div class=\"colab-df-container\">\n",
              "      <div>\n",
              "<style scoped>\n",
              "    .dataframe tbody tr th:only-of-type {\n",
              "        vertical-align: middle;\n",
              "    }\n",
              "\n",
              "    .dataframe tbody tr th {\n",
              "        vertical-align: top;\n",
              "    }\n",
              "\n",
              "    .dataframe thead th {\n",
              "        text-align: right;\n",
              "    }\n",
              "</style>\n",
              "<table border=\"1\" class=\"dataframe\">\n",
              "  <thead>\n",
              "    <tr style=\"text-align: right;\">\n",
              "      <th></th>\n",
              "      <th>Adjusted Passenger Count</th>\n",
              "    </tr>\n",
              "  </thead>\n",
              "  <tbody>\n",
              "    <tr>\n",
              "      <th>0</th>\n",
              "      <td>6969</td>\n",
              "    </tr>\n",
              "    <tr>\n",
              "      <th>1</th>\n",
              "      <td>10046</td>\n",
              "    </tr>\n",
              "    <tr>\n",
              "      <th>2</th>\n",
              "      <td>4532</td>\n",
              "    </tr>\n",
              "    <tr>\n",
              "      <th>3</th>\n",
              "      <td>7751</td>\n",
              "    </tr>\n",
              "    <tr>\n",
              "      <th>4</th>\n",
              "      <td>7845</td>\n",
              "    </tr>\n",
              "    <tr>\n",
              "      <th>...</th>\n",
              "      <td>...</td>\n",
              "    </tr>\n",
              "    <tr>\n",
              "      <th>1110</th>\n",
              "      <td>8581</td>\n",
              "    </tr>\n",
              "    <tr>\n",
              "      <th>1111</th>\n",
              "      <td>914</td>\n",
              "    </tr>\n",
              "    <tr>\n",
              "      <th>1112</th>\n",
              "      <td>17521</td>\n",
              "    </tr>\n",
              "    <tr>\n",
              "      <th>1113</th>\n",
              "      <td>4189</td>\n",
              "    </tr>\n",
              "    <tr>\n",
              "      <th>1114</th>\n",
              "      <td>4693</td>\n",
              "    </tr>\n",
              "  </tbody>\n",
              "</table>\n",
              "<p>1115 rows × 1 columns</p>\n",
              "</div>\n",
              "      <button class=\"colab-df-convert\" onclick=\"convertToInteractive('df-d44922eb-769e-4eae-9724-91995d72f508')\"\n",
              "              title=\"Convert this dataframe to an interactive table.\"\n",
              "              style=\"display:none;\">\n",
              "        \n",
              "  <svg xmlns=\"http://www.w3.org/2000/svg\" height=\"24px\"viewBox=\"0 0 24 24\"\n",
              "       width=\"24px\">\n",
              "    <path d=\"M0 0h24v24H0V0z\" fill=\"none\"/>\n",
              "    <path d=\"M18.56 5.44l.94 2.06.94-2.06 2.06-.94-2.06-.94-.94-2.06-.94 2.06-2.06.94zm-11 1L8.5 8.5l.94-2.06 2.06-.94-2.06-.94L8.5 2.5l-.94 2.06-2.06.94zm10 10l.94 2.06.94-2.06 2.06-.94-2.06-.94-.94-2.06-.94 2.06-2.06.94z\"/><path d=\"M17.41 7.96l-1.37-1.37c-.4-.4-.92-.59-1.43-.59-.52 0-1.04.2-1.43.59L10.3 9.45l-7.72 7.72c-.78.78-.78 2.05 0 2.83L4 21.41c.39.39.9.59 1.41.59.51 0 1.02-.2 1.41-.59l7.78-7.78 2.81-2.81c.8-.78.8-2.07 0-2.86zM5.41 20L4 18.59l7.72-7.72 1.47 1.35L5.41 20z\"/>\n",
              "  </svg>\n",
              "      </button>\n",
              "      \n",
              "  <style>\n",
              "    .colab-df-container {\n",
              "      display:flex;\n",
              "      flex-wrap:wrap;\n",
              "      gap: 12px;\n",
              "    }\n",
              "\n",
              "    .colab-df-convert {\n",
              "      background-color: #E8F0FE;\n",
              "      border: none;\n",
              "      border-radius: 50%;\n",
              "      cursor: pointer;\n",
              "      display: none;\n",
              "      fill: #1967D2;\n",
              "      height: 32px;\n",
              "      padding: 0 0 0 0;\n",
              "      width: 32px;\n",
              "    }\n",
              "\n",
              "    .colab-df-convert:hover {\n",
              "      background-color: #E2EBFA;\n",
              "      box-shadow: 0px 1px 2px rgba(60, 64, 67, 0.3), 0px 1px 3px 1px rgba(60, 64, 67, 0.15);\n",
              "      fill: #174EA6;\n",
              "    }\n",
              "\n",
              "    [theme=dark] .colab-df-convert {\n",
              "      background-color: #3B4455;\n",
              "      fill: #D2E3FC;\n",
              "    }\n",
              "\n",
              "    [theme=dark] .colab-df-convert:hover {\n",
              "      background-color: #434B5C;\n",
              "      box-shadow: 0px 1px 3px 1px rgba(0, 0, 0, 0.15);\n",
              "      filter: drop-shadow(0px 1px 2px rgba(0, 0, 0, 0.3));\n",
              "      fill: #FFFFFF;\n",
              "    }\n",
              "  </style>\n",
              "\n",
              "      <script>\n",
              "        const buttonEl =\n",
              "          document.querySelector('#df-d44922eb-769e-4eae-9724-91995d72f508 button.colab-df-convert');\n",
              "        buttonEl.style.display =\n",
              "          google.colab.kernel.accessAllowed ? 'block' : 'none';\n",
              "\n",
              "        async function convertToInteractive(key) {\n",
              "          const element = document.querySelector('#df-d44922eb-769e-4eae-9724-91995d72f508');\n",
              "          const dataTable =\n",
              "            await google.colab.kernel.invokeFunction('convertToInteractive',\n",
              "                                                     [key], {});\n",
              "          if (!dataTable) return;\n",
              "\n",
              "          const docLinkHtml = 'Like what you see? Visit the ' +\n",
              "            '<a target=\"_blank\" href=https://colab.research.google.com/notebooks/data_table.ipynb>data table notebook</a>'\n",
              "            + ' to learn more about interactive tables.';\n",
              "          element.innerHTML = '';\n",
              "          dataTable['output_type'] = 'display_data';\n",
              "          await google.colab.output.renderOutput(dataTable, element);\n",
              "          const docLink = document.createElement('div');\n",
              "          docLink.innerHTML = docLinkHtml;\n",
              "          element.appendChild(docLink);\n",
              "        }\n",
              "      </script>\n",
              "    </div>\n",
              "  </div>\n",
              "  "
            ]
          },
          "metadata": {},
          "execution_count": 101
        }
      ]
    },
    {
      "cell_type": "code",
      "source": [
        "myFig = plt.figure();\n",
        "bp = pandas_data_adjusted_passenger_mexico[\"Adjusted Passenger Count\"].plot.box();\n",
        "myFig.savefig(data_path + \"mexico_adjusted_passenger_count_boxplot.png\", format=\"png\")"
      ],
      "metadata": {
        "colab": {
          "base_uri": "https://localhost:8080/",
          "height": 265
        },
        "id": "gzmf40KUJDBz",
        "outputId": "0c6f9b96-024e-4891-d84d-202144de3e49"
      },
      "execution_count": null,
      "outputs": [
        {
          "output_type": "display_data",
          "data": {
            "text/plain": [
              "<Figure size 432x288 with 1 Axes>"
            ],
            "image/png": "[encoded data removed]"
          },
          "metadata": {
            "needs_background": "light"
          }
        }
      ]
    },
    {
      "cell_type": "markdown",
      "source": [
        "Middle East"
      ],
      "metadata": {
        "id": "k61Ny24jKYxd"
      }
    },
    {
      "cell_type": "code",
      "source": [
        "data_adjusted_passenger_m_east = data.filter(data['GEO Region']=='Middle East').select('Adjusted Passenger Count')\n",
        "data_adjusted_passenger_m_east.show()"
      ],
      "metadata": {
        "colab": {
          "base_uri": "https://localhost:8080/"
        },
        "id": "kv7r-6tMJC-6",
        "outputId": "a57b6259-bbe0-4d3d-cb98-632e1f42f82b"
      },
      "execution_count": null,
      "outputs": [
        {
          "output_type": "stream",
          "name": "stdout",
          "text": [
            "+------------------------+\n",
            "|Adjusted Passenger Count|\n",
            "+------------------------+\n",
            "|                    1147|\n",
            "|                    1766|\n",
            "|                    3393|\n",
            "|                    2470|\n",
            "|                    2502|\n",
            "|                    2278|\n",
            "|                    3353|\n",
            "|                    2704|\n",
            "|                    3342|\n",
            "|                    3048|\n",
            "|                    6243|\n",
            "|                    5875|\n",
            "|                    6604|\n",
            "|                    7803|\n",
            "|                    7948|\n",
            "|                    7135|\n",
            "|                    8133|\n",
            "|                    6104|\n",
            "|                    5819|\n",
            "|                    5841|\n",
            "+------------------------+\n",
            "only showing top 20 rows\n",
            "\n"
          ]
        }
      ]
    },
    {
      "cell_type": "code",
      "source": [
        "pandas_data_adjusted_passenger_m_east = data_adjusted_passenger_m_east.toPandas()\n",
        "pandas_data_adjusted_passenger_m_east"
      ],
      "metadata": {
        "colab": {
          "base_uri": "https://localhost:8080/",
          "height": 424
        },
        "id": "AZNwVP5RJC7y",
        "outputId": "d812cb30-fa06-4af1-d91e-31b7311bb283"
      },
      "execution_count": null,
      "outputs": [
        {
          "output_type": "execute_result",
          "data": {
            "text/plain": [
              "     Adjusted Passenger Count\n",
              "0                        1147\n",
              "1                        1766\n",
              "2                        3393\n",
              "3                        2470\n",
              "4                        2502\n",
              "..                        ...\n",
              "209                      4591\n",
              "210                     13760\n",
              "211                     11503\n",
              "212                      7099\n",
              "213                      5007\n",
              "\n",
              "[214 rows x 1 columns]"
            ],
            "text/html": [
              "\n",
              "  <div id=\"df-100e8e81-9cab-4eae-98a0-2539a8929908\">\n",
              "    <div class=\"colab-df-container\">\n",
              "      <div>\n",
              "<style scoped>\n",
              "    .dataframe tbody tr th:only-of-type {\n",
              "        vertical-align: middle;\n",
              "    }\n",
              "\n",
              "    .dataframe tbody tr th {\n",
              "        vertical-align: top;\n",
              "    }\n",
              "\n",
              "    .dataframe thead th {\n",
              "        text-align: right;\n",
              "    }\n",
              "</style>\n",
              "<table border=\"1\" class=\"dataframe\">\n",
              "  <thead>\n",
              "    <tr style=\"text-align: right;\">\n",
              "      <th></th>\n",
              "      <th>Adjusted Passenger Count</th>\n",
              "    </tr>\n",
              "  </thead>\n",
              "  <tbody>\n",
              "    <tr>\n",
              "      <th>0</th>\n",
              "      <td>1147</td>\n",
              "    </tr>\n",
              "    <tr>\n",
              "      <th>1</th>\n",
              "      <td>1766</td>\n",
              "    </tr>\n",
              "    <tr>\n",
              "      <th>2</th>\n",
              "      <td>3393</td>\n",
              "    </tr>\n",
              "    <tr>\n",
              "      <th>3</th>\n",
              "      <td>2470</td>\n",
              "    </tr>\n",
              "    <tr>\n",
              "      <th>4</th>\n",
              "      <td>2502</td>\n",
              "    </tr>\n",
              "    <tr>\n",
              "      <th>...</th>\n",
              "      <td>...</td>\n",
              "    </tr>\n",
              "    <tr>\n",
              "      <th>209</th>\n",
              "      <td>4591</td>\n",
              "    </tr>\n",
              "    <tr>\n",
              "      <th>210</th>\n",
              "      <td>13760</td>\n",
              "    </tr>\n",
              "    <tr>\n",
              "      <th>211</th>\n",
              "      <td>11503</td>\n",
              "    </tr>\n",
              "    <tr>\n",
              "      <th>212</th>\n",
              "      <td>7099</td>\n",
              "    </tr>\n",
              "    <tr>\n",
              "      <th>213</th>\n",
              "      <td>5007</td>\n",
              "    </tr>\n",
              "  </tbody>\n",
              "</table>\n",
              "<p>214 rows × 1 columns</p>\n",
              "</div>\n",
              "      <button class=\"colab-df-convert\" onclick=\"convertToInteractive('df-100e8e81-9cab-4eae-98a0-2539a8929908')\"\n",
              "              title=\"Convert this dataframe to an interactive table.\"\n",
              "              style=\"display:none;\">\n",
              "        \n",
              "  <svg xmlns=\"http://www.w3.org/2000/svg\" height=\"24px\"viewBox=\"0 0 24 24\"\n",
              "       width=\"24px\">\n",
              "    <path d=\"M0 0h24v24H0V0z\" fill=\"none\"/>\n",
              "    <path d=\"M18.56 5.44l.94 2.06.94-2.06 2.06-.94-2.06-.94-.94-2.06-.94 2.06-2.06.94zm-11 1L8.5 8.5l.94-2.06 2.06-.94-2.06-.94L8.5 2.5l-.94 2.06-2.06.94zm10 10l.94 2.06.94-2.06 2.06-.94-2.06-.94-.94-2.06-.94 2.06-2.06.94z\"/><path d=\"M17.41 7.96l-1.37-1.37c-.4-.4-.92-.59-1.43-.59-.52 0-1.04.2-1.43.59L10.3 9.45l-7.72 7.72c-.78.78-.78 2.05 0 2.83L4 21.41c.39.39.9.59 1.41.59.51 0 1.02-.2 1.41-.59l7.78-7.78 2.81-2.81c.8-.78.8-2.07 0-2.86zM5.41 20L4 18.59l7.72-7.72 1.47 1.35L5.41 20z\"/>\n",
              "  </svg>\n",
              "      </button>\n",
              "      \n",
              "  <style>\n",
              "    .colab-df-container {\n",
              "      display:flex;\n",
              "      flex-wrap:wrap;\n",
              "      gap: 12px;\n",
              "    }\n",
              "\n",
              "    .colab-df-convert {\n",
              "      background-color: #E8F0FE;\n",
              "      border: none;\n",
              "      border-radius: 50%;\n",
              "      cursor: pointer;\n",
              "      display: none;\n",
              "      fill: #1967D2;\n",
              "      height: 32px;\n",
              "      padding: 0 0 0 0;\n",
              "      width: 32px;\n",
              "    }\n",
              "\n",
              "    .colab-df-convert:hover {\n",
              "      background-color: #E2EBFA;\n",
              "      box-shadow: 0px 1px 2px rgba(60, 64, 67, 0.3), 0px 1px 3px 1px rgba(60, 64, 67, 0.15);\n",
              "      fill: #174EA6;\n",
              "    }\n",
              "\n",
              "    [theme=dark] .colab-df-convert {\n",
              "      background-color: #3B4455;\n",
              "      fill: #D2E3FC;\n",
              "    }\n",
              "\n",
              "    [theme=dark] .colab-df-convert:hover {\n",
              "      background-color: #434B5C;\n",
              "      box-shadow: 0px 1px 3px 1px rgba(0, 0, 0, 0.15);\n",
              "      filter: drop-shadow(0px 1px 2px rgba(0, 0, 0, 0.3));\n",
              "      fill: #FFFFFF;\n",
              "    }\n",
              "  </style>\n",
              "\n",
              "      <script>\n",
              "        const buttonEl =\n",
              "          document.querySelector('#df-100e8e81-9cab-4eae-98a0-2539a8929908 button.colab-df-convert');\n",
              "        buttonEl.style.display =\n",
              "          google.colab.kernel.accessAllowed ? 'block' : 'none';\n",
              "\n",
              "        async function convertToInteractive(key) {\n",
              "          const element = document.querySelector('#df-100e8e81-9cab-4eae-98a0-2539a8929908');\n",
              "          const dataTable =\n",
              "            await google.colab.kernel.invokeFunction('convertToInteractive',\n",
              "                                                     [key], {});\n",
              "          if (!dataTable) return;\n",
              "\n",
              "          const docLinkHtml = 'Like what you see? Visit the ' +\n",
              "            '<a target=\"_blank\" href=https://colab.research.google.com/notebooks/data_table.ipynb>data table notebook</a>'\n",
              "            + ' to learn more about interactive tables.';\n",
              "          element.innerHTML = '';\n",
              "          dataTable['output_type'] = 'display_data';\n",
              "          await google.colab.output.renderOutput(dataTable, element);\n",
              "          const docLink = document.createElement('div');\n",
              "          docLink.innerHTML = docLinkHtml;\n",
              "          element.appendChild(docLink);\n",
              "        }\n",
              "      </script>\n",
              "    </div>\n",
              "  </div>\n",
              "  "
            ]
          },
          "metadata": {},
          "execution_count": 104
        }
      ]
    },
    {
      "cell_type": "code",
      "source": [
        "myFig = plt.figure();\n",
        "bp = pandas_data_adjusted_passenger_m_east[\"Adjusted Passenger Count\"].plot.box();\n",
        "myFig.savefig(data_path + \"m_east_adjusted_passenger_count_boxplot.png\", format=\"png\")"
      ],
      "metadata": {
        "colab": {
          "base_uri": "https://localhost:8080/",
          "height": 265
        },
        "id": "Uke6-FSgKXC4",
        "outputId": "6e2f8309-c77c-41c7-c9ca-8ae87a4a06ab"
      },
      "execution_count": null,
      "outputs": [
        {
          "output_type": "display_data",
          "data": {
            "text/plain": [
              "<Figure size 432x288 with 1 Axes>"
            ],
            "image/png": "[encoded data removed]"
          },
          "metadata": {
            "needs_background": "light"
          }
        }
      ]
    },
    {
      "cell_type": "markdown",
      "source": [
        "Canada"
      ],
      "metadata": {
        "id": "krisyEJMKfi-"
      }
    },
    {
      "cell_type": "code",
      "source": [
        "data_adjusted_passenger_canada = data.filter(data['GEO Region']=='Canada').select('Adjusted Passenger Count')\n",
        "data_adjusted_passenger_canada.show()"
      ],
      "metadata": {
        "colab": {
          "base_uri": "https://localhost:8080/"
        },
        "id": "a1dZptgYKW_w",
        "outputId": "57367a74-ebd8-47db-8e2c-56d06c377c7c"
      },
      "execution_count": null,
      "outputs": [
        {
          "output_type": "stream",
          "name": "stdout",
          "text": [
            "+------------------------+\n",
            "|Adjusted Passenger Count|\n",
            "+------------------------+\n",
            "|                   35156|\n",
            "|                   34090|\n",
            "|                    7977|\n",
            "|                    8837|\n",
            "|                    3688|\n",
            "|                    3633|\n",
            "|                   12874|\n",
            "|                   12085|\n",
            "|                      20|\n",
            "|                    2480|\n",
            "|                    2211|\n",
            "|                   34878|\n",
            "|                   34105|\n",
            "|                    8901|\n",
            "|                    9020|\n",
            "|                    3672|\n",
            "|                    3570|\n",
            "|                   13895|\n",
            "|                   12145|\n",
            "|                    2300|\n",
            "+------------------------+\n",
            "only showing top 20 rows\n",
            "\n"
          ]
        }
      ]
    },
    {
      "cell_type": "code",
      "source": [
        "pandas_data_adjusted_passenger_canada = data_adjusted_passenger_canada.toPandas()\n",
        "pandas_data_adjusted_passenger_canada"
      ],
      "metadata": {
        "colab": {
          "base_uri": "https://localhost:8080/",
          "height": 424
        },
        "id": "CzKCQz7rKW8f",
        "outputId": "cecab6c6-80fc-4926-f1ca-8bff81dbce6a"
      },
      "execution_count": null,
      "outputs": [
        {
          "output_type": "execute_result",
          "data": {
            "text/plain": [
              "      Adjusted Passenger Count\n",
              "0                        35156\n",
              "1                        34090\n",
              "2                         7977\n",
              "3                         8837\n",
              "4                         3688\n",
              "...                        ...\n",
              "1413                       344\n",
              "1414                      6842\n",
              "1415                      3805\n",
              "1416                      4388\n",
              "1417                      9378\n",
              "\n",
              "[1418 rows x 1 columns]"
            ],
            "text/html": [
              "\n",
              "  <div id=\"df-2dce14d2-6017-43bd-9336-c34473028d68\">\n",
              "    <div class=\"colab-df-container\">\n",
              "      <div>\n",
              "<style scoped>\n",
              "    .dataframe tbody tr th:only-of-type {\n",
              "        vertical-align: middle;\n",
              "    }\n",
              "\n",
              "    .dataframe tbody tr th {\n",
              "        vertical-align: top;\n",
              "    }\n",
              "\n",
              "    .dataframe thead th {\n",
              "        text-align: right;\n",
              "    }\n",
              "</style>\n",
              "<table border=\"1\" class=\"dataframe\">\n",
              "  <thead>\n",
              "    <tr style=\"text-align: right;\">\n",
              "      <th></th>\n",
              "      <th>Adjusted Passenger Count</th>\n",
              "    </tr>\n",
              "  </thead>\n",
              "  <tbody>\n",
              "    <tr>\n",
              "      <th>0</th>\n",
              "      <td>35156</td>\n",
              "    </tr>\n",
              "    <tr>\n",
              "      <th>1</th>\n",
              "      <td>34090</td>\n",
              "    </tr>\n",
              "    <tr>\n",
              "      <th>2</th>\n",
              "      <td>7977</td>\n",
              "    </tr>\n",
              "    <tr>\n",
              "      <th>3</th>\n",
              "      <td>8837</td>\n",
              "    </tr>\n",
              "    <tr>\n",
              "      <th>4</th>\n",
              "      <td>3688</td>\n",
              "    </tr>\n",
              "    <tr>\n",
              "      <th>...</th>\n",
              "      <td>...</td>\n",
              "    </tr>\n",
              "    <tr>\n",
              "      <th>1413</th>\n",
              "      <td>344</td>\n",
              "    </tr>\n",
              "    <tr>\n",
              "      <th>1414</th>\n",
              "      <td>6842</td>\n",
              "    </tr>\n",
              "    <tr>\n",
              "      <th>1415</th>\n",
              "      <td>3805</td>\n",
              "    </tr>\n",
              "    <tr>\n",
              "      <th>1416</th>\n",
              "      <td>4388</td>\n",
              "    </tr>\n",
              "    <tr>\n",
              "      <th>1417</th>\n",
              "      <td>9378</td>\n",
              "    </tr>\n",
              "  </tbody>\n",
              "</table>\n",
              "<p>1418 rows × 1 columns</p>\n",
              "</div>\n",
              "      <button class=\"colab-df-convert\" onclick=\"convertToInteractive('df-2dce14d2-6017-43bd-9336-c34473028d68')\"\n",
              "              title=\"Convert this dataframe to an interactive table.\"\n",
              "              style=\"display:none;\">\n",
              "        \n",
              "  <svg xmlns=\"http://www.w3.org/2000/svg\" height=\"24px\"viewBox=\"0 0 24 24\"\n",
              "       width=\"24px\">\n",
              "    <path d=\"M0 0h24v24H0V0z\" fill=\"none\"/>\n",
              "    <path d=\"M18.56 5.44l.94 2.06.94-2.06 2.06-.94-2.06-.94-.94-2.06-.94 2.06-2.06.94zm-11 1L8.5 8.5l.94-2.06 2.06-.94-2.06-.94L8.5 2.5l-.94 2.06-2.06.94zm10 10l.94 2.06.94-2.06 2.06-.94-2.06-.94-.94-2.06-.94 2.06-2.06.94z\"/><path d=\"M17.41 7.96l-1.37-1.37c-.4-.4-.92-.59-1.43-.59-.52 0-1.04.2-1.43.59L10.3 9.45l-7.72 7.72c-.78.78-.78 2.05 0 2.83L4 21.41c.39.39.9.59 1.41.59.51 0 1.02-.2 1.41-.59l7.78-7.78 2.81-2.81c.8-.78.8-2.07 0-2.86zM5.41 20L4 18.59l7.72-7.72 1.47 1.35L5.41 20z\"/>\n",
              "  </svg>\n",
              "      </button>\n",
              "      \n",
              "  <style>\n",
              "    .colab-df-container {\n",
              "      display:flex;\n",
              "      flex-wrap:wrap;\n",
              "      gap: 12px;\n",
              "    }\n",
              "\n",
              "    .colab-df-convert {\n",
              "      background-color: #E8F0FE;\n",
              "      border: none;\n",
              "      border-radius: 50%;\n",
              "      cursor: pointer;\n",
              "      display: none;\n",
              "      fill: #1967D2;\n",
              "      height: 32px;\n",
              "      padding: 0 0 0 0;\n",
              "      width: 32px;\n",
              "    }\n",
              "\n",
              "    .colab-df-convert:hover {\n",
              "      background-color: #E2EBFA;\n",
              "      box-shadow: 0px 1px 2px rgba(60, 64, 67, 0.3), 0px 1px 3px 1px rgba(60, 64, 67, 0.15);\n",
              "      fill: #174EA6;\n",
              "    }\n",
              "\n",
              "    [theme=dark] .colab-df-convert {\n",
              "      background-color: #3B4455;\n",
              "      fill: #D2E3FC;\n",
              "    }\n",
              "\n",
              "    [theme=dark] .colab-df-convert:hover {\n",
              "      background-color: #434B5C;\n",
              "      box-shadow: 0px 1px 3px 1px rgba(0, 0, 0, 0.15);\n",
              "      filter: drop-shadow(0px 1px 2px rgba(0, 0, 0, 0.3));\n",
              "      fill: #FFFFFF;\n",
              "    }\n",
              "  </style>\n",
              "\n",
              "      <script>\n",
              "        const buttonEl =\n",
              "          document.querySelector('#df-2dce14d2-6017-43bd-9336-c34473028d68 button.colab-df-convert');\n",
              "        buttonEl.style.display =\n",
              "          google.colab.kernel.accessAllowed ? 'block' : 'none';\n",
              "\n",
              "        async function convertToInteractive(key) {\n",
              "          const element = document.querySelector('#df-2dce14d2-6017-43bd-9336-c34473028d68');\n",
              "          const dataTable =\n",
              "            await google.colab.kernel.invokeFunction('convertToInteractive',\n",
              "                                                     [key], {});\n",
              "          if (!dataTable) return;\n",
              "\n",
              "          const docLinkHtml = 'Like what you see? Visit the ' +\n",
              "            '<a target=\"_blank\" href=https://colab.research.google.com/notebooks/data_table.ipynb>data table notebook</a>'\n",
              "            + ' to learn more about interactive tables.';\n",
              "          element.innerHTML = '';\n",
              "          dataTable['output_type'] = 'display_data';\n",
              "          await google.colab.output.renderOutput(dataTable, element);\n",
              "          const docLink = document.createElement('div');\n",
              "          docLink.innerHTML = docLinkHtml;\n",
              "          element.appendChild(docLink);\n",
              "        }\n",
              "      </script>\n",
              "    </div>\n",
              "  </div>\n",
              "  "
            ]
          },
          "metadata": {},
          "execution_count": 107
        }
      ]
    },
    {
      "cell_type": "code",
      "source": [
        "myFig = plt.figure();\n",
        "bp = pandas_data_adjusted_passenger_canada[\"Adjusted Passenger Count\"].plot.box();\n",
        "myFig.savefig(data_path + \"canada_adjusted_passenger_count_boxplot.png\", format=\"png\")"
      ],
      "metadata": {
        "colab": {
          "base_uri": "https://localhost:8080/",
          "height": 265
        },
        "id": "5jaAJbz0KW5U",
        "outputId": "603ff32a-e28a-45c5-ae78-a19a4e07689e"
      },
      "execution_count": null,
      "outputs": [
        {
          "output_type": "display_data",
          "data": {
            "text/plain": [
              "<Figure size 432x288 with 1 Axes>"
            ],
            "image/png": "[encoded data removed]"
          },
          "metadata": {
            "needs_background": "light"
          }
        }
      ]
    },
    {
      "cell_type": "markdown",
      "source": [
        "Australia / Oceania"
      ],
      "metadata": {
        "id": "QlbeQYvnKtYX"
      }
    },
    {
      "cell_type": "code",
      "source": [
        "data_adjusted_passenger_australia_oceania = data.filter(data['GEO Region']=='Australia / Oceania').select('Adjusted Passenger Count')\n",
        "data_adjusted_passenger_australia_oceania.show()"
      ],
      "metadata": {
        "colab": {
          "base_uri": "https://localhost:8080/"
        },
        "id": "NMSTvWlTKW2J",
        "outputId": "e23ce823-0c0f-49ea-ab9b-d34d3dfdec54"
      },
      "execution_count": null,
      "outputs": [
        {
          "output_type": "stream",
          "name": "stdout",
          "text": [
            "+------------------------+\n",
            "|Adjusted Passenger Count|\n",
            "+------------------------+\n",
            "|                    4998|\n",
            "|                    4962|\n",
            "|                    8603|\n",
            "|                    8234|\n",
            "|                    2770|\n",
            "|                    4672|\n",
            "|                    4006|\n",
            "|                    8903|\n",
            "|                    7874|\n",
            "|                    2950|\n",
            "|                    4565|\n",
            "|                    4295|\n",
            "|                    8048|\n",
            "|                    7750|\n",
            "|                    2528|\n",
            "|                    3178|\n",
            "|                    4766|\n",
            "|                    6280|\n",
            "|                    9056|\n",
            "|                    2092|\n",
            "+------------------------+\n",
            "only showing top 20 rows\n",
            "\n"
          ]
        }
      ]
    },
    {
      "cell_type": "code",
      "source": [
        "pandas_data_adjusted_passenger_australia_oceania = data_adjusted_passenger_australia_oceania.toPandas()\n",
        "pandas_data_adjusted_passenger_australia_oceania"
      ],
      "metadata": {
        "colab": {
          "base_uri": "https://localhost:8080/",
          "height": 424
        },
        "id": "SjBEnvdxKWy5",
        "outputId": "d2a31f97-1ac1-4248-a479-da164b7a7279"
      },
      "execution_count": null,
      "outputs": [
        {
          "output_type": "execute_result",
          "data": {
            "text/plain": [
              "     Adjusted Passenger Count\n",
              "0                        4998\n",
              "1                        4962\n",
              "2                        8603\n",
              "3                        8234\n",
              "4                        2770\n",
              "..                        ...\n",
              "732                      8453\n",
              "733                      7136\n",
              "734                      5329\n",
              "735                      7593\n",
              "736                      6372\n",
              "\n",
              "[737 rows x 1 columns]"
            ],
            "text/html": [
              "\n",
              "  <div id=\"df-9a882f91-58a7-4227-9729-c1d06b231692\">\n",
              "    <div class=\"colab-df-container\">\n",
              "      <div>\n",
              "<style scoped>\n",
              "    .dataframe tbody tr th:only-of-type {\n",
              "        vertical-align: middle;\n",
              "    }\n",
              "\n",
              "    .dataframe tbody tr th {\n",
              "        vertical-align: top;\n",
              "    }\n",
              "\n",
              "    .dataframe thead th {\n",
              "        text-align: right;\n",
              "    }\n",
              "</style>\n",
              "<table border=\"1\" class=\"dataframe\">\n",
              "  <thead>\n",
              "    <tr style=\"text-align: right;\">\n",
              "      <th></th>\n",
              "      <th>Adjusted Passenger Count</th>\n",
              "    </tr>\n",
              "  </thead>\n",
              "  <tbody>\n",
              "    <tr>\n",
              "      <th>0</th>\n",
              "      <td>4998</td>\n",
              "    </tr>\n",
              "    <tr>\n",
              "      <th>1</th>\n",
              "      <td>4962</td>\n",
              "    </tr>\n",
              "    <tr>\n",
              "      <th>2</th>\n",
              "      <td>8603</td>\n",
              "    </tr>\n",
              "    <tr>\n",
              "      <th>3</th>\n",
              "      <td>8234</td>\n",
              "    </tr>\n",
              "    <tr>\n",
              "      <th>4</th>\n",
              "      <td>2770</td>\n",
              "    </tr>\n",
              "    <tr>\n",
              "      <th>...</th>\n",
              "      <td>...</td>\n",
              "    </tr>\n",
              "    <tr>\n",
              "      <th>732</th>\n",
              "      <td>8453</td>\n",
              "    </tr>\n",
              "    <tr>\n",
              "      <th>733</th>\n",
              "      <td>7136</td>\n",
              "    </tr>\n",
              "    <tr>\n",
              "      <th>734</th>\n",
              "      <td>5329</td>\n",
              "    </tr>\n",
              "    <tr>\n",
              "      <th>735</th>\n",
              "      <td>7593</td>\n",
              "    </tr>\n",
              "    <tr>\n",
              "      <th>736</th>\n",
              "      <td>6372</td>\n",
              "    </tr>\n",
              "  </tbody>\n",
              "</table>\n",
              "<p>737 rows × 1 columns</p>\n",
              "</div>\n",
              "      <button class=\"colab-df-convert\" onclick=\"convertToInteractive('df-9a882f91-58a7-4227-9729-c1d06b231692')\"\n",
              "              title=\"Convert this dataframe to an interactive table.\"\n",
              "              style=\"display:none;\">\n",
              "        \n",
              "  <svg xmlns=\"http://www.w3.org/2000/svg\" height=\"24px\"viewBox=\"0 0 24 24\"\n",
              "       width=\"24px\">\n",
              "    <path d=\"M0 0h24v24H0V0z\" fill=\"none\"/>\n",
              "    <path d=\"M18.56 5.44l.94 2.06.94-2.06 2.06-.94-2.06-.94-.94-2.06-.94 2.06-2.06.94zm-11 1L8.5 8.5l.94-2.06 2.06-.94-2.06-.94L8.5 2.5l-.94 2.06-2.06.94zm10 10l.94 2.06.94-2.06 2.06-.94-2.06-.94-.94-2.06-.94 2.06-2.06.94z\"/><path d=\"M17.41 7.96l-1.37-1.37c-.4-.4-.92-.59-1.43-.59-.52 0-1.04.2-1.43.59L10.3 9.45l-7.72 7.72c-.78.78-.78 2.05 0 2.83L4 21.41c.39.39.9.59 1.41.59.51 0 1.02-.2 1.41-.59l7.78-7.78 2.81-2.81c.8-.78.8-2.07 0-2.86zM5.41 20L4 18.59l7.72-7.72 1.47 1.35L5.41 20z\"/>\n",
              "  </svg>\n",
              "      </button>\n",
              "      \n",
              "  <style>\n",
              "    .colab-df-container {\n",
              "      display:flex;\n",
              "      flex-wrap:wrap;\n",
              "      gap: 12px;\n",
              "    }\n",
              "\n",
              "    .colab-df-convert {\n",
              "      background-color: #E8F0FE;\n",
              "      border: none;\n",
              "      border-radius: 50%;\n",
              "      cursor: pointer;\n",
              "      display: none;\n",
              "      fill: #1967D2;\n",
              "      height: 32px;\n",
              "      padding: 0 0 0 0;\n",
              "      width: 32px;\n",
              "    }\n",
              "\n",
              "    .colab-df-convert:hover {\n",
              "      background-color: #E2EBFA;\n",
              "      box-shadow: 0px 1px 2px rgba(60, 64, 67, 0.3), 0px 1px 3px 1px rgba(60, 64, 67, 0.15);\n",
              "      fill: #174EA6;\n",
              "    }\n",
              "\n",
              "    [theme=dark] .colab-df-convert {\n",
              "      background-color: #3B4455;\n",
              "      fill: #D2E3FC;\n",
              "    }\n",
              "\n",
              "    [theme=dark] .colab-df-convert:hover {\n",
              "      background-color: #434B5C;\n",
              "      box-shadow: 0px 1px 3px 1px rgba(0, 0, 0, 0.15);\n",
              "      filter: drop-shadow(0px 1px 2px rgba(0, 0, 0, 0.3));\n",
              "      fill: #FFFFFF;\n",
              "    }\n",
              "  </style>\n",
              "\n",
              "      <script>\n",
              "        const buttonEl =\n",
              "          document.querySelector('#df-9a882f91-58a7-4227-9729-c1d06b231692 button.colab-df-convert');\n",
              "        buttonEl.style.display =\n",
              "          google.colab.kernel.accessAllowed ? 'block' : 'none';\n",
              "\n",
              "        async function convertToInteractive(key) {\n",
              "          const element = document.querySelector('#df-9a882f91-58a7-4227-9729-c1d06b231692');\n",
              "          const dataTable =\n",
              "            await google.colab.kernel.invokeFunction('convertToInteractive',\n",
              "                                                     [key], {});\n",
              "          if (!dataTable) return;\n",
              "\n",
              "          const docLinkHtml = 'Like what you see? Visit the ' +\n",
              "            '<a target=\"_blank\" href=https://colab.research.google.com/notebooks/data_table.ipynb>data table notebook</a>'\n",
              "            + ' to learn more about interactive tables.';\n",
              "          element.innerHTML = '';\n",
              "          dataTable['output_type'] = 'display_data';\n",
              "          await google.colab.output.renderOutput(dataTable, element);\n",
              "          const docLink = document.createElement('div');\n",
              "          docLink.innerHTML = docLinkHtml;\n",
              "          element.appendChild(docLink);\n",
              "        }\n",
              "      </script>\n",
              "    </div>\n",
              "  </div>\n",
              "  "
            ]
          },
          "metadata": {},
          "execution_count": 110
        }
      ]
    },
    {
      "cell_type": "code",
      "source": [
        "myFig = plt.figure();\n",
        "bp = pandas_data_adjusted_passenger_australia_oceania[\"Adjusted Passenger Count\"].plot.box();\n",
        "myFig.savefig(data_path + \"australia_oceania_adjusted_passenger_count_boxplot.png\", format=\"png\")"
      ],
      "metadata": {
        "colab": {
          "base_uri": "https://localhost:8080/",
          "height": 265
        },
        "id": "EB77yMq5KWvQ",
        "outputId": "22ad6aaa-8b62-4f78-9133-9eb6719df1ca"
      },
      "execution_count": null,
      "outputs": [
        {
          "output_type": "display_data",
          "data": {
            "text/plain": [
              "<Figure size 432x288 with 1 Axes>"
            ],
            "image/png": "[encoded data removed]"
          },
          "metadata": {
            "needs_background": "light"
          }
        }
      ]
    },
    {
      "cell_type": "markdown",
      "source": [
        "Asia"
      ],
      "metadata": {
        "id": "8_TvtraBK0dR"
      }
    },
    {
      "cell_type": "code",
      "source": [
        "data_adjusted_passenger_asia = data.filter(data['GEO Region']=='Asia').select('Adjusted Passenger Count')\n",
        "data_adjusted_passenger_asia.show()"
      ],
      "metadata": {
        "colab": {
          "base_uri": "https://localhost:8080/"
        },
        "id": "X2edLXKIKWr3",
        "outputId": "cb3efd8c-a407-4cde-ea59-cc7d89c9df06"
      },
      "execution_count": null,
      "outputs": [
        {
          "output_type": "stream",
          "name": "stdout",
          "text": [
            "+------------------------+\n",
            "|Adjusted Passenger Count|\n",
            "+------------------------+\n",
            "|                    6263|\n",
            "|                    5500|\n",
            "|                    6545|\n",
            "|                    6094|\n",
            "|                    5041|\n",
            "|                    4744|\n",
            "|                   11010|\n",
            "|                    9628|\n",
            "|                   13638|\n",
            "|                   11255|\n",
            "|                   14142|\n",
            "|                   12132|\n",
            "|                    9195|\n",
            "|                    9086|\n",
            "|                    6153|\n",
            "|                    5646|\n",
            "|                    7229|\n",
            "|                    6554|\n",
            "|                   12828|\n",
            "|                   10269|\n",
            "+------------------------+\n",
            "only showing top 20 rows\n",
            "\n"
          ]
        }
      ]
    },
    {
      "cell_type": "code",
      "source": [
        "pandas_data_adjusted_passenger_asia = data_adjusted_passenger_asia.toPandas()\n",
        "pandas_data_adjusted_passenger_asia"
      ],
      "metadata": {
        "colab": {
          "base_uri": "https://localhost:8080/",
          "height": 424
        },
        "id": "uWKSVi0wKWoe",
        "outputId": "f3b15162-369c-4467-f21c-09f017df15e9"
      },
      "execution_count": null,
      "outputs": [
        {
          "output_type": "execute_result",
          "data": {
            "text/plain": [
              "      Adjusted Passenger Count\n",
              "0                         6263\n",
              "1                         5500\n",
              "2                         6545\n",
              "3                         6094\n",
              "4                         5041\n",
              "...                        ...\n",
              "3268                      9904\n",
              "3269                     11807\n",
              "3270                     13553\n",
              "3271                     67286\n",
              "3272                     71388\n",
              "\n",
              "[3273 rows x 1 columns]"
            ],
            "text/html": [
              "\n",
              "  <div id=\"df-086f1af4-f2d9-41b6-9c5b-ab5c6d7f1528\">\n",
              "    <div class=\"colab-df-container\">\n",
              "      <div>\n",
              "<style scoped>\n",
              "    .dataframe tbody tr th:only-of-type {\n",
              "        vertical-align: middle;\n",
              "    }\n",
              "\n",
              "    .dataframe tbody tr th {\n",
              "        vertical-align: top;\n",
              "    }\n",
              "\n",
              "    .dataframe thead th {\n",
              "        text-align: right;\n",
              "    }\n",
              "</style>\n",
              "<table border=\"1\" class=\"dataframe\">\n",
              "  <thead>\n",
              "    <tr style=\"text-align: right;\">\n",
              "      <th></th>\n",
              "      <th>Adjusted Passenger Count</th>\n",
              "    </tr>\n",
              "  </thead>\n",
              "  <tbody>\n",
              "    <tr>\n",
              "      <th>0</th>\n",
              "      <td>6263</td>\n",
              "    </tr>\n",
              "    <tr>\n",
              "      <th>1</th>\n",
              "      <td>5500</td>\n",
              "    </tr>\n",
              "    <tr>\n",
              "      <th>2</th>\n",
              "      <td>6545</td>\n",
              "    </tr>\n",
              "    <tr>\n",
              "      <th>3</th>\n",
              "      <td>6094</td>\n",
              "    </tr>\n",
              "    <tr>\n",
              "      <th>4</th>\n",
              "      <td>5041</td>\n",
              "    </tr>\n",
              "    <tr>\n",
              "      <th>...</th>\n",
              "      <td>...</td>\n",
              "    </tr>\n",
              "    <tr>\n",
              "      <th>3268</th>\n",
              "      <td>9904</td>\n",
              "    </tr>\n",
              "    <tr>\n",
              "      <th>3269</th>\n",
              "      <td>11807</td>\n",
              "    </tr>\n",
              "    <tr>\n",
              "      <th>3270</th>\n",
              "      <td>13553</td>\n",
              "    </tr>\n",
              "    <tr>\n",
              "      <th>3271</th>\n",
              "      <td>67286</td>\n",
              "    </tr>\n",
              "    <tr>\n",
              "      <th>3272</th>\n",
              "      <td>71388</td>\n",
              "    </tr>\n",
              "  </tbody>\n",
              "</table>\n",
              "<p>3273 rows × 1 columns</p>\n",
              "</div>\n",
              "      <button class=\"colab-df-convert\" onclick=\"convertToInteractive('df-086f1af4-f2d9-41b6-9c5b-ab5c6d7f1528')\"\n",
              "              title=\"Convert this dataframe to an interactive table.\"\n",
              "              style=\"display:none;\">\n",
              "        \n",
              "  <svg xmlns=\"http://www.w3.org/2000/svg\" height=\"24px\"viewBox=\"0 0 24 24\"\n",
              "       width=\"24px\">\n",
              "    <path d=\"M0 0h24v24H0V0z\" fill=\"none\"/>\n",
              "    <path d=\"M18.56 5.44l.94 2.06.94-2.06 2.06-.94-2.06-.94-.94-2.06-.94 2.06-2.06.94zm-11 1L8.5 8.5l.94-2.06 2.06-.94-2.06-.94L8.5 2.5l-.94 2.06-2.06.94zm10 10l.94 2.06.94-2.06 2.06-.94-2.06-.94-.94-2.06-.94 2.06-2.06.94z\"/><path d=\"M17.41 7.96l-1.37-1.37c-.4-.4-.92-.59-1.43-.59-.52 0-1.04.2-1.43.59L10.3 9.45l-7.72 7.72c-.78.78-.78 2.05 0 2.83L4 21.41c.39.39.9.59 1.41.59.51 0 1.02-.2 1.41-.59l7.78-7.78 2.81-2.81c.8-.78.8-2.07 0-2.86zM5.41 20L4 18.59l7.72-7.72 1.47 1.35L5.41 20z\"/>\n",
              "  </svg>\n",
              "      </button>\n",
              "      \n",
              "  <style>\n",
              "    .colab-df-container {\n",
              "      display:flex;\n",
              "      flex-wrap:wrap;\n",
              "      gap: 12px;\n",
              "    }\n",
              "\n",
              "    .colab-df-convert {\n",
              "      background-color: #E8F0FE;\n",
              "      border: none;\n",
              "      border-radius: 50%;\n",
              "      cursor: pointer;\n",
              "      display: none;\n",
              "      fill: #1967D2;\n",
              "      height: 32px;\n",
              "      padding: 0 0 0 0;\n",
              "      width: 32px;\n",
              "    }\n",
              "\n",
              "    .colab-df-convert:hover {\n",
              "      background-color: #E2EBFA;\n",
              "      box-shadow: 0px 1px 2px rgba(60, 64, 67, 0.3), 0px 1px 3px 1px rgba(60, 64, 67, 0.15);\n",
              "      fill: #174EA6;\n",
              "    }\n",
              "\n",
              "    [theme=dark] .colab-df-convert {\n",
              "      background-color: #3B4455;\n",
              "      fill: #D2E3FC;\n",
              "    }\n",
              "\n",
              "    [theme=dark] .colab-df-convert:hover {\n",
              "      background-color: #434B5C;\n",
              "      box-shadow: 0px 1px 3px 1px rgba(0, 0, 0, 0.15);\n",
              "      filter: drop-shadow(0px 1px 2px rgba(0, 0, 0, 0.3));\n",
              "      fill: #FFFFFF;\n",
              "    }\n",
              "  </style>\n",
              "\n",
              "      <script>\n",
              "        const buttonEl =\n",
              "          document.querySelector('#df-086f1af4-f2d9-41b6-9c5b-ab5c6d7f1528 button.colab-df-convert');\n",
              "        buttonEl.style.display =\n",
              "          google.colab.kernel.accessAllowed ? 'block' : 'none';\n",
              "\n",
              "        async function convertToInteractive(key) {\n",
              "          const element = document.querySelector('#df-086f1af4-f2d9-41b6-9c5b-ab5c6d7f1528');\n",
              "          const dataTable =\n",
              "            await google.colab.kernel.invokeFunction('convertToInteractive',\n",
              "                                                     [key], {});\n",
              "          if (!dataTable) return;\n",
              "\n",
              "          const docLinkHtml = 'Like what you see? Visit the ' +\n",
              "            '<a target=\"_blank\" href=https://colab.research.google.com/notebooks/data_table.ipynb>data table notebook</a>'\n",
              "            + ' to learn more about interactive tables.';\n",
              "          element.innerHTML = '';\n",
              "          dataTable['output_type'] = 'display_data';\n",
              "          await google.colab.output.renderOutput(dataTable, element);\n",
              "          const docLink = document.createElement('div');\n",
              "          docLink.innerHTML = docLinkHtml;\n",
              "          element.appendChild(docLink);\n",
              "        }\n",
              "      </script>\n",
              "    </div>\n",
              "  </div>\n",
              "  "
            ]
          },
          "metadata": {},
          "execution_count": 113
        }
      ]
    },
    {
      "cell_type": "code",
      "source": [
        "myFig = plt.figure();\n",
        "bp = pandas_data_adjusted_passenger_asia[\"Adjusted Passenger Count\"].plot.box();\n",
        "myFig.savefig(data_path + \"asia_adjusted_passenger_count_boxplot.png\", format=\"png\")"
      ],
      "metadata": {
        "colab": {
          "base_uri": "https://localhost:8080/",
          "height": 265
        },
        "id": "jlzSBssLKWlR",
        "outputId": "934b5de1-13e9-48a6-e228-943c56f19f20"
      },
      "execution_count": null,
      "outputs": [
        {
          "output_type": "display_data",
          "data": {
            "text/plain": [
              "<Figure size 432x288 with 1 Axes>"
            ],
            "image/png": "[encoded data removed]"
          },
          "metadata": {
            "needs_background": "light"
          }
        }
      ]
    },
    {
      "cell_type": "markdown",
      "source": [
        "# ***correlación***"
      ],
      "metadata": {
        "id": "hwz23XTvLOJk"
      }
    },
    {
      "cell_type": "code",
      "source": [
        "data.show(5)"
      ],
      "metadata": {
        "colab": {
          "base_uri": "https://localhost:8080/"
        },
        "id": "EOn8p2fnKWhl",
        "outputId": "3c26bc42-afb4-4190-a002-70224db5d820"
      },
      "execution_count": null,
      "outputs": [
        {
          "output_type": "stream",
          "name": "stdout",
          "text": [
            "+---------------+-----------------+---------------------------+-----------------+---------------------------+-------------+----------+------------------+-------------------+----------+-------------+---------------+---------------------------+------------------------+----+-----+\n",
            "|Activity Period|Operating Airline|Operating Airline IATA Code|Published Airline|Published Airline IATA Code|  GEO Summary|GEO Region|Activity Type Code|Price Category Code|  Terminal|Boarding Area|Passenger Count|Adjusted Activity Type Code|Adjusted Passenger Count|Year|Month|\n",
            "+---------------+-----------------+---------------------------+-----------------+---------------------------+-------------+----------+------------------+-------------------+----------+-------------+---------------+---------------------------+------------------------+----+-----+\n",
            "|         200507|     ATA Airlines|                         TZ|     ATA Airlines|                         TZ|     Domestic|        US|          Deplaned|           Low Fare|Terminal 1|            B|          27271|                   Deplaned|                   27271|2005| July|\n",
            "|         200507|     ATA Airlines|                         TZ|     ATA Airlines|                         TZ|     Domestic|        US|          Enplaned|           Low Fare|Terminal 1|            B|          29131|                   Enplaned|                   29131|2005| July|\n",
            "|         200507|     ATA Airlines|                         TZ|     ATA Airlines|                         TZ|     Domestic|        US|    Thru / Transit|           Low Fare|Terminal 1|            B|           5415|         Thru / Transit * 2|                   10830|2005| July|\n",
            "|         200507|      Air Canada |                         AC|      Air Canada |                         AC|International|    Canada|          Deplaned|              Other|Terminal 1|            B|          35156|                   Deplaned|                   35156|2005| July|\n",
            "|         200507|      Air Canada |                         AC|      Air Canada |                         AC|International|    Canada|          Enplaned|              Other|Terminal 1|            B|          34090|                   Enplaned|                   34090|2005| July|\n",
            "+---------------+-----------------+---------------------------+-----------------+---------------------------+-------------+----------+------------------+-------------------+----------+-------------+---------------+---------------------------+------------------------+----+-----+\n",
            "only showing top 5 rows\n",
            "\n"
          ]
        }
      ]
    },
    {
      "cell_type": "code",
      "source": [
        "data.count()"
      ],
      "metadata": {
        "colab": {
          "base_uri": "https://localhost:8080/"
        },
        "id": "6AFcrkgyKWef",
        "outputId": "30725c76-8095-4c96-f554-bc5d8ba8b813"
      },
      "execution_count": null,
      "outputs": [
        {
          "output_type": "execute_result",
          "data": {
            "text/plain": [
              "15007"
            ]
          },
          "metadata": {},
          "execution_count": 116
        }
      ]
    },
    {
      "cell_type": "code",
      "source": [
        "columnas_listas=list(data.columns)"
      ],
      "metadata": {
        "id": "fG4XaWd1KWas"
      },
      "execution_count": null,
      "outputs": []
    },
    {
      "cell_type": "code",
      "source": [
        "columnas_numericas=['Activity Period','Passenger Count', 'Adjusted Passenger Count','Year' ]"
      ],
      "metadata": {
        "id": "vvyySZISKWXj"
      },
      "execution_count": null,
      "outputs": []
    },
    {
      "cell_type": "code",
      "source": [
        "from pyspark.sql import functions as F"
      ],
      "metadata": {
        "id": "RQkGDeLQKWT3"
      },
      "execution_count": null,
      "outputs": []
    },
    {
      "cell_type": "code",
      "source": [
        "data_numericas = data.select(*(F.col(c).cast('Double').alias(c) for c in columnas_numericas))\n",
        "data_numericas.dtypes"
      ],
      "metadata": {
        "colab": {
          "base_uri": "https://localhost:8080/"
        },
        "id": "fGvK8bF4KWQe",
        "outputId": "6865048e-a439-4987-d735-e44cff10bb00"
      },
      "execution_count": null,
      "outputs": [
        {
          "output_type": "execute_result",
          "data": {
            "text/plain": [
              "[('Activity Period', 'double'),\n",
              " ('Passenger Count', 'double'),\n",
              " ('Adjusted Passenger Count', 'double'),\n",
              " ('Year', 'double')]"
            ]
          },
          "metadata": {},
          "execution_count": 120
        }
      ]
    },
    {
      "cell_type": "code",
      "source": [
        "data_numericas.dtypes"
      ],
      "metadata": {
        "colab": {
          "base_uri": "https://localhost:8080/"
        },
        "id": "JFChfRC6KWNV",
        "outputId": "b1bac9b8-dd3f-4dd6-a4ea-3f4e80aa2e6b"
      },
      "execution_count": null,
      "outputs": [
        {
          "output_type": "execute_result",
          "data": {
            "text/plain": [
              "[('Activity Period', 'double'),\n",
              " ('Passenger Count', 'double'),\n",
              " ('Adjusted Passenger Count', 'double'),\n",
              " ('Year', 'double')]"
            ]
          },
          "metadata": {},
          "execution_count": 121
        }
      ]
    },
    {
      "cell_type": "code",
      "source": [
        "data_numericas.show()"
      ],
      "metadata": {
        "colab": {
          "base_uri": "https://localhost:8080/"
        },
        "id": "gNe_IWRHKWJ7",
        "outputId": "210a854e-8a57-47c5-8fa3-844e58077f0d"
      },
      "execution_count": null,
      "outputs": [
        {
          "output_type": "stream",
          "name": "stdout",
          "text": [
            "+---------------+---------------+------------------------+------+\n",
            "|Activity Period|Passenger Count|Adjusted Passenger Count|  Year|\n",
            "+---------------+---------------+------------------------+------+\n",
            "|       200507.0|        27271.0|                 27271.0|2005.0|\n",
            "|       200507.0|        29131.0|                 29131.0|2005.0|\n",
            "|       200507.0|         5415.0|                 10830.0|2005.0|\n",
            "|       200507.0|        35156.0|                 35156.0|2005.0|\n",
            "|       200507.0|        34090.0|                 34090.0|2005.0|\n",
            "|       200507.0|         6263.0|                  6263.0|2005.0|\n",
            "|       200507.0|         5500.0|                  5500.0|2005.0|\n",
            "|       200507.0|        12050.0|                 12050.0|2005.0|\n",
            "|       200507.0|        11638.0|                 11638.0|2005.0|\n",
            "|       200507.0|         4998.0|                  4998.0|2005.0|\n",
            "|       200507.0|         4962.0|                  4962.0|2005.0|\n",
            "|       200507.0|         8055.0|                  8055.0|2005.0|\n",
            "|       200507.0|         7984.0|                  7984.0|2005.0|\n",
            "|       200507.0|        36641.0|                 36641.0|2005.0|\n",
            "|       200507.0|        39379.0|                 39379.0|2005.0|\n",
            "|       200507.0|         3678.0|                  7356.0|2005.0|\n",
            "|       200507.0|         7977.0|                  7977.0|2005.0|\n",
            "|       200507.0|         8837.0|                  8837.0|2005.0|\n",
            "|       200507.0|         6969.0|                  6969.0|2005.0|\n",
            "|       200507.0|        10046.0|                 10046.0|2005.0|\n",
            "+---------------+---------------+------------------------+------+\n",
            "only showing top 20 rows\n",
            "\n"
          ]
        }
      ]
    },
    {
      "cell_type": "code",
      "source": [
        "data_numericas.count()"
      ],
      "metadata": {
        "colab": {
          "base_uri": "https://localhost:8080/"
        },
        "id": "bahcqOrbKWHK",
        "outputId": "40605f85-9903-487a-e047-c463fe463fb6"
      },
      "execution_count": null,
      "outputs": [
        {
          "output_type": "execute_result",
          "data": {
            "text/plain": [
              "15007"
            ]
          },
          "metadata": {},
          "execution_count": 123
        }
      ]
    },
    {
      "cell_type": "code",
      "source": [
        "data_pandas=data_numericas.toPandas()\n",
        "data_pandas.head()"
      ],
      "metadata": {
        "colab": {
          "base_uri": "https://localhost:8080/",
          "height": 206
        },
        "id": "1TwXJl1dKWEu",
        "outputId": "1cdcc77a-8cd0-4948-926e-0a813784ebcb"
      },
      "execution_count": null,
      "outputs": [
        {
          "output_type": "execute_result",
          "data": {
            "text/plain": [
              "   Activity Period  Passenger Count  Adjusted Passenger Count    Year\n",
              "0         200507.0          27271.0                   27271.0  2005.0\n",
              "1         200507.0          29131.0                   29131.0  2005.0\n",
              "2         200507.0           5415.0                   10830.0  2005.0\n",
              "3         200507.0          35156.0                   35156.0  2005.0\n",
              "4         200507.0          34090.0                   34090.0  2005.0"
            ],
            "text/html": [
              "\n",
              "  <div id=\"df-9caa2916-1e37-4fee-8b63-5fa4390c8568\">\n",
              "    <div class=\"colab-df-container\">\n",
              "      <div>\n",
              "<style scoped>\n",
              "    .dataframe tbody tr th:only-of-type {\n",
              "        vertical-align: middle;\n",
              "    }\n",
              "\n",
              "    .dataframe tbody tr th {\n",
              "        vertical-align: top;\n",
              "    }\n",
              "\n",
              "    .dataframe thead th {\n",
              "        text-align: right;\n",
              "    }\n",
              "</style>\n",
              "<table border=\"1\" class=\"dataframe\">\n",
              "  <thead>\n",
              "    <tr style=\"text-align: right;\">\n",
              "      <th></th>\n",
              "      <th>Activity Period</th>\n",
              "      <th>Passenger Count</th>\n",
              "      <th>Adjusted Passenger Count</th>\n",
              "      <th>Year</th>\n",
              "    </tr>\n",
              "  </thead>\n",
              "  <tbody>\n",
              "    <tr>\n",
              "      <th>0</th>\n",
              "      <td>200507.0</td>\n",
              "      <td>27271.0</td>\n",
              "      <td>27271.0</td>\n",
              "      <td>2005.0</td>\n",
              "    </tr>\n",
              "    <tr>\n",
              "      <th>1</th>\n",
              "      <td>200507.0</td>\n",
              "      <td>29131.0</td>\n",
              "      <td>29131.0</td>\n",
              "      <td>2005.0</td>\n",
              "    </tr>\n",
              "    <tr>\n",
              "      <th>2</th>\n",
              "      <td>200507.0</td>\n",
              "      <td>5415.0</td>\n",
              "      <td>10830.0</td>\n",
              "      <td>2005.0</td>\n",
              "    </tr>\n",
              "    <tr>\n",
              "      <th>3</th>\n",
              "      <td>200507.0</td>\n",
              "      <td>35156.0</td>\n",
              "      <td>35156.0</td>\n",
              "      <td>2005.0</td>\n",
              "    </tr>\n",
              "    <tr>\n",
              "      <th>4</th>\n",
              "      <td>200507.0</td>\n",
              "      <td>34090.0</td>\n",
              "      <td>34090.0</td>\n",
              "      <td>2005.0</td>\n",
              "    </tr>\n",
              "  </tbody>\n",
              "</table>\n",
              "</div>\n",
              "      <button class=\"colab-df-convert\" onclick=\"convertToInteractive('df-9caa2916-1e37-4fee-8b63-5fa4390c8568')\"\n",
              "              title=\"Convert this dataframe to an interactive table.\"\n",
              "              style=\"display:none;\">\n",
              "        \n",
              "  <svg xmlns=\"http://www.w3.org/2000/svg\" height=\"24px\"viewBox=\"0 0 24 24\"\n",
              "       width=\"24px\">\n",
              "    <path d=\"M0 0h24v24H0V0z\" fill=\"none\"/>\n",
              "    <path d=\"M18.56 5.44l.94 2.06.94-2.06 2.06-.94-2.06-.94-.94-2.06-.94 2.06-2.06.94zm-11 1L8.5 8.5l.94-2.06 2.06-.94-2.06-.94L8.5 2.5l-.94 2.06-2.06.94zm10 10l.94 2.06.94-2.06 2.06-.94-2.06-.94-.94-2.06-.94 2.06-2.06.94z\"/><path d=\"M17.41 7.96l-1.37-1.37c-.4-.4-.92-.59-1.43-.59-.52 0-1.04.2-1.43.59L10.3 9.45l-7.72 7.72c-.78.78-.78 2.05 0 2.83L4 21.41c.39.39.9.59 1.41.59.51 0 1.02-.2 1.41-.59l7.78-7.78 2.81-2.81c.8-.78.8-2.07 0-2.86zM5.41 20L4 18.59l7.72-7.72 1.47 1.35L5.41 20z\"/>\n",
              "  </svg>\n",
              "      </button>\n",
              "      \n",
              "  <style>\n",
              "    .colab-df-container {\n",
              "      display:flex;\n",
              "      flex-wrap:wrap;\n",
              "      gap: 12px;\n",
              "    }\n",
              "\n",
              "    .colab-df-convert {\n",
              "      background-color: #E8F0FE;\n",
              "      border: none;\n",
              "      border-radius: 50%;\n",
              "      cursor: pointer;\n",
              "      display: none;\n",
              "      fill: #1967D2;\n",
              "      height: 32px;\n",
              "      padding: 0 0 0 0;\n",
              "      width: 32px;\n",
              "    }\n",
              "\n",
              "    .colab-df-convert:hover {\n",
              "      background-color: #E2EBFA;\n",
              "      box-shadow: 0px 1px 2px rgba(60, 64, 67, 0.3), 0px 1px 3px 1px rgba(60, 64, 67, 0.15);\n",
              "      fill: #174EA6;\n",
              "    }\n",
              "\n",
              "    [theme=dark] .colab-df-convert {\n",
              "      background-color: #3B4455;\n",
              "      fill: #D2E3FC;\n",
              "    }\n",
              "\n",
              "    [theme=dark] .colab-df-convert:hover {\n",
              "      background-color: #434B5C;\n",
              "      box-shadow: 0px 1px 3px 1px rgba(0, 0, 0, 0.15);\n",
              "      filter: drop-shadow(0px 1px 2px rgba(0, 0, 0, 0.3));\n",
              "      fill: #FFFFFF;\n",
              "    }\n",
              "  </style>\n",
              "\n",
              "      <script>\n",
              "        const buttonEl =\n",
              "          document.querySelector('#df-9caa2916-1e37-4fee-8b63-5fa4390c8568 button.colab-df-convert');\n",
              "        buttonEl.style.display =\n",
              "          google.colab.kernel.accessAllowed ? 'block' : 'none';\n",
              "\n",
              "        async function convertToInteractive(key) {\n",
              "          const element = document.querySelector('#df-9caa2916-1e37-4fee-8b63-5fa4390c8568');\n",
              "          const dataTable =\n",
              "            await google.colab.kernel.invokeFunction('convertToInteractive',\n",
              "                                                     [key], {});\n",
              "          if (!dataTable) return;\n",
              "\n",
              "          const docLinkHtml = 'Like what you see? Visit the ' +\n",
              "            '<a target=\"_blank\" href=https://colab.research.google.com/notebooks/data_table.ipynb>data table notebook</a>'\n",
              "            + ' to learn more about interactive tables.';\n",
              "          element.innerHTML = '';\n",
              "          dataTable['output_type'] = 'display_data';\n",
              "          await google.colab.output.renderOutput(dataTable, element);\n",
              "          const docLink = document.createElement('div');\n",
              "          docLink.innerHTML = docLinkHtml;\n",
              "          element.appendChild(docLink);\n",
              "        }\n",
              "      </script>\n",
              "    </div>\n",
              "  </div>\n",
              "  "
            ]
          },
          "metadata": {},
          "execution_count": 124
        }
      ]
    },
    {
      "cell_type": "code",
      "source": [
        "corr_pearson=data_pandas.corr(method='pearson')\n",
        "corr_pearson"
      ],
      "metadata": {
        "colab": {
          "base_uri": "https://localhost:8080/",
          "height": 175
        },
        "id": "DtKXSILHKWAy",
        "outputId": "9a3b5d94-99df-4ea9-fb77-febc041b76e8"
      },
      "execution_count": null,
      "outputs": [
        {
          "output_type": "execute_result",
          "data": {
            "text/plain": [
              "                          Activity Period  Passenger Count  \\\n",
              "Activity Period                  1.000000         0.060311   \n",
              "Passenger Count                  0.060311         1.000000   \n",
              "Adjusted Passenger Count         0.059336         0.999941   \n",
              "Year                             0.999940         0.060069   \n",
              "\n",
              "                          Adjusted Passenger Count      Year  \n",
              "Activity Period                           0.059336  0.999940  \n",
              "Passenger Count                           0.999941  0.060069  \n",
              "Adjusted Passenger Count                  1.000000  0.059096  \n",
              "Year                                      0.059096  1.000000  "
            ],
            "text/html": [
              "\n",
              "  <div id=\"df-7aebd0bb-f404-4cb7-a08a-a9e2a95e3967\">\n",
              "    <div class=\"colab-df-container\">\n",
              "      <div>\n",
              "<style scoped>\n",
              "    .dataframe tbody tr th:only-of-type {\n",
              "        vertical-align: middle;\n",
              "    }\n",
              "\n",
              "    .dataframe tbody tr th {\n",
              "        vertical-align: top;\n",
              "    }\n",
              "\n",
              "    .dataframe thead th {\n",
              "        text-align: right;\n",
              "    }\n",
              "</style>\n",
              "<table border=\"1\" class=\"dataframe\">\n",
              "  <thead>\n",
              "    <tr style=\"text-align: right;\">\n",
              "      <th></th>\n",
              "      <th>Activity Period</th>\n",
              "      <th>Passenger Count</th>\n",
              "      <th>Adjusted Passenger Count</th>\n",
              "      <th>Year</th>\n",
              "    </tr>\n",
              "  </thead>\n",
              "  <tbody>\n",
              "    <tr>\n",
              "      <th>Activity Period</th>\n",
              "      <td>1.000000</td>\n",
              "      <td>0.060311</td>\n",
              "      <td>0.059336</td>\n",
              "      <td>0.999940</td>\n",
              "    </tr>\n",
              "    <tr>\n",
              "      <th>Passenger Count</th>\n",
              "      <td>0.060311</td>\n",
              "      <td>1.000000</td>\n",
              "      <td>0.999941</td>\n",
              "      <td>0.060069</td>\n",
              "    </tr>\n",
              "    <tr>\n",
              "      <th>Adjusted Passenger Count</th>\n",
              "      <td>0.059336</td>\n",
              "      <td>0.999941</td>\n",
              "      <td>1.000000</td>\n",
              "      <td>0.059096</td>\n",
              "    </tr>\n",
              "    <tr>\n",
              "      <th>Year</th>\n",
              "      <td>0.999940</td>\n",
              "      <td>0.060069</td>\n",
              "      <td>0.059096</td>\n",
              "      <td>1.000000</td>\n",
              "    </tr>\n",
              "  </tbody>\n",
              "</table>\n",
              "</div>\n",
              "      <button class=\"colab-df-convert\" onclick=\"convertToInteractive('df-7aebd0bb-f404-4cb7-a08a-a9e2a95e3967')\"\n",
              "              title=\"Convert this dataframe to an interactive table.\"\n",
              "              style=\"display:none;\">\n",
              "        \n",
              "  <svg xmlns=\"http://www.w3.org/2000/svg\" height=\"24px\"viewBox=\"0 0 24 24\"\n",
              "       width=\"24px\">\n",
              "    <path d=\"M0 0h24v24H0V0z\" fill=\"none\"/>\n",
              "    <path d=\"M18.56 5.44l.94 2.06.94-2.06 2.06-.94-2.06-.94-.94-2.06-.94 2.06-2.06.94zm-11 1L8.5 8.5l.94-2.06 2.06-.94-2.06-.94L8.5 2.5l-.94 2.06-2.06.94zm10 10l.94 2.06.94-2.06 2.06-.94-2.06-.94-.94-2.06-.94 2.06-2.06.94z\"/><path d=\"M17.41 7.96l-1.37-1.37c-.4-.4-.92-.59-1.43-.59-.52 0-1.04.2-1.43.59L10.3 9.45l-7.72 7.72c-.78.78-.78 2.05 0 2.83L4 21.41c.39.39.9.59 1.41.59.51 0 1.02-.2 1.41-.59l7.78-7.78 2.81-2.81c.8-.78.8-2.07 0-2.86zM5.41 20L4 18.59l7.72-7.72 1.47 1.35L5.41 20z\"/>\n",
              "  </svg>\n",
              "      </button>\n",
              "      \n",
              "  <style>\n",
              "    .colab-df-container {\n",
              "      display:flex;\n",
              "      flex-wrap:wrap;\n",
              "      gap: 12px;\n",
              "    }\n",
              "\n",
              "    .colab-df-convert {\n",
              "      background-color: #E8F0FE;\n",
              "      border: none;\n",
              "      border-radius: 50%;\n",
              "      cursor: pointer;\n",
              "      display: none;\n",
              "      fill: #1967D2;\n",
              "      height: 32px;\n",
              "      padding: 0 0 0 0;\n",
              "      width: 32px;\n",
              "    }\n",
              "\n",
              "    .colab-df-convert:hover {\n",
              "      background-color: #E2EBFA;\n",
              "      box-shadow: 0px 1px 2px rgba(60, 64, 67, 0.3), 0px 1px 3px 1px rgba(60, 64, 67, 0.15);\n",
              "      fill: #174EA6;\n",
              "    }\n",
              "\n",
              "    [theme=dark] .colab-df-convert {\n",
              "      background-color: #3B4455;\n",
              "      fill: #D2E3FC;\n",
              "    }\n",
              "\n",
              "    [theme=dark] .colab-df-convert:hover {\n",
              "      background-color: #434B5C;\n",
              "      box-shadow: 0px 1px 3px 1px rgba(0, 0, 0, 0.15);\n",
              "      filter: drop-shadow(0px 1px 2px rgba(0, 0, 0, 0.3));\n",
              "      fill: #FFFFFF;\n",
              "    }\n",
              "  </style>\n",
              "\n",
              "      <script>\n",
              "        const buttonEl =\n",
              "          document.querySelector('#df-7aebd0bb-f404-4cb7-a08a-a9e2a95e3967 button.colab-df-convert');\n",
              "        buttonEl.style.display =\n",
              "          google.colab.kernel.accessAllowed ? 'block' : 'none';\n",
              "\n",
              "        async function convertToInteractive(key) {\n",
              "          const element = document.querySelector('#df-7aebd0bb-f404-4cb7-a08a-a9e2a95e3967');\n",
              "          const dataTable =\n",
              "            await google.colab.kernel.invokeFunction('convertToInteractive',\n",
              "                                                     [key], {});\n",
              "          if (!dataTable) return;\n",
              "\n",
              "          const docLinkHtml = 'Like what you see? Visit the ' +\n",
              "            '<a target=\"_blank\" href=https://colab.research.google.com/notebooks/data_table.ipynb>data table notebook</a>'\n",
              "            + ' to learn more about interactive tables.';\n",
              "          element.innerHTML = '';\n",
              "          dataTable['output_type'] = 'display_data';\n",
              "          await google.colab.output.renderOutput(dataTable, element);\n",
              "          const docLink = document.createElement('div');\n",
              "          docLink.innerHTML = docLinkHtml;\n",
              "          element.appendChild(docLink);\n",
              "        }\n",
              "      </script>\n",
              "    </div>\n",
              "  </div>\n",
              "  "
            ]
          },
          "metadata": {},
          "execution_count": 125
        }
      ]
    },
    {
      "cell_type": "markdown",
      "source": [
        "----------------------MAPA DE CALOR-------------------------------"
      ],
      "metadata": {
        "id": "Z-ZD-jdvLmo-"
      }
    },
    {
      "cell_type": "code",
      "source": [
        "import matplotlib.pyplot as plt\n",
        "f = plt.figure(figsize=(10, 9))\n",
        "plt.matshow(data_pandas.corr(), fignum=f.number)\n",
        "plt.xticks(range(data_pandas.shape[1]), data_pandas.columns, fontsize=14, rotation=45)\n",
        "plt.yticks(range(data_pandas.shape[1]), data_pandas.columns, fontsize=14)\n",
        "cb=plt.colorbar()\n",
        "cb.ax.tick_params(labelsize=14)\n",
        "plt.title('Matriz Correlacion', fontsize=16)\n",
        "plt.show()"
      ],
      "metadata": {
        "colab": {
          "base_uri": "https://localhost:8080/",
          "height": 652
        },
        "id": "YA1BVbCALme8",
        "outputId": "943291a3-44ab-4c3e-9926-a73dcda033ec"
      },
      "execution_count": null,
      "outputs": [
        {
          "output_type": "display_data",
          "data": {
            "text/plain": [
              "<Figure size 720x648 with 2 Axes>"
            ],
            "image/png": "[encoded data removed]"
          },
          "metadata": {
            "needs_background": "light"
          }
        }
      ]
    },
    {
      "cell_type": "markdown",
      "source": [
        "Activity Period"
      ],
      "metadata": {
        "id": "HtMwfOnJL2B5"
      }
    },
    {
      "cell_type": "code",
      "source": [
        "from matplotlib import pyplot\n",
        "pyplot.scatter(data_pandas['Activity Period'], data_pandas['Adjusted Passenger Count'])\n",
        "pyplot.show()"
      ],
      "metadata": {
        "colab": {
          "base_uri": "https://localhost:8080/",
          "height": 265
        },
        "id": "dR85O5qfLmbf",
        "outputId": "5fe7f304-42e9-43cd-8edd-cb35cf55888e"
      },
      "execution_count": null,
      "outputs": [
        {
          "output_type": "display_data",
          "data": {
            "text/plain": [
              "<Figure size 432x288 with 1 Axes>"
            ],
            "image/png": "[encoded data removed]"
          },
          "metadata": {
            "needs_background": "light"
          }
        }
      ]
    },
    {
      "cell_type": "markdown",
      "source": [
        "Year"
      ],
      "metadata": {
        "id": "TnQ8GgpvL6AS"
      }
    },
    {
      "cell_type": "code",
      "source": [
        "from matplotlib import pyplot\n",
        "pyplot.scatter(data_pandas['Year'], data_pandas['Adjusted Passenger Count'])\n",
        "pyplot.show()"
      ],
      "metadata": {
        "colab": {
          "base_uri": "https://localhost:8080/",
          "height": 265
        },
        "id": "QH-h9w_KLmYG",
        "outputId": "148477e0-02ec-4c5d-b131-a90b77c2c4cd"
      },
      "execution_count": null,
      "outputs": [
        {
          "output_type": "display_data",
          "data": {
            "text/plain": [
              "<Figure size 432x288 with 1 Axes>"
            ],
            "image/png": "[encoded data removed]"
          },
          "metadata": {
            "needs_background": "light"
          }
        }
      ]
    },
    {
      "cell_type": "markdown",
      "source": [
        "## ***algoritmo de regresion lineal***"
      ],
      "metadata": {
        "id": "e-H7KqW-L_HT"
      }
    },
    {
      "cell_type": "code",
      "source": [
        "data.select('Month').distinct().show()"
      ],
      "metadata": {
        "colab": {
          "base_uri": "https://localhost:8080/"
        },
        "id": "z2IksFvKLmUG",
        "outputId": "96033da4-3eb1-4e8c-f0b2-552b6051ecfb"
      },
      "execution_count": null,
      "outputs": [
        {
          "output_type": "stream",
          "name": "stdout",
          "text": [
            "+---------+\n",
            "|    Month|\n",
            "+---------+\n",
            "|     July|\n",
            "| November|\n",
            "| February|\n",
            "|  January|\n",
            "|    March|\n",
            "|  October|\n",
            "|      May|\n",
            "|   August|\n",
            "|    April|\n",
            "|     June|\n",
            "| December|\n",
            "|September|\n",
            "+---------+\n",
            "\n"
          ]
        }
      ]
    },
    {
      "cell_type": "markdown",
      "source": [
        "convertir los meses de string a numericos"
      ],
      "metadata": {
        "id": "HWPwBsoeMf_R"
      }
    },
    {
      "cell_type": "code",
      "source": [
        "import pyspark.sql.functions as sql_functions\n",
        "from pyspark.sql.functions import when\n",
        "from pyspark.sql.types import IntegerType"
      ],
      "metadata": {
        "id": "fnLYRXvzLmRZ"
      },
      "execution_count": null,
      "outputs": []
    },
    {
      "cell_type": "code",
      "source": [
        "def month_to_number(Month):\n",
        "    if month == \"January\":\n",
        "        return 1\n",
        "    elif month == \"February\":\n",
        "        return 2\n",
        "    elif month == \"March\":\n",
        "        return 3\n",
        "    elif month == \"April\":\n",
        "        return 4\n",
        "    elif month == \"May\":\n",
        "        return 5\n",
        "    elif month == \"June\":\n",
        "        return 6\n",
        "    elif month == \"July\":\n",
        "        return 7\n",
        "    elif month == \"August\":\n",
        "        return 8\n",
        "    elif month == \"September\":\n",
        "        return 9\n",
        "    elif month == \"October\":\n",
        "        return 10\n",
        "    elif month == \"November\":\n",
        "        return 11\n",
        "    elif month == \"December\":\n",
        "        return 12"
      ],
      "metadata": {
        "id": "C8F74YI4LmNK"
      },
      "execution_count": null,
      "outputs": []
    },
    {
      "cell_type": "code",
      "source": [
        "data = data.withColumn (\"month_num\", when(data[\"Month\"] == \"January\",1).when(data[\"Month\"] == \"February\",2).when(data[\"Month\"] == \"March\",3).when(data[\"Month\"] == \"April\",4).when(data[\"Month\"] == \"May\",5).when(data[\"Month\"] == \"June\",6).when(data[\"Month\"] == \"July\",7).when(data[\"Month\"] == \"August\",8).when(data[\"Month\"] == \"September\",9).when(data[\"Month\"] == \"October\",10).when(data[\"Month\"] == \"November\",11).when(data[\"Month\"] == \"December\",12).cast(IntegerType()))"
      ],
      "metadata": {
        "id": "3a1H1ZvJLmJQ"
      },
      "execution_count": null,
      "outputs": []
    },
    {
      "cell_type": "code",
      "source": [
        "from pyspark.ml.regression import LinearRegression\n",
        "from pyspark.ml.feature import VectorAssembler"
      ],
      "metadata": {
        "id": "taZ19neaLmDU"
      },
      "execution_count": null,
      "outputs": []
    },
    {
      "cell_type": "markdown",
      "source": [
        "queda generada la nueva columna:"
      ],
      "metadata": {
        "id": "Mk1kSlKCMxzJ"
      }
    },
    {
      "cell_type": "code",
      "source": [
        "data.show(5)"
      ],
      "metadata": {
        "colab": {
          "base_uri": "https://localhost:8080/"
        },
        "id": "T_MVujpcLl_w",
        "outputId": "943bab98-a820-4098-91f0-49743b3e7d58"
      },
      "execution_count": null,
      "outputs": [
        {
          "output_type": "stream",
          "name": "stdout",
          "text": [
            "+---------------+-----------------+---------------------------+-----------------+---------------------------+-------------+----------+------------------+-------------------+----------+-------------+---------------+---------------------------+------------------------+----+-----+---------+\n",
            "|Activity Period|Operating Airline|Operating Airline IATA Code|Published Airline|Published Airline IATA Code|  GEO Summary|GEO Region|Activity Type Code|Price Category Code|  Terminal|Boarding Area|Passenger Count|Adjusted Activity Type Code|Adjusted Passenger Count|Year|Month|month_num|\n",
            "+---------------+-----------------+---------------------------+-----------------+---------------------------+-------------+----------+------------------+-------------------+----------+-------------+---------------+---------------------------+------------------------+----+-----+---------+\n",
            "|         200507|     ATA Airlines|                         TZ|     ATA Airlines|                         TZ|     Domestic|        US|          Deplaned|           Low Fare|Terminal 1|            B|          27271|                   Deplaned|                   27271|2005| July|        7|\n",
            "|         200507|     ATA Airlines|                         TZ|     ATA Airlines|                         TZ|     Domestic|        US|          Enplaned|           Low Fare|Terminal 1|            B|          29131|                   Enplaned|                   29131|2005| July|        7|\n",
            "|         200507|     ATA Airlines|                         TZ|     ATA Airlines|                         TZ|     Domestic|        US|    Thru / Transit|           Low Fare|Terminal 1|            B|           5415|         Thru / Transit * 2|                   10830|2005| July|        7|\n",
            "|         200507|      Air Canada |                         AC|      Air Canada |                         AC|International|    Canada|          Deplaned|              Other|Terminal 1|            B|          35156|                   Deplaned|                   35156|2005| July|        7|\n",
            "|         200507|      Air Canada |                         AC|      Air Canada |                         AC|International|    Canada|          Enplaned|              Other|Terminal 1|            B|          34090|                   Enplaned|                   34090|2005| July|        7|\n",
            "+---------------+-----------------+---------------------------+-----------------+---------------------------+-------------+----------+------------------+-------------------+----------+-------------+---------------+---------------------------+------------------------+----+-----+---------+\n",
            "only showing top 5 rows\n",
            "\n"
          ]
        }
      ]
    },
    {
      "cell_type": "code",
      "source": [
        "data.printSchema() # Información sobre qué tipo de variable es cada columna"
      ],
      "metadata": {
        "colab": {
          "base_uri": "https://localhost:8080/"
        },
        "id": "YH2h8VLXLl8X",
        "outputId": "8a761a3d-a514-4503-949e-4a6a932f99b5"
      },
      "execution_count": null,
      "outputs": [
        {
          "output_type": "stream",
          "name": "stdout",
          "text": [
            "root\n",
            " |-- Activity Period: integer (nullable = true)\n",
            " |-- Operating Airline: string (nullable = true)\n",
            " |-- Operating Airline IATA Code: string (nullable = true)\n",
            " |-- Published Airline: string (nullable = true)\n",
            " |-- Published Airline IATA Code: string (nullable = true)\n",
            " |-- GEO Summary: string (nullable = true)\n",
            " |-- GEO Region: string (nullable = true)\n",
            " |-- Activity Type Code: string (nullable = true)\n",
            " |-- Price Category Code: string (nullable = true)\n",
            " |-- Terminal: string (nullable = true)\n",
            " |-- Boarding Area: string (nullable = true)\n",
            " |-- Passenger Count: integer (nullable = true)\n",
            " |-- Adjusted Activity Type Code: string (nullable = true)\n",
            " |-- Adjusted Passenger Count: integer (nullable = true)\n",
            " |-- Year: integer (nullable = true)\n",
            " |-- Month: string (nullable = true)\n",
            " |-- month_num: integer (nullable = true)\n",
            "\n"
          ]
        }
      ]
    },
    {
      "cell_type": "code",
      "source": [
        "data_model = data.select(\"Adjusted Passenger Count\", \"Year\", \"month\")\n",
        "data_model.show(5)"
      ],
      "metadata": {
        "colab": {
          "base_uri": "https://localhost:8080/"
        },
        "id": "Au6iDj4OLl4-",
        "outputId": "1a92d189-9dc4-4a8f-c597-6b86c45b05fd"
      },
      "execution_count": null,
      "outputs": [
        {
          "output_type": "stream",
          "name": "stdout",
          "text": [
            "+------------------------+----+-----+\n",
            "|Adjusted Passenger Count|Year|month|\n",
            "+------------------------+----+-----+\n",
            "|                   27271|2005| July|\n",
            "|                   29131|2005| July|\n",
            "|                   10830|2005| July|\n",
            "|                   35156|2005| July|\n",
            "|                   34090|2005| July|\n",
            "+------------------------+----+-----+\n",
            "only showing top 5 rows\n",
            "\n"
          ]
        }
      ]
    },
    {
      "cell_type": "code",
      "source": [
        "data_model.dtypes # Tipo de variables (enteras)"
      ],
      "metadata": {
        "colab": {
          "base_uri": "https://localhost:8080/"
        },
        "id": "8kJvmsAaLl1W",
        "outputId": "60aa9d16-d1fc-40ba-e508-ea639c43f57a"
      },
      "execution_count": null,
      "outputs": [
        {
          "output_type": "execute_result",
          "data": {
            "text/plain": [
              "[('Adjusted Passenger Count', 'int'), ('Year', 'int'), ('month', 'string')]"
            ]
          },
          "metadata": {},
          "execution_count": 137
        }
      ]
    },
    {
      "cell_type": "code",
      "source": [
        "categorical_cols = [\"Year\", \"month\"]\n",
        "numerical_cols = [\"Adjusted Passenger Count\"]"
      ],
      "metadata": {
        "id": "VtDeXzH5LlyE"
      },
      "execution_count": null,
      "outputs": []
    },
    {
      "cell_type": "code",
      "source": [
        "# Se muestra el número de meses y años diferentes que hay en la base de datos (categorías)\n",
        "data_model.agg(sql_functions.countDistinct(\"Year\")).show()\n",
        "data_model.agg(sql_functions.countDistinct(\"month\")).show()"
      ],
      "metadata": {
        "colab": {
          "base_uri": "https://localhost:8080/"
        },
        "id": "5scDmxGiLlu3",
        "outputId": "2763f5e8-97ad-43be-d859-be0554ae0090"
      },
      "execution_count": null,
      "outputs": [
        {
          "output_type": "stream",
          "name": "stdout",
          "text": [
            "+-----------+\n",
            "|count(Year)|\n",
            "+-----------+\n",
            "|         12|\n",
            "+-----------+\n",
            "\n",
            "+------------+\n",
            "|count(month)|\n",
            "+------------+\n",
            "|          12|\n",
            "+------------+\n",
            "\n"
          ]
        }
      ]
    },
    {
      "cell_type": "code",
      "source": [
        "data_model.groupBy(\"month\").count().show() # Número de veces que aparece info de cada mes\n",
        "data_model.groupBy(\"Year\").count().show() # Número de veces que aparece info de cada año"
      ],
      "metadata": {
        "colab": {
          "base_uri": "https://localhost:8080/"
        },
        "id": "i9Bdzka2Llre",
        "outputId": "e99bf6da-b7a6-4ba0-fb02-8c2474edbf3d"
      },
      "execution_count": null,
      "outputs": [
        {
          "output_type": "stream",
          "name": "stdout",
          "text": [
            "+---------+-----+\n",
            "|    month|count|\n",
            "+---------+-----+\n",
            "|     July| 1303|\n",
            "| November| 1263|\n",
            "| February| 1255|\n",
            "|  January| 1268|\n",
            "|    March| 1253|\n",
            "|  October| 1295|\n",
            "|      May| 1172|\n",
            "|   August| 1310|\n",
            "|    April| 1149|\n",
            "|     June| 1183|\n",
            "| December| 1259|\n",
            "|September| 1297|\n",
            "+---------+-----+\n",
            "\n",
            "+----+-----+\n",
            "|Year|count|\n",
            "+----+-----+\n",
            "|2007| 1409|\n",
            "|2015| 1460|\n",
            "|2006| 1369|\n",
            "|2013| 1358|\n",
            "|2014| 1368|\n",
            "|2012| 1378|\n",
            "|2009| 1393|\n",
            "|2016|  371|\n",
            "|2005|  695|\n",
            "|2010| 1383|\n",
            "|2011| 1390|\n",
            "|2008| 1433|\n",
            "+----+-----+\n",
            "\n"
          ]
        }
      ]
    },
    {
      "cell_type": "code",
      "source": [
        "# ONE HOT ENCODING: Se utiliza para transformar las columnas categóricas a DUMMY (0-1)\n",
        "from pyspark.ml.feature import OneHotEncoder, StringIndexer"
      ],
      "metadata": {
        "id": "E_Egjf6rLloM"
      },
      "execution_count": null,
      "outputs": []
    },
    {
      "cell_type": "code",
      "source": [
        "for col in categorical_cols:\n",
        "  indexer = StringIndexer(inputCol=col, outputCol=col + \"_StringIndexer\")\n",
        "  model = indexer.fit(data_model)\n",
        "  indexed_data = model.transform(data_model)\n",
        "\n",
        "  # OneHotEncoder\n",
        "  encoder = OneHotEncoder(inputCol=col + \"_StringIndexer\", outputCol=col + \"_vec\")\n",
        "  onehotenc = encoder.fit(indexed_data)\n",
        "  data_model = onehotenc.transform(indexed_data)"
      ],
      "metadata": {
        "id": "4-WXARu-Llko"
      },
      "execution_count": null,
      "outputs": []
    },
    {
      "cell_type": "code",
      "source": [
        "data_model.show(5)"
      ],
      "metadata": {
        "colab": {
          "base_uri": "https://localhost:8080/"
        },
        "id": "q4HpG2v5Llgw",
        "outputId": "ad29b544-55ab-4e57-c412-4cdb8400519f"
      },
      "execution_count": null,
      "outputs": [
        {
          "output_type": "stream",
          "name": "stdout",
          "text": [
            "+------------------------+----+-----+------------------+---------------+-------------------+--------------+\n",
            "|Adjusted Passenger Count|Year|month|Year_StringIndexer|       Year_vec|month_StringIndexer|     month_vec|\n",
            "+------------------------+----+-----+------------------+---------------+-------------------+--------------+\n",
            "|                   27271|2005| July|              10.0|(11,[10],[1.0])|                1.0|(11,[1],[1.0])|\n",
            "|                   29131|2005| July|              10.0|(11,[10],[1.0])|                1.0|(11,[1],[1.0])|\n",
            "|                   10830|2005| July|              10.0|(11,[10],[1.0])|                1.0|(11,[1],[1.0])|\n",
            "|                   35156|2005| July|              10.0|(11,[10],[1.0])|                1.0|(11,[1],[1.0])|\n",
            "|                   34090|2005| July|              10.0|(11,[10],[1.0])|                1.0|(11,[1],[1.0])|\n",
            "+------------------------+----+-----+------------------+---------------+-------------------+--------------+\n",
            "only showing top 5 rows\n",
            "\n"
          ]
        }
      ]
    },
    {
      "cell_type": "code",
      "source": [
        "# VectorAssembler se utiliza para concatenar todas las variables (numérica+categóricas)\n",
        "from pyspark.ml.feature import VectorAssembler"
      ],
      "metadata": {
        "id": "0hdkPlczLldI"
      },
      "execution_count": null,
      "outputs": []
    },
    {
      "cell_type": "code",
      "source": [
        "assembler = VectorAssembler(inputCols=[\"month_vec\", \"Year_vec\", \"Adjusted Passenger Count\"], outputCol=\"features\")\n",
        "data_model = assembler.transform(data_model)"
      ],
      "metadata": {
        "id": "zfJU9Ne4LlaB"
      },
      "execution_count": null,
      "outputs": []
    },
    {
      "cell_type": "code",
      "source": [
        "data_model.show()"
      ],
      "metadata": {
        "colab": {
          "base_uri": "https://localhost:8080/"
        },
        "id": "-KKO7_-7LlWp",
        "outputId": "fa918b75-6a48-4aad-9823-bd52052cc3ce"
      },
      "execution_count": null,
      "outputs": [
        {
          "output_type": "stream",
          "name": "stdout",
          "text": [
            "+------------------------+----+-----+------------------+---------------+-------------------+--------------+--------------------+\n",
            "|Adjusted Passenger Count|Year|month|Year_StringIndexer|       Year_vec|month_StringIndexer|     month_vec|            features|\n",
            "+------------------------+----+-----+------------------+---------------+-------------------+--------------+--------------------+\n",
            "|                   27271|2005| July|              10.0|(11,[10],[1.0])|                1.0|(11,[1],[1.0])|(23,[1,21,22],[1....|\n",
            "|                   29131|2005| July|              10.0|(11,[10],[1.0])|                1.0|(11,[1],[1.0])|(23,[1,21,22],[1....|\n",
            "|                   10830|2005| July|              10.0|(11,[10],[1.0])|                1.0|(11,[1],[1.0])|(23,[1,21,22],[1....|\n",
            "|                   35156|2005| July|              10.0|(11,[10],[1.0])|                1.0|(11,[1],[1.0])|(23,[1,21,22],[1....|\n",
            "|                   34090|2005| July|              10.0|(11,[10],[1.0])|                1.0|(11,[1],[1.0])|(23,[1,21,22],[1....|\n",
            "|                    6263|2005| July|              10.0|(11,[10],[1.0])|                1.0|(11,[1],[1.0])|(23,[1,21,22],[1....|\n",
            "|                    5500|2005| July|              10.0|(11,[10],[1.0])|                1.0|(11,[1],[1.0])|(23,[1,21,22],[1....|\n",
            "|                   12050|2005| July|              10.0|(11,[10],[1.0])|                1.0|(11,[1],[1.0])|(23,[1,21,22],[1....|\n",
            "|                   11638|2005| July|              10.0|(11,[10],[1.0])|                1.0|(11,[1],[1.0])|(23,[1,21,22],[1....|\n",
            "|                    4998|2005| July|              10.0|(11,[10],[1.0])|                1.0|(11,[1],[1.0])|(23,[1,21,22],[1....|\n",
            "|                    4962|2005| July|              10.0|(11,[10],[1.0])|                1.0|(11,[1],[1.0])|(23,[1,21,22],[1....|\n",
            "|                    8055|2005| July|              10.0|(11,[10],[1.0])|                1.0|(11,[1],[1.0])|(23,[1,21,22],[1....|\n",
            "|                    7984|2005| July|              10.0|(11,[10],[1.0])|                1.0|(11,[1],[1.0])|(23,[1,21,22],[1....|\n",
            "|                   36641|2005| July|              10.0|(11,[10],[1.0])|                1.0|(11,[1],[1.0])|(23,[1,21,22],[1....|\n",
            "|                   39379|2005| July|              10.0|(11,[10],[1.0])|                1.0|(11,[1],[1.0])|(23,[1,21,22],[1....|\n",
            "|                    7356|2005| July|              10.0|(11,[10],[1.0])|                1.0|(11,[1],[1.0])|(23,[1,21,22],[1....|\n",
            "|                    7977|2005| July|              10.0|(11,[10],[1.0])|                1.0|(11,[1],[1.0])|(23,[1,21,22],[1....|\n",
            "|                    8837|2005| July|              10.0|(11,[10],[1.0])|                1.0|(11,[1],[1.0])|(23,[1,21,22],[1....|\n",
            "|                    6969|2005| July|              10.0|(11,[10],[1.0])|                1.0|(11,[1],[1.0])|(23,[1,21,22],[1....|\n",
            "|                   10046|2005| July|              10.0|(11,[10],[1.0])|                1.0|(11,[1],[1.0])|(23,[1,21,22],[1....|\n",
            "+------------------------+----+-----+------------------+---------------+-------------------+--------------+--------------------+\n",
            "only showing top 20 rows\n",
            "\n"
          ]
        }
      ]
    },
    {
      "cell_type": "code",
      "source": [
        "# train, test = data_model.randomSplit([0.8, 0.2], seed=42)\n",
        "total_data = data_model.count()\n",
        "train = data_model.limit(int(0.8*total_data))\n",
        "test = data_model.exceptAll(train)"
      ],
      "metadata": {
        "id": "NCzXL4U2LlTG"
      },
      "execution_count": null,
      "outputs": []
    },
    {
      "cell_type": "code",
      "source": [
        "print(\"Longitud del conjunto de datos Train:\", train.count())\n",
        "print(\"Longitud del conjunto de datos Test:\", test.count())"
      ],
      "metadata": {
        "colab": {
          "base_uri": "https://localhost:8080/"
        },
        "id": "V3RYm5alKV9E",
        "outputId": "264e1e07-97d5-4774-e318-3b21574d86cb"
      },
      "execution_count": null,
      "outputs": [
        {
          "output_type": "stream",
          "name": "stdout",
          "text": [
            "Longitud del conjunto de datos Train: 12005\n",
            "Longitud del conjunto de datos Test: 3002\n"
          ]
        }
      ]
    },
    {
      "cell_type": "code",
      "source": [
        "test.show()"
      ],
      "metadata": {
        "colab": {
          "base_uri": "https://localhost:8080/"
        },
        "id": "b4Mp_qrANWe2",
        "outputId": "d527d8a4-6617-451c-ad6d-e75213e447f5"
      },
      "execution_count": null,
      "outputs": [
        {
          "output_type": "stream",
          "name": "stdout",
          "text": [
            "+------------------------+----+---------+------------------+--------------+-------------------+---------------+--------------------+\n",
            "|Adjusted Passenger Count|Year|    month|Year_StringIndexer|      Year_vec|month_StringIndexer|      month_vec|            features|\n",
            "+------------------------+----+---------+------------------+--------------+-------------------+---------------+--------------------+\n",
            "|                    5457|2014|     June|               8.0|(11,[8],[1.0])|                9.0| (11,[9],[1.0])|(23,[9,19,22],[1....|\n",
            "|                    9287|2014|September|               8.0|(11,[8],[1.0])|                2.0| (11,[2],[1.0])|(23,[2,19,22],[1....|\n",
            "|                      51|2015| February|               0.0|(11,[0],[1.0])|                7.0| (11,[7],[1.0])|(23,[7,11,22],[1....|\n",
            "|                    8411|2015|      May|               0.0|(11,[0],[1.0])|               10.0|(11,[10],[1.0])|(23,[10,11,22],[1...|\n",
            "|                     546|2015|     July|               0.0|(11,[0],[1.0])|                1.0| (11,[1],[1.0])|(23,[1,11,22],[1....|\n",
            "|                    8021|2015|   August|               0.0|(11,[0],[1.0])|                0.0| (11,[0],[1.0])|(23,[0,11,22],[1....|\n",
            "|                    7093|2016|    March|              11.0|    (11,[],[])|                8.0| (11,[8],[1.0])|(23,[8,22],[1.0,7...|\n",
            "|                    7894|2016|    March|              11.0|    (11,[],[])|                8.0| (11,[8],[1.0])|(23,[8,22],[1.0,7...|\n",
            "|                    5144|2014|    March|               8.0|(11,[8],[1.0])|                8.0| (11,[8],[1.0])|(23,[8,19,22],[1....|\n",
            "|                   10383|2014|    April|               8.0|(11,[8],[1.0])|               11.0|     (11,[],[])|(23,[19,22],[1.0,...|\n",
            "|                    6614|2014|      May|               8.0|(11,[8],[1.0])|               10.0|(11,[10],[1.0])|(23,[10,19,22],[1...|\n",
            "|                   15101|2014|      May|               8.0|(11,[8],[1.0])|               10.0|(11,[10],[1.0])|(23,[10,19,22],[1...|\n",
            "|                     121|2014|     July|               8.0|(11,[8],[1.0])|                1.0| (11,[1],[1.0])|(23,[1,19,22],[1....|\n",
            "|                   20650|2014|   August|               8.0|(11,[8],[1.0])|                0.0| (11,[0],[1.0])|(23,[0,19,22],[1....|\n",
            "|                    3682|2014| November|               8.0|(11,[8],[1.0])|                5.0| (11,[5],[1.0])|(23,[5,19,22],[1....|\n",
            "|                   10697|2015|    March|               0.0|(11,[0],[1.0])|                8.0| (11,[8],[1.0])|(23,[8,11,22],[1....|\n",
            "|                   10912|2015|    April|               0.0|(11,[0],[1.0])|               11.0|     (11,[],[])|(23,[11,22],[1.0,...|\n",
            "|                    5185|2015|    April|               0.0|(11,[0],[1.0])|               11.0|     (11,[],[])|(23,[11,22],[1.0,...|\n",
            "|                   17960|2015|     June|               0.0|(11,[0],[1.0])|                9.0| (11,[9],[1.0])|(23,[9,11,22],[1....|\n",
            "|                    7799|2015|     June|               0.0|(11,[0],[1.0])|                9.0| (11,[9],[1.0])|(23,[9,11,22],[1....|\n",
            "+------------------------+----+---------+------------------+--------------+-------------------+---------------+--------------------+\n",
            "only showing top 20 rows\n",
            "\n"
          ]
        }
      ]
    },
    {
      "cell_type": "code",
      "source": [
        "from pyspark.ml.regression import LinearRegression"
      ],
      "metadata": {
        "id": "A8oAmuxSNWbu"
      },
      "execution_count": null,
      "outputs": []
    },
    {
      "cell_type": "code",
      "source": [
        "lr = LinearRegression(featuresCol=\"features\", labelCol=\"Adjusted Passenger Count\")\n",
        "lr_model = lr.fit(train)"
      ],
      "metadata": {
        "id": "BPsAZxn7NWX8"
      },
      "execution_count": null,
      "outputs": []
    },
    {
      "cell_type": "code",
      "source": [
        "predictions = lr_model.transform(test)"
      ],
      "metadata": {
        "id": "94iseMU4NWR4"
      },
      "execution_count": null,
      "outputs": []
    },
    {
      "cell_type": "code",
      "source": [
        "from pyspark.ml.evaluation import RegressionEvaluator"
      ],
      "metadata": {
        "id": "bk3tA4EbNWOv"
      },
      "execution_count": null,
      "outputs": []
    },
    {
      "cell_type": "code",
      "source": [
        "evaluator = RegressionEvaluator(labelCol=\"Adjusted Passenger Count\", predictionCol=\"prediction\", metricName=\"rmse\")"
      ],
      "metadata": {
        "id": "rITBcdz4NWLa"
      },
      "execution_count": null,
      "outputs": []
    },
    {
      "cell_type": "code",
      "source": [
        "# Calcula la métrica RMSE\n",
        "rmse = evaluator.evaluate(predictions)\n",
        "print(\"Root Mean Squared Error (RMSE):\", rmse)"
      ],
      "metadata": {
        "colab": {
          "base_uri": "https://localhost:8080/"
        },
        "id": "3OBrk-SANWH9",
        "outputId": "975e8998-fe91-4e67-d390-edbfbfa795e0"
      },
      "execution_count": null,
      "outputs": [
        {
          "output_type": "stream",
          "name": "stdout",
          "text": [
            "Root Mean Squared Error (RMSE): 0.0013697356856249942\n"
          ]
        }
      ]
    },
    {
      "cell_type": "code",
      "source": [
        "real = predictions.select(\"Adjusted Passenger Count\").collect()\n",
        "pred = predictions.select(\"prediction\").collect()\n",
        "x = predictions.select(\"Year\").collect()"
      ],
      "metadata": {
        "id": "9ysfjkC2NWE0"
      },
      "execution_count": null,
      "outputs": []
    },
    {
      "cell_type": "code",
      "source": [
        "# Dibujar un gráfico de líneas con los valores reales y predichos\n",
        "plt.figure(figsize=(10, 6))\n",
        "plt.scatter(x, real, label=\"real\")\n",
        "plt.scatter(x, pred, label=\"prediction\")\n",
        "plt.legend()\n",
        "plt.show()"
      ],
      "metadata": {
        "colab": {
          "base_uri": "https://localhost:8080/",
          "height": 374
        },
        "id": "gWzjXG4rNWAo",
        "outputId": "18637dca-a490-4939-d5b6-7321d8d41af4"
      },
      "execution_count": null,
      "outputs": [
        {
          "output_type": "display_data",
          "data": {
            "text/plain": [
              "<Figure size 720x432 with 1 Axes>"
            ],
            "image/png": "[encoded data removed]"
          },
          "metadata": {
            "needs_background": "light"
          }
        }
      ]
    },
    {
      "cell_type": "code",
      "source": [],
      "metadata": {
        "id": "JpBFBP1FNV9F"
      },
      "execution_count": null,
      "outputs": []
    }
  ]
}